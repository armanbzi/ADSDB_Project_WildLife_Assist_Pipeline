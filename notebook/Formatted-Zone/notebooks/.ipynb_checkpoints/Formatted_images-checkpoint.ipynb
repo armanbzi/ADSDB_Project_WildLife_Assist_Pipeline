{
 "cells": [
  {
   "cell_type": "code",
   "execution_count": 4,
   "id": "7efffba4-8f04-497e-ad59-661dfd733e39",
   "metadata": {
    "scrolled": true
   },
   "outputs": [
    {
     "name": "stdout",
     "output_type": "stream",
     "text": [
      "✅ Formatted-zone bucket already exists\n",
      "📦 Found 4932 existing formatted images.\n",
      "🔍 Found 6098 files in Persistent Landing.\n"
     ]
    },
    {
     "name": "stderr",
     "output_type": "stream",
     "text": [
      "Processing images:   0%|                                                              | 7/6098 [00:00<02:26, 41.44it/s]"
     ]
    },
    {
     "name": "stdout",
     "output_type": "stream",
     "text": [
      "✅ Uploaded: images/Animalia/Squamata/Aniliidae/scytale/327bfdb5-c2ad-4cf6-a078-5a00cae3ddc4.jpg\n"
     ]
    },
    {
     "name": "stderr",
     "output_type": "stream",
     "text": [
      "Processing images:   1%|▋                                                           | 65/6098 [00:00<00:21, 275.60it/s]"
     ]
    },
    {
     "name": "stdout",
     "output_type": "stream",
     "text": [
      "✅ Uploaded: images/Animalia/Squamata/Aniliidae/scytale/e60f5bd1-b134-4dfe-83ea-fa08b882ce33.jpg\n",
      "✅ Uploaded: images/Animalia/Squamata/Anomalepididae/bondensis/cc4447d6-6047-4e61-b202-4efa89f0c224.jpg\n"
     ]
    },
    {
     "name": "stderr",
     "output_type": "stream",
     "text": [
      "Processing images:   2%|▉                                                           | 98/6098 [00:00<00:22, 265.78it/s]"
     ]
    },
    {
     "name": "stdout",
     "output_type": "stream",
     "text": [
      "✅ Uploaded: images/Animalia/Squamata/Atractaspididae/bibronii/38cc660f-9560-423d-aeb6-4edb7c286b99.jpg\n",
      "✅ Uploaded: images/Animalia/Squamata/Atractaspididae/bibronii/492425e8-6a9f-406d-8ca4-4ba2924f0a6f.jpg\n",
      "✅ Uploaded: images/Animalia/Squamata/Atractaspididae/bibronii/9f207d4c-cbe4-4771-814a-60c4be894605.jpg\n",
      "✅ Uploaded: images/Animalia/Squamata/Atractaspididae/bibronii/a76d1023-a49a-4227-a12c-d0e0864ea165.jpg\n",
      "✅ Uploaded: images/Animalia/Squamata/Atractaspididae/bibronii/b5d61b57-2cc2-49a9-9842-d9429348d397.jpg\n",
      "✅ Uploaded: images/Animalia/Squamata/Atractaspididae/bibronii/b6403418-af4b-4059-90e3-4caaa4f8c333.jpg\n",
      "✅ Uploaded: images/Animalia/Squamata/Atractaspididae/bibronii/b6b2d4b7-c631-4427-a22c-2a551238c0e7.jpg\n"
     ]
    },
    {
     "name": "stderr",
     "output_type": "stream",
     "text": [
      "Processing images:   2%|█▎                                                          | 128/6098 [00:01<01:06, 89.91it/s]"
     ]
    },
    {
     "name": "stdout",
     "output_type": "stream",
     "text": [
      "✅ Uploaded: images/Animalia/Squamata/Atractaspididae/bibronii/c9686dd2-35f5-4961-8d7b-8bb0f69cab85.jpg\n",
      "✅ Uploaded: images/Animalia/Squamata/Atractaspididae/bibronii/cc9f5313-3684-4cce-bbd4-2cc1fe5a8ea0.jpg\n",
      "✅ Uploaded: images/Animalia/Squamata/Atractaspididae/bibronii/e15e30ac-27c8-42be-8233-2e04bde77a9d.jpg\n"
     ]
    },
    {
     "name": "stderr",
     "output_type": "stream",
     "text": [
      "Processing images:   2%|█▍                                                         | 148/6098 [00:01<00:57, 103.51it/s]"
     ]
    },
    {
     "name": "stdout",
     "output_type": "stream",
     "text": [
      "✅ Uploaded: images/Animalia/Squamata/Atractaspididae/capensis/a9fc3d08-8a36-4dc7-abfa-2f2ad4a32c93.jpg\n",
      "✅ Uploaded: images/Animalia/Squamata/Atractaspididae/capensis/af9b798b-78ee-4640-831e-fd1b22221118.jpg\n",
      "✅ Uploaded: images/Animalia/Squamata/Atractaspididae/capensis/fe015368-4133-4805-bcf5-62077e3b0114.jpg\n",
      "✅ Uploaded: images/Animalia/Squamata/Atractaspididae/concolor/09b55327-d80c-450d-a681-9c619526b0b7.jpg\n",
      "✅ Uploaded: images/Animalia/Squamata/Atractaspididae/concolor/1dbfd87b-06fa-44e4-a12d-6361d08c9896.jpg\n",
      "✅ Uploaded: images/Animalia/Squamata/Atractaspididae/concolor/3710e7c9-8d80-466d-861a-0504c6cbb304.jpg\n",
      "✅ Uploaded: images/Animalia/Squamata/Atractaspididae/concolor/3f481bfb-a378-4b36-a7a6-8158095aca64.jpg\n",
      "✅ Uploaded: images/Animalia/Squamata/Atractaspididae/concolor/5eba1a82-66c4-47ad-b3e7-959296f022e1.jpg\n",
      "✅ Uploaded: images/Animalia/Squamata/Atractaspididae/concolor/608226e7-310e-4f3f-a7aa-2b78933fe74c.jpg\n",
      "✅ Uploaded: images/Animalia/Squamata/Atractaspididae/concolor/d3d56c58-7430-4282-81f9-8da7fd807a19.jpg\n",
      "✅ Uploaded: images/Animalia/Squamata/Atractaspididae/concolor/f04bc330-df4c-4075-a204-ac34090b7f08.jpg\n",
      "✅ Uploaded: images/Animalia/Squamata/Atractaspididae/concolor/fae09ff6-cf3f-4942-a0d8-63b3c011a9b5.jpg\n"
     ]
    },
    {
     "name": "stderr",
     "output_type": "stream",
     "text": [
      "Processing images:   4%|██▏                                                        | 232/6098 [00:02<00:48, 121.11it/s]"
     ]
    },
    {
     "name": "stdout",
     "output_type": "stream",
     "text": [
      "✅ Uploaded: images/Animalia/Squamata/Atractaspididae/duerdeni/33dac2cf-0c90-4828-ab7f-c88bc34d4970.jpg\n",
      "✅ Uploaded: images/Animalia/Squamata/Atractaspididae/duerdeni/705efb90-44e4-4980-93c5-cf4e8b6cab62.jpg\n",
      "✅ Uploaded: images/Animalia/Squamata/Atractaspididae/lacteus/1d135485-48e3-469e-9a1c-5676dc6b0fe9.jpg\n",
      "✅ Uploaded: images/Animalia/Squamata/Atractaspididae/lacteus/8022ad7c-c309-49f7-bb62-3dc9d55850f2.jpg\n",
      "✅ Uploaded: images/Animalia/Squamata/Atractaspididae/lacteus/a5e2156e-d2df-49fa-8872-049b4a6e066d.jpg\n",
      "✅ Uploaded: images/Animalia/Squamata/Atractaspididae/lacteus/ebb5b62d-a51a-41b0-8b2f-2920d3cc3aa3.jpg\n",
      "✅ Uploaded: images/Animalia/Squamata/Atractaspididae/lunulatus/955dbec8-a2d4-45e9-948c-740428fba7ff.jpg\n"
     ]
    },
    {
     "name": "stderr",
     "output_type": "stream",
     "text": [
      "Processing images:   4%|██▌                                                        | 259/6098 [00:02<00:44, 131.98it/s]"
     ]
    },
    {
     "name": "stdout",
     "output_type": "stream",
     "text": [
      "✅ Uploaded: images/Animalia/Squamata/Atractaspididae/lunulatus/de579684-ef0a-436e-af66-0f1d869dcce4.jpg\n",
      "✅ Uploaded: images/Animalia/Squamata/Atractaspididae/microlepidotus/58eab2fa-4694-48fb-a53c-0a5dbddf000c.jpg\n",
      "✅ Uploaded: images/Animalia/Squamata/Atractaspididae/microlepidotus/c805de87-1a4c-48e9-8fc5-ca48142ad442.jpg\n"
     ]
    },
    {
     "name": "stderr",
     "output_type": "stream",
     "text": [
      "Processing images:   5%|██▉                                                        | 308/6098 [00:02<00:45, 127.33it/s]"
     ]
    },
    {
     "name": "stdout",
     "output_type": "stream",
     "text": [
      "✅ Uploaded: images/Animalia/Squamata/Atractaspididae/microlepidotus/d0f9f993-83db-4883-b573-42ec03f8be99.jpg\n",
      "✅ Uploaded: images/Animalia/Squamata/Atractaspididae/polylepis/281c2330-ea2a-4475-951e-fd15e0130443.jpg\n",
      "✅ Uploaded: images/Animalia/Squamata/Atractaspididae/polylepis/3d2b42af-ea79-4f53-a511-4ff79723a404.jpg\n",
      "✅ Uploaded: images/Animalia/Squamata/Atractaspididae/polylepis/92d3fe91-b726-46f0-8d26-ad1540b607a3.jpg\n"
     ]
    },
    {
     "name": "stderr",
     "output_type": "stream",
     "text": [
      "Processing images:   5%|███▏                                                       | 326/6098 [00:02<00:46, 123.21it/s]"
     ]
    },
    {
     "name": "stdout",
     "output_type": "stream",
     "text": [
      "✅ Uploaded: images/Animalia/Squamata/Atractaspididae/polylepis/d2c290ed-9eb9-4681-b720-3d774424f393.jpg\n",
      "✅ Uploaded: images/Animalia/Squamata/Atractaspididae/polylepis/f4189c04-4b76-428a-988e-1a32f221daee.jpg\n",
      "✅ Uploaded: images/Animalia/Squamata/Atractaspididae/polylepis/f55b92fc-03f6-4c5a-ae69-dce2316f778d.jpg\n"
     ]
    },
    {
     "name": "stderr",
     "output_type": "stream",
     "text": [
      "Processing images:   6%|███▎                                                       | 342/6098 [00:03<00:56, 101.24it/s]"
     ]
    },
    {
     "name": "stdout",
     "output_type": "stream",
     "text": [
      "✅ Uploaded: images/Animalia/Squamata/Atractaspididae/werneri/05e88a9b-9353-43e6-92ec-18a69d53b0d8.jpg\n",
      "✅ Uploaded: images/Animalia/Squamata/Atractaspididae/werneri/6341c753-2f57-4485-85ab-df79262d1b5d.jpg\n",
      "✅ Uploaded: images/Animalia/Squamata/Boidae/bottae/0a111f1a-210b-44fd-8829-478672d2f9b4.jpg\n",
      "✅ Uploaded: images/Animalia/Squamata/Boidae/bottae/1a27325d-5def-4a73-bfd7-a06dd30ca543.jpg\n"
     ]
    },
    {
     "name": "stderr",
     "output_type": "stream",
     "text": [
      "Processing images:   6%|███▋                                                        | 369/6098 [00:03<01:01, 92.56it/s]"
     ]
    },
    {
     "name": "stdout",
     "output_type": "stream",
     "text": [
      "✅ Uploaded: images/Animalia/Squamata/Boidae/bottae/25eabca4-355b-4df2-8a22-c89e4014930b.jpg\n",
      "✅ Uploaded: images/Animalia/Squamata/Boidae/bottae/34d0f919-1cf3-4ec0-8544-84a0503ce44a.jpg\n",
      "✅ Uploaded: images/Animalia/Squamata/Boidae/bottae/4199223c-37ae-4537-b0fd-f1fa03f7c06e.jpg\n"
     ]
    },
    {
     "name": "stderr",
     "output_type": "stream",
     "text": [
      "Processing images:   6%|███▋                                                        | 380/6098 [00:03<01:07, 85.12it/s]"
     ]
    },
    {
     "name": "stdout",
     "output_type": "stream",
     "text": [
      "✅ Uploaded: images/Animalia/Squamata/Boidae/bottae/4dd1ca3c-c0b5-410a-b5a4-87f42f0873df.jpg\n",
      "✅ Uploaded: images/Animalia/Squamata/Boidae/bottae/6e547347-8da8-416f-8758-9c4ef250ef5d.jpg\n",
      "✅ Uploaded: images/Animalia/Squamata/Boidae/bottae/7e194f9a-ab45-4b87-b508-69a4c7ff1119.jpg\n"
     ]
    },
    {
     "name": "stderr",
     "output_type": "stream",
     "text": [
      "Processing images:   7%|███▉                                                        | 402/6098 [00:03<01:11, 79.30it/s]"
     ]
    },
    {
     "name": "stdout",
     "output_type": "stream",
     "text": [
      "✅ Uploaded: images/Animalia/Squamata/Boidae/bottae/886bb9c9-4d44-4068-b5ed-87e4b5e7bb69.jpg\n",
      "✅ Uploaded: images/Animalia/Squamata/Boidae/bottae/90d35b62-d56d-47cf-9687-a96974c94dfc.jpg\n",
      "✅ Uploaded: images/Animalia/Squamata/Boidae/bottae/a6a4b01d-16f9-44f2-9d09-f4ee9c87e6b4.jpg\n"
     ]
    },
    {
     "name": "stderr",
     "output_type": "stream",
     "text": [
      "Processing images:   7%|████                                                        | 412/6098 [00:03<01:11, 79.48it/s]"
     ]
    },
    {
     "name": "stdout",
     "output_type": "stream",
     "text": [
      "✅ Uploaded: images/Animalia/Squamata/Boidae/bottae/ba48daf0-bd7a-4286-a860-4e0f12b5f491.jpg\n",
      "✅ Uploaded: images/Animalia/Squamata/Boidae/bottae/bb955007-6b9f-4e3e-98e4-f2eba09d28b8.jpg\n",
      "✅ Uploaded: images/Animalia/Squamata/Boidae/bottae/c03f004a-2ccc-412d-bb0e-33aa226b8014.jpg\n"
     ]
    },
    {
     "name": "stderr",
     "output_type": "stream",
     "text": [
      "Processing images:   7%|████▏                                                       | 421/6098 [00:04<01:33, 60.96it/s]"
     ]
    },
    {
     "name": "stdout",
     "output_type": "stream",
     "text": [
      "✅ Uploaded: images/Animalia/Squamata/Boidae/bottae/c6138b74-fcec-4b1e-ae9c-16ec08e76d58.jpg\n",
      "✅ Uploaded: images/Animalia/Squamata/Boidae/bottae/cd3b93d4-c24e-4fe7-843a-be174439c41f.jpg\n"
     ]
    },
    {
     "name": "stderr",
     "output_type": "stream",
     "text": [
      "Processing images:   7%|████▎                                                       | 434/6098 [00:04<02:01, 46.52it/s]"
     ]
    },
    {
     "name": "stdout",
     "output_type": "stream",
     "text": [
      "✅ Uploaded: images/Animalia/Squamata/Boidae/bottae/d074dbc7-8fa9-4b02-82ca-161c3b4f0c9f.jpg\n",
      "✅ Uploaded: images/Animalia/Squamata/Boidae/bottae/d316a263-0410-4234-8667-e7308d512cc1.jpg\n",
      "✅ Uploaded: images/Animalia/Squamata/Boidae/bottae/d9bda8a1-3615-4cee-9915-2a7cbcff83f5.jpg\n"
     ]
    },
    {
     "name": "stderr",
     "output_type": "stream",
     "text": [
      "Processing images:   7%|████▍                                                       | 452/6098 [00:04<01:24, 66.55it/s]"
     ]
    },
    {
     "name": "stdout",
     "output_type": "stream",
     "text": [
      "✅ Uploaded: images/Animalia/Squamata/Boidae/bottae/ebc90068-5ff2-437d-8666-4c0890cd22b4.jpg\n",
      "✅ Uploaded: images/Animalia/Squamata/Boidae/conicus/1e3b3b26-dc28-4d9c-b277-33a69b46047a.jpg\n",
      "✅ Uploaded: images/Animalia/Squamata/Boidae/conicus/20192167-cf67-46e2-a3f0-d1a735685532.jpg\n",
      "✅ Uploaded: images/Animalia/Squamata/Boidae/conicus/342a3756-b3cc-4bab-b5d1-ae0f714566b5.jpg\n"
     ]
    },
    {
     "name": "stderr",
     "output_type": "stream",
     "text": [
      "Processing images:   8%|████▌                                                       | 460/6098 [00:05<02:43, 34.39it/s]"
     ]
    },
    {
     "name": "stdout",
     "output_type": "stream",
     "text": [
      "✅ Uploaded: images/Animalia/Squamata/Boidae/conicus/40c91abf-8385-47fa-ad66-0a90363122dd.jpg\n",
      "✅ Uploaded: images/Animalia/Squamata/Boidae/conicus/41d7adf4-2eb3-44f3-b29e-414a4878780f.jpg\n",
      "✅ Uploaded: images/Animalia/Squamata/Boidae/conicus/59a5d687-c970-401c-ac90-77f6f65999b2.jpg\n",
      "✅ Uploaded: images/Animalia/Squamata/Boidae/conicus/59b542ac-878a-449c-858a-9a7e600512ce.jpg\n"
     ]
    },
    {
     "name": "stderr",
     "output_type": "stream",
     "text": [
      "Processing images:   8%|████▌                                                       | 466/6098 [00:05<03:03, 30.66it/s]"
     ]
    },
    {
     "name": "stdout",
     "output_type": "stream",
     "text": [
      "✅ Uploaded: images/Animalia/Squamata/Boidae/conicus/5bc66828-31fa-46e5-a9eb-5dbcde6f193f.jpg\n",
      "✅ Uploaded: images/Animalia/Squamata/Boidae/conicus/6248ed2a-2331-446a-8d32-a5dc3aebd93a.jpg\n",
      "✅ Uploaded: images/Animalia/Squamata/Boidae/conicus/8a71f2cc-547a-4ac5-b945-038ab219bc66.jpg\n",
      "✅ Uploaded: images/Animalia/Squamata/Boidae/conicus/8a9f71e5-f593-40c5-9db0-c2478239dba9.jpg\n"
     ]
    },
    {
     "name": "stderr",
     "output_type": "stream",
     "text": [
      "Processing images:   8%|████▋                                                       | 471/6098 [00:05<03:09, 29.63it/s]"
     ]
    },
    {
     "name": "stdout",
     "output_type": "stream",
     "text": [
      "✅ Uploaded: images/Animalia/Squamata/Boidae/conicus/8e6ee047-cc0f-4181-984c-6939cea4ed96.jpg\n",
      "✅ Uploaded: images/Animalia/Squamata/Boidae/conicus/a778b2bc-3b47-44a1-9c52-128c4a2a2cd6.jpg\n",
      "✅ Uploaded: images/Animalia/Squamata/Boidae/conicus/a7e4a9c7-5b76-4a9d-9d1c-bca74a6db3ae.jpg\n"
     ]
    },
    {
     "name": "stderr",
     "output_type": "stream",
     "text": [
      "Processing images:   8%|████▋                                                       | 476/6098 [00:06<03:50, 24.36it/s]"
     ]
    },
    {
     "name": "stdout",
     "output_type": "stream",
     "text": [
      "✅ Uploaded: images/Animalia/Squamata/Boidae/conicus/b11785f1-12a8-4b13-bd40-e6753f99ed81.jpg\n",
      "✅ Uploaded: images/Animalia/Squamata/Boidae/conicus/b2e5af47-66f3-46cd-897d-43006a11d31a.jpg\n",
      "✅ Uploaded: images/Animalia/Squamata/Boidae/conicus/b868eb28-a6c1-4c47-822d-414c96bdc08d.jpg\n",
      "✅ Uploaded: images/Animalia/Squamata/Boidae/conicus/b92f351c-ea8a-4784-91b6-81d1d18fe837.jpg\n",
      "✅ Uploaded: images/Animalia/Squamata/Boidae/conicus/c919d7dd-40c0-4cd6-b1c6-3dab4ec89661.jpg\n"
     ]
    },
    {
     "name": "stderr",
     "output_type": "stream",
     "text": [
      "Processing images:   8%|████▊                                                       | 486/6098 [00:06<03:27, 27.11it/s]"
     ]
    },
    {
     "name": "stdout",
     "output_type": "stream",
     "text": [
      "✅ Uploaded: images/Animalia/Squamata/Boidae/conicus/f84465fc-c94f-479b-8e77-9b7ed3713a8a.jpg\n",
      "✅ Uploaded: images/Animalia/Squamata/Boidae/constrictor/083c25b8-3167-4627-915e-04f9e1689dbb.jpg\n"
     ]
    },
    {
     "name": "stderr",
     "output_type": "stream",
     "text": [
      "Processing images:   8%|████▊                                                       | 490/6098 [00:06<03:36, 25.94it/s]"
     ]
    },
    {
     "name": "stdout",
     "output_type": "stream",
     "text": [
      "✅ Uploaded: images/Animalia/Squamata/Boidae/constrictor/1f92b6d1-02e2-4267-955c-27995c5f3f89.jpg\n",
      "✅ Uploaded: images/Animalia/Squamata/Boidae/constrictor/26999b40-e934-4446-b117-8712dc929471.jpg\n",
      "✅ Uploaded: images/Animalia/Squamata/Boidae/constrictor/3445ade7-1e75-49fd-89c9-5377491a9caa.jpg\n"
     ]
    },
    {
     "name": "stderr",
     "output_type": "stream",
     "text": [
      "Processing images:   8%|████▉                                                       | 496/6098 [00:06<04:01, 23.21it/s]"
     ]
    },
    {
     "name": "stdout",
     "output_type": "stream",
     "text": [
      "✅ Uploaded: images/Animalia/Squamata/Boidae/constrictor/3dc25b3a-3fe5-4e14-b522-b2d4a9103f27.jpg\n",
      "✅ Uploaded: images/Animalia/Squamata/Boidae/constrictor/5fdd90d7-c584-4dec-9ce3-63ed05092d82.jpg\n",
      "✅ Uploaded: images/Animalia/Squamata/Boidae/constrictor/614604c9-de53-4804-b931-b5867169e5ac.jpg\n"
     ]
    },
    {
     "name": "stderr",
     "output_type": "stream",
     "text": [
      "Processing images:   8%|████▉                                                       | 505/6098 [00:07<03:25, 27.26it/s]"
     ]
    },
    {
     "name": "stdout",
     "output_type": "stream",
     "text": [
      "✅ Uploaded: images/Animalia/Squamata/Boidae/constrictor/70ab6a76-dc36-4225-a0ac-e2497cd0cd2f.jpg\n",
      "✅ Uploaded: images/Animalia/Squamata/Boidae/constrictor/7681a750-21ea-498b-8281-54a99a751b28.jpg\n"
     ]
    },
    {
     "name": "stderr",
     "output_type": "stream",
     "text": [
      "Processing images:   8%|█████                                                       | 511/6098 [00:07<03:48, 24.48it/s]"
     ]
    },
    {
     "name": "stdout",
     "output_type": "stream",
     "text": [
      "✅ Uploaded: images/Animalia/Squamata/Boidae/constrictor/7c93a071-d474-415f-a232-6f690935876a.jpg\n",
      "✅ Uploaded: images/Animalia/Squamata/Boidae/constrictor/92fb352d-4b4b-4008-9faf-06b04c2e3d57.jpg\n",
      "✅ Uploaded: images/Animalia/Squamata/Boidae/constrictor/9da0e673-3358-4f62-929d-6f1c130dd1aa.jpg\n"
     ]
    },
    {
     "name": "stderr",
     "output_type": "stream",
     "text": [
      "Processing images:   8%|█████                                                       | 517/6098 [00:07<03:05, 30.05it/s]"
     ]
    },
    {
     "name": "stdout",
     "output_type": "stream",
     "text": [
      "✅ Uploaded: images/Animalia/Squamata/Boidae/constrictor/a443436f-e809-4b14-b7a1-96d7046569a6.jpg\n",
      "✅ Uploaded: images/Animalia/Squamata/Boidae/constrictor/b678f5d4-e3d9-4cea-a461-2091cbc30d0a.jpg\n",
      "✅ Uploaded: images/Animalia/Squamata/Boidae/constrictor/b9743ba9-2610-49f7-b699-588b9c067666.jpg\n"
     ]
    },
    {
     "name": "stderr",
     "output_type": "stream",
     "text": [
      "Processing images:   9%|█████▏                                                      | 521/6098 [00:07<04:02, 22.97it/s]"
     ]
    },
    {
     "name": "stdout",
     "output_type": "stream",
     "text": [
      "✅ Uploaded: images/Animalia/Squamata/Boidae/constrictor/bc764725-db13-4e63-9f5c-a612fb99198e.jpg\n",
      "✅ Uploaded: images/Animalia/Squamata/Boidae/constrictor/c11f7f00-a291-4f9d-a007-944b1b79cf56.jpg\n"
     ]
    },
    {
     "name": "stderr",
     "output_type": "stream",
     "text": [
      "Processing images:   9%|█████▏                                                      | 524/6098 [00:08<04:24, 21.08it/s]"
     ]
    },
    {
     "name": "stdout",
     "output_type": "stream",
     "text": [
      "✅ Uploaded: images/Animalia/Squamata/Boidae/constrictor/c8926e35-b865-4264-98ca-6facc1c7c851.jpg\n",
      "✅ Uploaded: images/Animalia/Squamata/Boidae/constrictor/cb7c9d64-a781-43c9-be84-63cf812ce113.jpg\n",
      "✅ Uploaded: images/Animalia/Squamata/Boidae/constrictor/d029698b-2974-43ae-842c-caccda4e7fd2.jpg\n",
      "✅ Uploaded: images/Animalia/Squamata/Boidae/hortulana/096b4ee0-2a77-47b5-b481-eaa330cc3fe0.jpg\n"
     ]
    },
    {
     "name": "stderr",
     "output_type": "stream",
     "text": [
      "Processing images:   9%|█████▍                                                      | 553/6098 [00:08<01:52, 49.48it/s]"
     ]
    },
    {
     "name": "stdout",
     "output_type": "stream",
     "text": [
      "✅ Uploaded: images/Animalia/Squamata/Boidae/hortulana/0e081ba2-b57b-4549-9f29-19d839108204.jpg\n",
      "✅ Uploaded: images/Animalia/Squamata/Boidae/hortulana/2f2d5839-b02d-4bb8-8bc2-dcce54426141.jpg\n",
      "✅ Uploaded: images/Animalia/Squamata/Boidae/hortulana/3de8412d-dc32-4cd9-9f69-009250b3d7c6.jpg\n"
     ]
    },
    {
     "name": "stderr",
     "output_type": "stream",
     "text": [
      "Processing images:   9%|█████▌                                                      | 559/6098 [00:08<02:21, 39.27it/s]"
     ]
    },
    {
     "name": "stdout",
     "output_type": "stream",
     "text": [
      "✅ Uploaded: images/Animalia/Squamata/Boidae/hortulana/548cdb26-cbbe-4afd-a2cf-288075a06bb6.jpg\n",
      "✅ Uploaded: images/Animalia/Squamata/Boidae/hortulana/5d62d1dd-e749-4136-9168-0931d1f075a5.jpg\n",
      "✅ Uploaded: images/Animalia/Squamata/Boidae/hortulana/6d2805ac-7e47-4308-b1f0-26d1b6cfc1f6.jpg\n"
     ]
    },
    {
     "name": "stderr",
     "output_type": "stream",
     "text": [
      "Processing images:   9%|█████▌                                                      | 569/6098 [00:08<02:20, 39.47it/s]"
     ]
    },
    {
     "name": "stdout",
     "output_type": "stream",
     "text": [
      "✅ Uploaded: images/Animalia/Squamata/Boidae/hortulana/6f55c2d8-8f7f-41f3-900d-a4064952dd5a.jpg\n",
      "✅ Uploaded: images/Animalia/Squamata/Boidae/hortulana/7ef7da32-dd71-4d6b-bedc-06033e549c9a.jpg\n",
      "✅ Uploaded: images/Animalia/Squamata/Boidae/hortulana/87bf6c8a-6198-495e-93dc-8db47b026633.jpg\n",
      "✅ Uploaded: images/Animalia/Squamata/Boidae/hortulana/96c00b4b-d8c5-44b2-9d43-070358af83c7.jpg\n"
     ]
    },
    {
     "name": "stderr",
     "output_type": "stream",
     "text": [
      "Processing images:  10%|█████▋                                                      | 581/6098 [00:09<02:07, 43.35it/s]"
     ]
    },
    {
     "name": "stdout",
     "output_type": "stream",
     "text": [
      "✅ Uploaded: images/Animalia/Squamata/Boidae/hortulana/a942469e-67af-4914-bb8d-ba6a90f16864.jpg\n",
      "✅ Uploaded: images/Animalia/Squamata/Boidae/hortulana/b43c506e-85bc-4644-ba65-408da769ea3f.jpg\n",
      "✅ Uploaded: images/Animalia/Squamata/Boidae/hortulana/c7483dea-d131-42e6-832a-ac6e2287b92a.jpg\n",
      "✅ Uploaded: images/Animalia/Squamata/Boidae/hortulana/d20f5187-53d5-4c4a-bed8-af513df933f2.jpg\n",
      "✅ Uploaded: images/Animalia/Squamata/Boidae/hortulana/d2b78467-f3f5-4062-b063-ef9941934426.jpg\n",
      "✅ Uploaded: images/Animalia/Squamata/Boidae/hortulana/d5405f09-e082-49e5-8345-ac5bff77c8bd.jpg\n",
      "✅ Uploaded: images/Animalia/Squamata/Boidae/hortulana/e6807a9d-4522-49ae-ac18-c1a4f2540e35.jpg\n"
     ]
    },
    {
     "name": "stderr",
     "output_type": "stream",
     "text": [
      "Processing images:  10%|█████▊                                                      | 591/6098 [00:09<02:51, 32.09it/s]"
     ]
    },
    {
     "name": "stdout",
     "output_type": "stream",
     "text": [
      "✅ Uploaded: images/Animalia/Squamata/Boidae/hortulana/e8dbdabc-37e5-466b-b694-ac00d86f58c1.jpg\n",
      "✅ Uploaded: images/Animalia/Squamata/Boidae/hortulana/ed5d537e-e677-4df1-9496-bc4429c8e2af.jpg\n",
      "✅ Uploaded: images/Animalia/Squamata/Boidae/imperator/004248d5-e538-42d4-a3a1-2c74db62e021.jpg\n",
      "✅ Uploaded: images/Animalia/Squamata/Boidae/imperator/026ecca0-1b85-40f9-b320-c3f8d9cf06d3.jpg\n"
     ]
    },
    {
     "name": "stderr",
     "output_type": "stream",
     "text": [
      "Processing images:  10%|██████                                                      | 622/6098 [00:09<01:16, 71.58it/s]"
     ]
    },
    {
     "name": "stdout",
     "output_type": "stream",
     "text": [
      "✅ Uploaded: images/Animalia/Squamata/Boidae/imperator/236a191a-ed89-49af-a4f6-2c30a9481421.jpg\n",
      "✅ Uploaded: images/Animalia/Squamata/Boidae/imperator/4308dfbb-2a27-49f9-af0e-3d34a0795bc1.jpg\n",
      "✅ Uploaded: images/Animalia/Squamata/Boidae/imperator/481cb36e-bdc1-4a47-b201-33c998cbf6ff.jpg\n"
     ]
    },
    {
     "name": "stderr",
     "output_type": "stream",
     "text": [
      "Processing images:  11%|██████▎                                                     | 641/6098 [00:10<01:19, 68.62it/s]"
     ]
    },
    {
     "name": "stdout",
     "output_type": "stream",
     "text": [
      "✅ Uploaded: images/Animalia/Squamata/Boidae/imperator/501ab6f0-13c3-4e16-97f7-cf3d343490cc.jpg\n",
      "✅ Uploaded: images/Animalia/Squamata/Boidae/imperator/5aa8db30-3a83-4586-839c-096f6de359b6.jpg\n",
      "✅ Uploaded: images/Animalia/Squamata/Boidae/imperator/70f71d9b-cb9c-45ce-beea-3dde3c937e1a.jpg\n"
     ]
    },
    {
     "name": "stderr",
     "output_type": "stream",
     "text": [
      "Processing images:  11%|██████▌                                                     | 663/6098 [00:10<01:17, 70.05it/s]"
     ]
    },
    {
     "name": "stdout",
     "output_type": "stream",
     "text": [
      "✅ Uploaded: images/Animalia/Squamata/Boidae/imperator/7e33451a-368d-48f5-92c3-9510c54ac248.jpg\n",
      "✅ Uploaded: images/Animalia/Squamata/Boidae/imperator/8da75b48-f825-40cb-ba54-191329f1eca2.jpg\n",
      "✅ Uploaded: images/Animalia/Squamata/Boidae/imperator/9717851d-c338-4b98-b4e8-32db9822b244.jpg\n"
     ]
    },
    {
     "name": "stderr",
     "output_type": "stream",
     "text": [
      "Processing images:  11%|██████▌                                                     | 672/6098 [00:10<01:29, 60.58it/s]"
     ]
    },
    {
     "name": "stdout",
     "output_type": "stream",
     "text": [
      "✅ Uploaded: images/Animalia/Squamata/Boidae/imperator/9c4c2abb-ccf0-4617-9133-a62a0a4026cd.jpg\n",
      "✅ Uploaded: images/Animalia/Squamata/Boidae/imperator/a0db14ab-7096-4339-b18c-71147b341333.jpg\n"
     ]
    },
    {
     "name": "stderr",
     "output_type": "stream",
     "text": [
      "Processing images:  11%|██████▋                                                     | 685/6098 [00:10<01:18, 69.38it/s]"
     ]
    },
    {
     "name": "stdout",
     "output_type": "stream",
     "text": [
      "✅ Uploaded: images/Animalia/Squamata/Boidae/imperator/bd7ac4d7-bc8c-43da-b078-5f845514da85.jpg\n",
      "✅ Uploaded: images/Animalia/Squamata/Boidae/imperator/c04b8350-cad2-436c-be5f-a46165608836.jpg\n",
      "✅ Uploaded: images/Animalia/Squamata/Boidae/imperator/c799dbbf-899b-4a0d-881f-cd55c24767b2.jpg\n"
     ]
    },
    {
     "name": "stderr",
     "output_type": "stream",
     "text": [
      "Processing images:  11%|██████▉                                                     | 700/6098 [00:11<01:38, 54.65it/s]"
     ]
    },
    {
     "name": "stdout",
     "output_type": "stream",
     "text": [
      "✅ Uploaded: images/Animalia/Squamata/Boidae/imperator/d2906201-99aa-4482-9e45-dd127c3c8be7.jpg\n",
      "✅ Uploaded: images/Animalia/Squamata/Boidae/imperator/de4d71f7-70fc-423b-959a-4fd15a37ea08.jpg\n",
      "✅ Uploaded: images/Animalia/Squamata/Boidae/imperator/de870a2e-2c52-4ea4-bf14-747f74fae398.jpg\n",
      "✅ Uploaded: images/Animalia/Squamata/Boidae/imperator/e858cbb1-6abc-4ed4-a3fd-e3faeabd51bd.jpg\n",
      "✅ Uploaded: images/Animalia/Squamata/Boidae/jaculus/15785597-3859-4e3f-8329-c7e404ffe5d4.jpg\n"
     ]
    },
    {
     "name": "stderr",
     "output_type": "stream",
     "text": [
      "Processing images:  12%|███████                                                     | 713/6098 [00:11<01:27, 61.59it/s]"
     ]
    },
    {
     "name": "stdout",
     "output_type": "stream",
     "text": [
      "✅ Uploaded: images/Animalia/Squamata/Boidae/jaculus/164e5f0d-a928-4f46-b462-a2e8196825bb.jpg\n",
      "✅ Uploaded: images/Animalia/Squamata/Boidae/jaculus/1abf6349-a84a-43b8-a92b-5ea31c03568c.jpg\n",
      "✅ Uploaded: images/Animalia/Squamata/Boidae/jaculus/1ec545c7-b7a0-4174-ae92-f2074a38e471.jpg\n",
      "✅ Uploaded: images/Animalia/Squamata/Boidae/jaculus/1fee2f29-d5b7-427e-8fc4-b45c8605afec.jpg\n",
      "✅ Uploaded: images/Animalia/Squamata/Boidae/jaculus/4d0cd1f9-56c6-4eff-8f1d-53149dc0fd20.jpg\n",
      "✅ Uploaded: images/Animalia/Squamata/Boidae/jaculus/53c7a96b-5bb0-4e42-9907-bc413ef4f3c0.jpg\n",
      "✅ Uploaded: images/Animalia/Squamata/Boidae/jaculus/582b6ae6-e896-42b8-ae23-b69889147a04.jpg\n"
     ]
    },
    {
     "name": "stderr",
     "output_type": "stream",
     "text": [
      "Processing images:  12%|███████                                                     | 720/6098 [00:11<02:34, 34.84it/s]"
     ]
    },
    {
     "name": "stdout",
     "output_type": "stream",
     "text": [
      "✅ Uploaded: images/Animalia/Squamata/Boidae/jaculus/69bfdeb0-3240-4672-a46f-643c0b56bd22.jpg\n",
      "✅ Uploaded: images/Animalia/Squamata/Boidae/jaculus/7222e2b2-5348-48fb-8975-b42f1234e8c2.jpg\n",
      "✅ Uploaded: images/Animalia/Squamata/Boidae/jaculus/7385488b-0a1d-437a-b1a2-011cdcf1855f.jpg\n",
      "✅ Uploaded: images/Animalia/Squamata/Boidae/jaculus/7659342d-4fa6-49d3-8e14-eb6225d331a5.jpg\n"
     ]
    },
    {
     "name": "stderr",
     "output_type": "stream",
     "text": [
      "Processing images:  12%|███████▏                                                    | 725/6098 [00:12<03:07, 28.71it/s]"
     ]
    },
    {
     "name": "stdout",
     "output_type": "stream",
     "text": [
      "✅ Uploaded: images/Animalia/Squamata/Boidae/jaculus/8261896e-f8d0-471b-8b14-bd4d37c72b0e.jpg\n",
      "✅ Uploaded: images/Animalia/Squamata/Boidae/jaculus/920c068d-0576-4ecf-a58a-3c0a06a1bc52.jpg\n",
      "✅ Uploaded: images/Animalia/Squamata/Boidae/jaculus/b8d02bf1-fdc7-4cb4-a551-fa85ebb24ef8.jpg\n",
      "✅ Uploaded: images/Animalia/Squamata/Boidae/jaculus/c22ad602-e1d1-42b6-8c36-b5b929730d3c.jpg\n",
      "✅ Uploaded: images/Animalia/Squamata/Boidae/jaculus/d8ba8b3f-8296-4076-b012-b131afd97c88.jpg\n",
      "✅ Uploaded: images/Animalia/Squamata/Boidae/jaculus/dcac90e4-5bea-4136-a430-c50f0ee3e14e.jpg\n",
      "✅ Uploaded: images/Animalia/Squamata/Boidae/jaculus/e5a9c2fd-fd8d-4ccb-bba1-85f86eaa791e.jpg\n"
     ]
    },
    {
     "name": "stderr",
     "output_type": "stream",
     "text": [
      "Processing images:  12%|███████▎                                                    | 740/6098 [00:12<02:39, 33.69it/s]"
     ]
    },
    {
     "name": "stdout",
     "output_type": "stream",
     "text": [
      "✅ Uploaded: images/Animalia/Squamata/Boidae/jaculus/fe83308b-1375-4b18-9714-526b79c52ac2.jpg\n",
      "✅ Uploaded: images/Animalia/Squamata/Boidae/madagascariensis/0967c976-e676-484e-9635-75f64046eef9.jpg\n",
      "✅ Uploaded: images/Animalia/Squamata/Boidae/madagascariensis/0b18f9d2-6e5a-4fed-83f3-fd7e8ab78a65.jpg\n",
      "✅ Uploaded: images/Animalia/Squamata/Boidae/madagascariensis/0b24e95b-93eb-4071-9ea5-ef1fa6c347ca.jpg\n",
      "✅ Uploaded: images/Animalia/Squamata/Boidae/madagascariensis/1131c3da-3406-440e-a69b-d4015a848bd0.jpg\n",
      "✅ Uploaded: images/Animalia/Squamata/Boidae/madagascariensis/203464e2-feba-42ca-bbda-defe2001199d.jpg\n",
      "✅ Uploaded: images/Animalia/Squamata/Boidae/madagascariensis/21f19d91-ba3d-4517-a95a-75f72bf677fd.jpg\n",
      "✅ Uploaded: images/Animalia/Squamata/Boidae/madagascariensis/4aeb05e1-9394-4255-856e-81d479807733.jpg\n"
     ]
    },
    {
     "name": "stderr",
     "output_type": "stream",
     "text": [
      "Processing images:  12%|███████▎                                                    | 746/6098 [00:13<03:49, 23.30it/s]"
     ]
    },
    {
     "name": "stdout",
     "output_type": "stream",
     "text": [
      "✅ Uploaded: images/Animalia/Squamata/Boidae/madagascariensis/4fa4d37f-ef31-4e8f-b9b7-3df0bcee5126.jpg\n",
      "✅ Uploaded: images/Animalia/Squamata/Boidae/madagascariensis/535635ce-73a0-4dab-be0d-50f1f8e58830.jpg\n",
      "✅ Uploaded: images/Animalia/Squamata/Boidae/madagascariensis/544b29f7-2bc7-4c03-9236-8a82732b1b6c.jpg\n",
      "✅ Uploaded: images/Animalia/Squamata/Boidae/madagascariensis/5e525d9d-ba02-4155-b684-9c893e2072b9.jpg\n"
     ]
    },
    {
     "name": "stderr",
     "output_type": "stream",
     "text": [
      "Processing images:  12%|███████▍                                                    | 751/6098 [00:13<04:15, 20.96it/s]"
     ]
    },
    {
     "name": "stdout",
     "output_type": "stream",
     "text": [
      "✅ Uploaded: images/Animalia/Squamata/Boidae/madagascariensis/6a3340ca-fa55-4dfb-83b9-643883c276f2.jpg\n",
      "✅ Uploaded: images/Animalia/Squamata/Boidae/madagascariensis/769d59fa-2aa1-4b77-b280-45cf25ffa42f.jpg\n",
      "✅ Uploaded: images/Animalia/Squamata/Boidae/madagascariensis/770316f7-c6a1-4302-a9d5-48c38f755969.jpg\n",
      "✅ Uploaded: images/Animalia/Squamata/Boidae/madagascariensis/b2868ee8-4c59-4489-995c-f7b1c57937b4.jpg\n",
      "✅ Uploaded: images/Animalia/Squamata/Boidae/madagascariensis/bf8e69d2-6145-4fe9-b9b8-0bb2f9664df0.jpg\n",
      "✅ Uploaded: images/Animalia/Squamata/Boidae/madagascariensis/c523ca77-f08b-43de-9926-104d670c6582.jpg\n"
     ]
    },
    {
     "name": "stderr",
     "output_type": "stream",
     "text": [
      "Processing images:  12%|███████▍                                                    | 758/6098 [00:13<04:48, 18.52it/s]"
     ]
    },
    {
     "name": "stdout",
     "output_type": "stream",
     "text": [
      "✅ Uploaded: images/Animalia/Squamata/Boidae/madagascariensis/dbfa9e84-10ec-4118-bbf9-313395e61875.jpg\n",
      "✅ Uploaded: images/Animalia/Squamata/Boidae/madagascariensis/f6bb193e-98a5-46ab-95d0-aa7a8f7031b1.jpg\n",
      "✅ Uploaded: images/Animalia/Squamata/Boidae/madagascariensis/fdb67a95-f678-487f-bd9b-5ce89e6d7d5b.jpg\n"
     ]
    },
    {
     "name": "stderr",
     "output_type": "stream",
     "text": [
      "Processing images:  14%|████████▏                                                  | 847/6098 [00:14<00:38, 135.16it/s]"
     ]
    },
    {
     "name": "stdout",
     "output_type": "stream",
     "text": [
      "✅ Uploaded: images/Animalia/Squamata/Boidae/orcutti/08055051-8d51-43eb-94f1-de5d2c5e3590.jpg\n",
      "✅ Uploaded: images/Animalia/Squamata/Boidae/orcutti/0d119fce-9013-4365-9184-df665cc86609.jpg\n",
      "✅ Uploaded: images/Animalia/Squamata/Boidae/orcutti/295abcee-0b4b-4711-aceb-bc9b981a130c.jpg\n",
      "✅ Uploaded: images/Animalia/Squamata/Boidae/orcutti/29e762e2-7d71-4e85-9c27-df28be852230.jpg\n"
     ]
    },
    {
     "name": "stderr",
     "output_type": "stream",
     "text": [
      "Processing images:  14%|████████▍                                                  | 873/6098 [00:14<00:47, 109.82it/s]"
     ]
    },
    {
     "name": "stdout",
     "output_type": "stream",
     "text": [
      "✅ Uploaded: images/Animalia/Squamata/Boidae/orcutti/2fd1ae7d-dc02-4a97-9ecb-cec672f7fe87.jpg\n",
      "✅ Uploaded: images/Animalia/Squamata/Boidae/orcutti/436a15a4-6512-4624-a37b-2645e2242d2a.jpg\n",
      "✅ Uploaded: images/Animalia/Squamata/Boidae/orcutti/794c8f89-fa9b-47bb-a72f-962e331d5039.jpg\n"
     ]
    },
    {
     "name": "stderr",
     "output_type": "stream",
     "text": [
      "Processing images:  15%|████████▊                                                   | 894/6098 [00:14<00:55, 94.49it/s]"
     ]
    },
    {
     "name": "stdout",
     "output_type": "stream",
     "text": [
      "✅ Uploaded: images/Animalia/Squamata/Boidae/orcutti/8f9bf495-57aa-48f3-9fc0-c18c38efc93e.jpg\n",
      "✅ Uploaded: images/Animalia/Squamata/Boidae/orcutti/92d81c59-b473-48b5-9c86-cc38fb244fdb.jpg\n",
      "✅ Uploaded: images/Animalia/Squamata/Boidae/orcutti/9618d9b5-8240-4e87-a02f-9b5a7c5f3c7f.jpg\n",
      "✅ Uploaded: images/Animalia/Squamata/Boidae/orcutti/9e5558e0-eff6-4c80-bb02-96bc89ca19c2.jpg\n",
      "✅ Uploaded: images/Animalia/Squamata/Boidae/orcutti/a9d71436-1efe-4fcb-aa37-4de3e4a64bac.jpg\n",
      "✅ Uploaded: images/Animalia/Squamata/Boidae/orcutti/b6d3a5a8-0d8b-4849-9985-143dc00c7439.jpg\n",
      "✅ Uploaded: images/Animalia/Squamata/Boidae/orcutti/b6d77954-c5d8-48e7-8028-4a64f4e6768c.jpg\n",
      "✅ Uploaded: images/Animalia/Squamata/Boidae/orcutti/badd9c42-ae3f-4e9b-b13f-06d9aaba46ae.jpg\n",
      "✅ Uploaded: images/Animalia/Squamata/Boidae/orcutti/c87082ea-0177-4fb5-8ec1-af1c5d1e8bee.jpg\n"
     ]
    },
    {
     "name": "stderr",
     "output_type": "stream",
     "text": [
      "Processing images:  15%|████████▉                                                   | 911/6098 [00:15<01:36, 53.92it/s]"
     ]
    },
    {
     "name": "stdout",
     "output_type": "stream",
     "text": [
      "✅ Uploaded: images/Animalia/Squamata/Boidae/orcutti/c9c8f1f3-3b3b-4f3f-917d-bcf397129e8b.jpg\n",
      "✅ Uploaded: images/Animalia/Squamata/Boidae/orcutti/d18d4513-80ea-45c9-bef8-8b970625ff67.jpg\n",
      "✅ Uploaded: images/Animalia/Squamata/Boidae/orcutti/d32fd3e4-0c85-4a98-9f2e-6e33a8f2e183.jpg\n",
      "✅ Uploaded: images/Animalia/Squamata/Boidae/orcutti/df58e308-0a27-40b8-8291-641a0cb40fff.jpg\n"
     ]
    },
    {
     "name": "stderr",
     "output_type": "stream",
     "text": [
      "Processing images:  16%|█████████▌                                                  | 970/6098 [00:15<00:55, 92.54it/s]"
     ]
    },
    {
     "name": "stdout",
     "output_type": "stream",
     "text": [
      "✅ Uploaded: images/Animalia/Squamata/Boidae/strigilatus/08d35afc-d835-491a-8bb6-af8ae67a76e7.jpg\n",
      "✅ Uploaded: images/Animalia/Squamata/Boidae/strigilatus/1b52fd08-5ca4-41eb-90be-00294eeaeb8e.jpg\n",
      "✅ Uploaded: images/Animalia/Squamata/Boidae/strigilatus/34d57155-fa59-4fc9-a154-c3800fcf2c8f.jpg\n",
      "✅ Uploaded: images/Animalia/Squamata/Boidae/strigilatus/36694bd2-4ec0-4fd8-ab3e-8a5ebd5ec1dc.jpg\n",
      "✅ Uploaded: images/Animalia/Squamata/Boidae/strigilatus/a9d9f727-e4a4-4cf8-b464-a7b0021b3fc0.jpg\n",
      "✅ Uploaded: images/Animalia/Squamata/Boidae/strigilatus/afc1402d-8c5b-401d-b034-82df50e60cee.jpg\n"
     ]
    },
    {
     "name": "stderr",
     "output_type": "stream",
     "text": [
      "Processing images:  16%|█████████▋                                                  | 987/6098 [00:16<01:12, 70.09it/s]"
     ]
    },
    {
     "name": "stdout",
     "output_type": "stream",
     "text": [
      "✅ Uploaded: images/Animalia/Squamata/Boidae/strigilatus/c0b15b4d-b26f-4090-90d9-8c59cd5eff37.jpg\n",
      "✅ Uploaded: images/Animalia/Squamata/Boidae/strigilatus/e6bec5dd-9a0c-4b4a-8ccd-45f51b7c7a33.jpg\n",
      "✅ Uploaded: images/Animalia/Squamata/Boidae/unknown/09daf1e5-6b1f-4900-ade1-37cf76240123.jpg\n",
      "✅ Uploaded: images/Animalia/Squamata/Boidae/unknown/0af7ccb8-0046-4ed8-8ac8-b94e9248fd6d.jpg\n",
      "✅ Uploaded: images/Animalia/Squamata/Boidae/unknown/0d08fd19-68b5-406b-bcd8-0634f737d5df.jpg\n",
      "✅ Uploaded: images/Animalia/Squamata/Boidae/unknown/0e478295-0ebe-4062-92a8-8bfe0db22603.jpg\n"
     ]
    },
    {
     "name": "stderr",
     "output_type": "stream",
     "text": [
      "Processing images:  16%|█████████▋                                                 | 1000/6098 [00:16<01:30, 56.56it/s]"
     ]
    },
    {
     "name": "stdout",
     "output_type": "stream",
     "text": [
      "✅ Uploaded: images/Animalia/Squamata/Boidae/unknown/2eda7033-6e02-4d77-9949-e152f7a46734.jpg\n",
      "✅ Uploaded: images/Animalia/Squamata/Boidae/unknown/503c9e43-6b23-4efd-a34d-824c3c8a87c0.jpg\n"
     ]
    },
    {
     "name": "stderr",
     "output_type": "stream",
     "text": [
      "Processing images:  17%|█████████▊                                                 | 1010/6098 [00:16<01:33, 54.36it/s]"
     ]
    },
    {
     "name": "stdout",
     "output_type": "stream",
     "text": [
      "✅ Uploaded: images/Animalia/Squamata/Boidae/unknown/5607c19e-29c2-474d-ae26-b770951aa48d.jpg\n",
      "✅ Uploaded: images/Animalia/Squamata/Boidae/unknown/61a6a562-0abb-4867-8002-fabd36cd4fa0.jpg\n",
      "✅ Uploaded: images/Animalia/Squamata/Boidae/unknown/6a70f0a1-c4c0-469e-83e8-587bd6ed4960.jpg\n"
     ]
    },
    {
     "name": "stderr",
     "output_type": "stream",
     "text": [
      "Processing images:  17%|█████████▊                                                 | 1019/6098 [00:17<01:50, 45.89it/s]"
     ]
    },
    {
     "name": "stdout",
     "output_type": "stream",
     "text": [
      "✅ Uploaded: images/Animalia/Squamata/Boidae/unknown/7839cf2b-4066-446d-a608-a27f81bf0059.jpg\n",
      "✅ Uploaded: images/Animalia/Squamata/Boidae/unknown/8d9134a6-e6ad-4440-b6e9-966d0bb5fc46.jpg\n",
      "✅ Uploaded: images/Animalia/Squamata/Boidae/unknown/a7d67145-92f6-44dd-a750-97983e3c5815.jpg\n",
      "✅ Uploaded: images/Animalia/Squamata/Boidae/unknown/b8c89c04-decb-4526-9715-feb009612860.jpg\n"
     ]
    },
    {
     "name": "stderr",
     "output_type": "stream",
     "text": [
      "Processing images:  17%|██████████                                                 | 1037/6098 [00:17<01:50, 45.84it/s]"
     ]
    },
    {
     "name": "stdout",
     "output_type": "stream",
     "text": [
      "✅ Uploaded: images/Animalia/Squamata/Boidae/unknown/c6c6c7db-8f11-41b0-bce4-9892c85ca1a5.jpg\n",
      "✅ Uploaded: images/Animalia/Squamata/Boidae/unknown/d8ee835c-08ff-4b91-bdd9-b1146ee4cf8b.jpg\n",
      "✅ Uploaded: images/Animalia/Squamata/Boidae/unknown/dcc9ec24-3e85-44c8-85a0-c10d2709998e.jpg\n",
      "✅ Uploaded: images/Animalia/Squamata/Boidae/unknown/e0e6e0c3-cf7f-4ded-92d6-8626d6985eaf.jpg\n"
     ]
    },
    {
     "name": "stderr",
     "output_type": "stream",
     "text": [
      "Processing images:  18%|██████████▌                                               | 1105/6098 [00:17<00:36, 136.79it/s]"
     ]
    },
    {
     "name": "stdout",
     "output_type": "stream",
     "text": [
      "✅ Uploaded: images/Animalia/Squamata/Boidae/unknown/ec7c80df-4fa0-484d-89e2-ce9c33cb7dd7.jpg\n",
      "✅ Uploaded: images/Animalia/Squamata/Colubridae/alleghaniensis/1774e49c-98d6-44b6-9bab-afd085021a2a.jpg\n",
      "✅ Uploaded: images/Animalia/Squamata/Colubridae/alleghaniensis/261cb64f-72d0-4855-bcc1-92d91ef0c5fe.jpg\n",
      "✅ Uploaded: images/Animalia/Squamata/Colubridae/alleghaniensis/27ac029f-fa03-4b77-8cf0-027b1af1d804.jpg\n",
      "✅ Uploaded: images/Animalia/Squamata/Colubridae/alleghaniensis/4132f1e9-14f9-4a11-a1ae-57a2f7b2e36d.jpg\n",
      "✅ Uploaded: images/Animalia/Squamata/Colubridae/alleghaniensis/4b39b4a1-db28-4fc5-817d-02cce17888f2.jpg\n",
      "✅ Uploaded: images/Animalia/Squamata/Colubridae/alleghaniensis/66c2e08a-9417-48a3-bffb-d26fd3cbce66.jpg\n",
      "✅ Uploaded: images/Animalia/Squamata/Colubridae/alleghaniensis/7825a42c-46e4-4b62-9a89-cbdd00c8c53f.jpg\n",
      "✅ Uploaded: images/Animalia/Squamata/Colubridae/alleghaniensis/81d9cd3d-c02c-4935-950a-484c32f29c15.jpg\n",
      "✅ Uploaded: images/Animalia/Squamata/Colubridae/alleghaniensis/89b41fb1-846d-49d8-b973-fb6a01e0b8fc.jpg\n",
      "✅ Uploaded: images/Animalia/Squamata/Colubridae/alleghaniensis/9629e608-7e64-4f95-b339-17def87ca965.jpg\n",
      "✅ Uploaded: images/Animalia/Squamata/Colubridae/alleghaniensis/99f5d88b-7004-4b88-aa2a-ae313458f0a6.jpg\n",
      "✅ Uploaded: images/Animalia/Squamata/Colubridae/alleghaniensis/9d0ce171-f6e6-4332-b3bb-846c12ee578e.jpg\n",
      "✅ Uploaded: images/Animalia/Squamata/Colubridae/alleghaniensis/aad3139a-ac97-4e54-88d7-421b8e4b2931.jpg\n",
      "✅ Uploaded: images/Animalia/Squamata/Colubridae/alleghaniensis/b382fd24-a0a1-4345-acdc-1368780dadee.jpg\n",
      "✅ Uploaded: images/Animalia/Squamata/Colubridae/alleghaniensis/c07bf96a-24bb-43ce-bb00-21c1df0a3961.jpg\n",
      "✅ Uploaded: images/Animalia/Squamata/Colubridae/alleghaniensis/c6ee9fef-6c90-4f88-bb4f-6edd35bf42ca.jpg\n",
      "✅ Uploaded: images/Animalia/Squamata/Colubridae/alleghaniensis/ca193937-acbe-44c7-95e3-c7a565a61214.jpg\n"
     ]
    },
    {
     "name": "stderr",
     "output_type": "stream",
     "text": [
      "Processing images:  18%|██████████▉                                                | 1127/6098 [00:19<01:43, 47.93it/s]"
     ]
    },
    {
     "name": "stdout",
     "output_type": "stream",
     "text": [
      "✅ Uploaded: images/Animalia/Squamata/Colubridae/alleghaniensis/d8f10988-5c92-472c-9a0b-2808dde38eb5.jpg\n",
      "✅ Uploaded: images/Animalia/Squamata/Colubridae/alleghaniensis/e4474253-e42e-4d91-b3b2-ed890f18a924.jpg\n",
      "✅ Uploaded: images/Animalia/Squamata/Colubridae/alleghaniensis/e699791e-392d-4914-99ec-d4dca114d3eb.jpg\n",
      "✅ Uploaded: images/Animalia/Squamata/Colubridae/epinephalus/016ac669-1bae-4cc2-a04b-73d743318647.jpg\n"
     ]
    },
    {
     "name": "stderr",
     "output_type": "stream",
     "text": [
      "Processing images:  22%|████████████▋                                             | 1332/6098 [00:19<00:25, 188.49it/s]"
     ]
    },
    {
     "name": "stdout",
     "output_type": "stream",
     "text": [
      "✅ Uploaded: images/Animalia/Squamata/Colubridae/epinephalus/01837393-1244-4c60-9d95-52d0c69318df.jpg\n",
      "✅ Uploaded: images/Animalia/Squamata/Colubridae/epinephalus/14310a77-c499-4c47-ae0c-5bf8dee214c1.jpg\n",
      "✅ Uploaded: images/Animalia/Squamata/Colubridae/epinephalus/156d7d94-5df3-4ba7-86c0-3023f9593859.jpg\n",
      "✅ Uploaded: images/Animalia/Squamata/Colubridae/epinephalus/178ada8e-102f-42cd-8657-6d4be010acdb.jpg\n",
      "✅ Uploaded: images/Animalia/Squamata/Colubridae/epinephalus/2be4d5cc-954d-480e-be64-3fa34d60fa58.jpg\n",
      "✅ Uploaded: images/Animalia/Squamata/Colubridae/epinephalus/4f295ed6-12f8-4ec2-aae3-5ffc2d1e04f0.jpg\n",
      "✅ Uploaded: images/Animalia/Squamata/Colubridae/epinephalus/5276b1b9-c70e-4fe7-af19-44f5d5e04533.jpg\n",
      "✅ Uploaded: images/Animalia/Squamata/Colubridae/epinephalus/7102227d-bb13-4347-ab1d-6763795011b5.jpg\n",
      "✅ Uploaded: images/Animalia/Squamata/Colubridae/epinephalus/81d00403-09ea-494e-be35-5cf0fb7d4263.jpg\n",
      "✅ Uploaded: images/Animalia/Squamata/Colubridae/epinephalus/84c71eba-5faa-4634-9373-78c0d5b8c867.jpg\n",
      "✅ Uploaded: images/Animalia/Squamata/Colubridae/epinephalus/9ad8ac1f-6936-4935-8d7c-f550f81a50ac.jpg\n",
      "✅ Uploaded: images/Animalia/Squamata/Colubridae/epinephalus/a035fb49-febd-4a71-a600-109a15fda256.jpg\n",
      "✅ Uploaded: images/Animalia/Squamata/Colubridae/epinephalus/acf55f84-991f-4640-9346-e790772299e9.jpg\n",
      "✅ Uploaded: images/Animalia/Squamata/Colubridae/epinephalus/b6f16183-5ae1-474a-98d7-85e35c59dd71.jpg\n",
      "✅ Uploaded: images/Animalia/Squamata/Colubridae/epinephalus/bf8247c4-8827-4119-8dda-60f5bfcc62c7.jpg\n",
      "✅ Uploaded: images/Animalia/Squamata/Colubridae/epinephalus/c3ddf88d-81a1-41ab-9b72-e968c718d508.jpg\n"
     ]
    },
    {
     "name": "stderr",
     "output_type": "stream",
     "text": [
      "Processing images:  25%|██████████████▋                                           | 1540/6098 [00:20<00:24, 189.52it/s]"
     ]
    },
    {
     "name": "stdout",
     "output_type": "stream",
     "text": [
      "✅ Uploaded: images/Animalia/Squamata/Colubridae/epinephalus/e2d5c8a8-eb50-4081-8ef1-25d88ffb2287.jpg\n",
      "✅ Uploaded: images/Animalia/Squamata/Colubridae/epinephalus/fb71832e-3d4c-432c-bda8-946822939aa8.jpg\n",
      "✅ Uploaded: images/Animalia/Squamata/Colubridae/obsoletus/0b0ad00f-eaa5-4e3d-8162-6a4c3de8b75c.jpg\n",
      "✅ Uploaded: images/Animalia/Squamata/Colubridae/obsoletus/2d9ad123-290a-4d97-9ecf-4cf956d1a58a.jpg\n",
      "✅ Uploaded: images/Animalia/Squamata/Colubridae/obsoletus/33ecdb48-539a-42c1-b9b4-b649f6867916.jpg\n",
      "✅ Uploaded: images/Animalia/Squamata/Colubridae/obsoletus/4db3abe3-f83c-4027-b87c-b01d1e7adae3.jpg\n",
      "✅ Uploaded: images/Animalia/Squamata/Colubridae/obsoletus/56c87ddc-2abb-4b1f-ae95-9a57e581403e.jpg\n",
      "✅ Uploaded: images/Animalia/Squamata/Colubridae/obsoletus/58deefee-4449-4f05-8d45-d5af6bab6209.jpg\n",
      "✅ Uploaded: images/Animalia/Squamata/Colubridae/obsoletus/63e8d670-3eab-4ee5-b772-d11e5a86848f.jpg\n",
      "✅ Uploaded: images/Animalia/Squamata/Colubridae/obsoletus/683e5583-b620-46df-a093-906c710896b1.jpg\n",
      "✅ Uploaded: images/Animalia/Squamata/Colubridae/obsoletus/8a148090-ff47-4ea1-89b1-505cc926d131.jpg\n",
      "✅ Uploaded: images/Animalia/Squamata/Colubridae/obsoletus/a64b1756-5ce2-4664-b5b1-158aab5829d5.jpg\n",
      "✅ Uploaded: images/Animalia/Squamata/Colubridae/obsoletus/a9695cef-dda7-4125-ae7b-5584512eedb4.jpg\n",
      "✅ Uploaded: images/Animalia/Squamata/Colubridae/obsoletus/a98c6a1f-f7ca-4937-a878-052f17f7bec6.jpg\n",
      "✅ Uploaded: images/Animalia/Squamata/Colubridae/obsoletus/ad71dc5b-9e67-4b2e-a22b-608282cd524c.jpg\n",
      "✅ Uploaded: images/Animalia/Squamata/Colubridae/obsoletus/c43bc93b-823a-4d94-8798-3e56a270d900.jpg\n",
      "✅ Uploaded: images/Animalia/Squamata/Colubridae/obsoletus/c4f6c369-7411-412e-af41-c8026676966c.jpg\n",
      "✅ Uploaded: images/Animalia/Squamata/Colubridae/obsoletus/c8e1198c-d616-49c5-b5c1-e015d6a67223.jpg\n",
      "✅ Uploaded: images/Animalia/Squamata/Colubridae/obsoletus/d1a1954a-fb2d-40ff-9187-82e1b41cbab6.jpg\n",
      "✅ Uploaded: images/Animalia/Squamata/Colubridae/obsoletus/e0cda2ab-e936-4e84-8ffa-930ebf49b188.jpg\n",
      "✅ Uploaded: images/Animalia/Squamata/Colubridae/obsoletus/e3c11c9d-2117-415e-8441-20429849d77d.jpg\n",
      "✅ Uploaded: images/Animalia/Squamata/Colubridae/obsoletus/e43f01c7-15ec-483a-a1a3-da412e623146.jpg\n",
      "✅ Uploaded: images/Animalia/Squamata/Colubridae/occipitomaculata/02bdd699-f945-4c2c-a6c2-42e1794f364d.jpg\n",
      "✅ Uploaded: images/Animalia/Squamata/Colubridae/occipitomaculata/19e8f9c2-b087-4007-adc1-6d3c03dfc621.jpg\n",
      "✅ Uploaded: images/Animalia/Squamata/Colubridae/occipitomaculata/1c686f15-262e-4224-b4bc-717257eafbf7.jpg\n",
      "✅ Uploaded: images/Animalia/Squamata/Colubridae/occipitomaculata/2585fe21-a89e-4fec-8eb0-956b002aa78a.jpg\n",
      "✅ Uploaded: images/Animalia/Squamata/Colubridae/occipitomaculata/25a6d23b-cf1f-4974-8412-29998d840f91.jpg\n",
      "✅ Uploaded: images/Animalia/Squamata/Colubridae/occipitomaculata/2c8b63af-0c95-4750-b0b7-2df0e0727400.jpg\n",
      "✅ Uploaded: images/Animalia/Squamata/Colubridae/occipitomaculata/2c9740ad-e69f-4482-8c8e-0b733229dd34.jpg\n",
      "✅ Uploaded: images/Animalia/Squamata/Colubridae/occipitomaculata/346d0275-71cb-4dcb-a091-f1b098125a00.jpg\n"
     ]
    },
    {
     "name": "stderr",
     "output_type": "stream",
     "text": [
      "Processing images:  26%|███████████████▍                                           | 1593/6098 [00:22<00:54, 82.24it/s]"
     ]
    },
    {
     "name": "stdout",
     "output_type": "stream",
     "text": [
      "✅ Uploaded: images/Animalia/Squamata/Colubridae/occipitomaculata/38adc84f-dde4-43eb-b538-6960ca52381c.jpg\n",
      "✅ Uploaded: images/Animalia/Squamata/Colubridae/occipitomaculata/3c03f242-8b76-4c77-a12c-7b9cd5a2bb03.jpg\n",
      "✅ Uploaded: images/Animalia/Squamata/Colubridae/occipitomaculata/60f30717-e45e-4ecf-8192-3e269439a8b2.jpg\n",
      "✅ Uploaded: images/Animalia/Squamata/Colubridae/occipitomaculata/86cb2113-025a-44fe-97df-4e574a05f686.jpg\n",
      "✅ Uploaded: images/Animalia/Squamata/Colubridae/occipitomaculata/897c1dfa-f4d9-4cdc-b038-de0feed966a0.jpg\n",
      "✅ Uploaded: images/Animalia/Squamata/Colubridae/occipitomaculata/8eda3bb3-0793-49d2-a500-9cf2c00b19f4.jpg\n",
      "✅ Uploaded: images/Animalia/Squamata/Colubridae/occipitomaculata/92f2263a-b06b-40e3-8dd1-0da2ce07442a.jpg\n",
      "✅ Uploaded: images/Animalia/Squamata/Colubridae/occipitomaculata/ae1c768a-12ee-4f0e-8fea-43c6bc1197de.jpg\n",
      "✅ Uploaded: images/Animalia/Squamata/Colubridae/occipitomaculata/bc8e4316-43c2-46ed-b462-d780aa1ef0cc.jpg\n"
     ]
    },
    {
     "name": "stderr",
     "output_type": "stream",
     "text": [
      "Processing images:  27%|███████████████▊                                           | 1631/6098 [00:23<01:01, 73.21it/s]"
     ]
    },
    {
     "name": "stdout",
     "output_type": "stream",
     "text": [
      "✅ Uploaded: images/Animalia/Squamata/Colubridae/occipitomaculata/c516e8e2-54b1-4218-92b1-a9cf461a119e.jpg\n",
      "✅ Uploaded: images/Animalia/Squamata/Colubridae/occipitomaculata/d16b4f28-4649-4b28-b2b5-38e5e5135603.jpg\n",
      "✅ Uploaded: images/Animalia/Squamata/Colubridae/occipitomaculata/ea04525b-0c9f-43f4-8ccd-39f376066fe4.jpg\n"
     ]
    },
    {
     "name": "stderr",
     "output_type": "stream",
     "text": [
      "Processing images:  28%|████████████████▎                                          | 1682/6098 [00:23<00:48, 90.88it/s]"
     ]
    },
    {
     "name": "stdout",
     "output_type": "stream",
     "text": [
      "✅ Uploaded: images/Animalia/Squamata/Colubridae/punctatus/03f0e600-2853-4f42-9a35-6c32f035ab56.jpg\n",
      "✅ Uploaded: images/Animalia/Squamata/Colubridae/punctatus/135fd699-b965-4986-9749-8870926225c6.jpg\n",
      "✅ Uploaded: images/Animalia/Squamata/Colubridae/punctatus/1f10673a-cce6-4408-a0cc-ff32698ad9ba.jpg\n",
      "✅ Uploaded: images/Animalia/Squamata/Colubridae/punctatus/21e93a20-14d1-466e-afff-7891dba7c018.jpg\n",
      "✅ Uploaded: images/Animalia/Squamata/Colubridae/punctatus/23e97ba7-0b98-493f-bb82-306c24c4e988.jpg\n",
      "✅ Uploaded: images/Animalia/Squamata/Colubridae/punctatus/28ffb565-34af-40db-9aa3-0292eeca3f75.jpg\n",
      "✅ Uploaded: images/Animalia/Squamata/Colubridae/punctatus/359fb2be-768e-4d13-8d4d-59b618ec9383.jpg\n",
      "✅ Uploaded: images/Animalia/Squamata/Colubridae/punctatus/457039ac-2d91-47db-93f1-85b12c01a6bb.jpg\n",
      "✅ Uploaded: images/Animalia/Squamata/Colubridae/punctatus/583d2c90-1f3b-4a7c-a966-4184e230747a.jpg\n",
      "✅ Uploaded: images/Animalia/Squamata/Colubridae/punctatus/585c2271-1850-4d9b-b0a8-75ac4c21bcb3.jpg\n",
      "✅ Uploaded: images/Animalia/Squamata/Colubridae/punctatus/6a3e76cc-d715-4e1f-9ffb-1280b2b2bba3.jpg\n",
      "✅ Uploaded: images/Animalia/Squamata/Colubridae/punctatus/82d49b08-5ac2-4989-a9a4-c215fad4fad7.jpg\n",
      "✅ Uploaded: images/Animalia/Squamata/Colubridae/punctatus/846ac749-cf17-4c1e-983a-29666244fad9.jpg\n",
      "✅ Uploaded: images/Animalia/Squamata/Colubridae/punctatus/a71b558a-a1a2-48be-a38a-2b1595456c6d.jpg\n",
      "✅ Uploaded: images/Animalia/Squamata/Colubridae/punctatus/c162a05e-338e-4ad9-a59f-67f8c331e04f.jpg\n",
      "✅ Uploaded: images/Animalia/Squamata/Colubridae/punctatus/d129a1c1-4ed8-4355-9522-9de29e50ec59.jpg\n",
      "✅ Uploaded: images/Animalia/Squamata/Colubridae/punctatus/d9fcb5e2-380f-40cd-b2b1-fa4d81fb1266.jpg\n",
      "✅ Uploaded: images/Animalia/Squamata/Colubridae/punctatus/dfdfdbea-12fb-450a-911d-f8d887e3cd82.jpg\n",
      "✅ Uploaded: images/Animalia/Squamata/Colubridae/punctatus/e34128fa-6aaa-479c-8145-80da48c5348f.jpg\n",
      "✅ Uploaded: images/Animalia/Squamata/Colubridae/punctatus/e53c7211-84dd-4dd8-bd24-3c0a97b9f9ea.jpg\n",
      "✅ Uploaded: images/Animalia/Squamata/Colubridae/saurita/102823b2-775a-4cf1-a8bd-1cca3edc598f.jpg\n",
      "✅ Uploaded: images/Animalia/Squamata/Colubridae/saurita/1193e2b5-0a18-4027-93db-1e1a5b8cc613.jpg\n",
      "✅ Uploaded: images/Animalia/Squamata/Colubridae/saurita/2498151d-dce5-429d-916c-2cf88ebfaa32.jpg\n",
      "✅ Uploaded: images/Animalia/Squamata/Colubridae/saurita/38cc7408-346d-42e5-872a-603da8bf7048.jpg\n",
      "✅ Uploaded: images/Animalia/Squamata/Colubridae/saurita/4615e1c7-63ae-4d7c-8ecf-b3fb65099f8b.jpg\n",
      "✅ Uploaded: images/Animalia/Squamata/Colubridae/saurita/5e7afd99-ebe1-46f5-94da-f7fbbe7722c1.jpg\n",
      "✅ Uploaded: images/Animalia/Squamata/Colubridae/saurita/62c83e2a-8476-402f-9ad7-3df15422610a.jpg\n",
      "✅ Uploaded: images/Animalia/Squamata/Colubridae/saurita/66931955-3582-48a6-b641-e232ff4e8245.jpg\n",
      "✅ Uploaded: images/Animalia/Squamata/Colubridae/saurita/7d39774f-5185-4eff-8a56-be8328b7a8d3.jpg\n",
      "✅ Uploaded: images/Animalia/Squamata/Colubridae/saurita/8a75a39a-eeec-4617-9a81-49942c7abeac.jpg\n",
      "✅ Uploaded: images/Animalia/Squamata/Colubridae/saurita/8b171093-524a-4596-bda5-43bb17096d02.jpg\n",
      "✅ Uploaded: images/Animalia/Squamata/Colubridae/saurita/9b29337b-26f5-48b7-8fe7-c60a88365fd9.jpg\n"
     ]
    },
    {
     "name": "stderr",
     "output_type": "stream",
     "text": [
      "Processing images:  28%|████████████████▌                                          | 1714/6098 [00:26<01:36, 45.56it/s]"
     ]
    },
    {
     "name": "stdout",
     "output_type": "stream",
     "text": [
      "✅ Uploaded: images/Animalia/Squamata/Colubridae/saurita/a0041af8-b2df-4229-aadc-9215bca71715.jpg\n",
      "✅ Uploaded: images/Animalia/Squamata/Colubridae/saurita/a45b4c7f-6f92-4cf6-8853-46d967860ecc.jpg\n",
      "✅ Uploaded: images/Animalia/Squamata/Colubridae/saurita/bc48ba82-83b3-4654-a41a-d3b3c64ef537.jpg\n",
      "✅ Uploaded: images/Animalia/Squamata/Colubridae/saurita/c5b241db-ce79-4b96-aaf1-bf7441c54a85.jpg\n",
      "✅ Uploaded: images/Animalia/Squamata/Colubridae/saurita/cb4d9b7a-2ada-4ed4-b838-bec72d12f33b.jpg\n",
      "✅ Uploaded: images/Animalia/Squamata/Colubridae/saurita/d1622339-ad21-401b-bdc9-fd0ac5762d3e.jpg\n",
      "✅ Uploaded: images/Animalia/Squamata/Colubridae/saurita/d518c125-c340-4a45-af90-0224b584d265.jpg\n",
      "✅ Uploaded: images/Animalia/Squamata/Colubridae/saurita/dfcf3933-b611-4d21-b4fa-bd40e158702a.jpg\n",
      "✅ Uploaded: images/Animalia/Squamata/Colubridae/sipedon/00e3e334-2d0e-4562-b56f-932783a262ef.jpg\n"
     ]
    },
    {
     "name": "stderr",
     "output_type": "stream",
     "text": [
      "Processing images:  28%|████████████████▊                                          | 1737/6098 [00:26<01:43, 42.20it/s]"
     ]
    },
    {
     "name": "stdout",
     "output_type": "stream",
     "text": [
      "✅ Uploaded: images/Animalia/Squamata/Colubridae/sipedon/070fd8e0-b7cb-4ff7-aefb-7c376a4195ed.jpg\n",
      "✅ Uploaded: images/Animalia/Squamata/Colubridae/sipedon/1be43eef-3505-4fac-a43a-58fc7ec12f62.jpg\n"
     ]
    },
    {
     "name": "stderr",
     "output_type": "stream",
     "text": [
      "Processing images:  29%|█████████████████▏                                         | 1776/6098 [00:27<01:21, 52.89it/s]"
     ]
    },
    {
     "name": "stdout",
     "output_type": "stream",
     "text": [
      "✅ Uploaded: images/Animalia/Squamata/Colubridae/sipedon/58554c78-d6bc-4916-9b2e-b07d6c4f44fb.jpg\n",
      "✅ Uploaded: images/Animalia/Squamata/Colubridae/sipedon/5f45dab2-3630-47a6-9ada-45e728843080.jpg\n",
      "✅ Uploaded: images/Animalia/Squamata/Colubridae/sipedon/6b718999-83a2-4674-a152-f3c99e13cb73.jpg\n",
      "✅ Uploaded: images/Animalia/Squamata/Colubridae/sipedon/7a47b3ea-1243-460f-85b7-8c42a0b6b734.jpg\n",
      "✅ Uploaded: images/Animalia/Squamata/Colubridae/sipedon/8112d129-bf71-476c-8c3e-5b500b515e04.jpg\n",
      "✅ Uploaded: images/Animalia/Squamata/Colubridae/sipedon/86f38886-5d09-4cdc-83cb-40a46d05df92.jpg\n",
      "✅ Uploaded: images/Animalia/Squamata/Colubridae/sipedon/89ef6493-35dc-4a36-9809-64120a7ac3b1.jpg\n",
      "✅ Uploaded: images/Animalia/Squamata/Colubridae/sipedon/91084127-dedd-45f7-96d4-d607cc93e772.jpg\n",
      "✅ Uploaded: images/Animalia/Squamata/Colubridae/sipedon/9271e671-a294-466b-a739-aeec0c75b00a.jpg\n"
     ]
    },
    {
     "name": "stderr",
     "output_type": "stream",
     "text": [
      "Processing images:  29%|█████████████████▎                                         | 1791/6098 [00:27<01:30, 47.36it/s]"
     ]
    },
    {
     "name": "stdout",
     "output_type": "stream",
     "text": [
      "✅ Uploaded: images/Animalia/Squamata/Colubridae/sipedon/93554bfd-cd69-4f4d-a8c2-32df18042291.jpg\n",
      "✅ Uploaded: images/Animalia/Squamata/Colubridae/sipedon/98053645-d439-4476-8d13-cc1035323721.jpg\n",
      "✅ Uploaded: images/Animalia/Squamata/Colubridae/sipedon/b78ca964-6136-42e3-bc61-b87643b70af2.jpg\n"
     ]
    },
    {
     "name": "stderr",
     "output_type": "stream",
     "text": [
      "Processing images:  30%|█████████████████▍                                         | 1803/6098 [00:28<01:34, 45.59it/s]"
     ]
    },
    {
     "name": "stdout",
     "output_type": "stream",
     "text": [
      "✅ Uploaded: images/Animalia/Squamata/Colubridae/sipedon/bb1392f3-cd6e-45a4-be58-592daeb4de54.jpg\n",
      "✅ Uploaded: images/Animalia/Squamata/Colubridae/sipedon/bc6af74b-c854-4aa2-a0f1-2de86831f15f.jpg\n",
      "✅ Uploaded: images/Animalia/Squamata/Colubridae/sipedon/c56ec1f1-b634-4203-bd65-a25793cf539f.jpg\n"
     ]
    },
    {
     "name": "stderr",
     "output_type": "stream",
     "text": [
      "Processing images:  30%|█████████████████▋                                         | 1824/6098 [00:28<01:18, 54.56it/s]"
     ]
    },
    {
     "name": "stdout",
     "output_type": "stream",
     "text": [
      "✅ Uploaded: images/Animalia/Squamata/Colubridae/sipedon/df217fc6-24a6-45d4-9169-c2e5f61b445d.jpg\n",
      "✅ Uploaded: images/Animalia/Squamata/Colubridae/sipedon/ecf9ed1f-37e0-4176-9d4f-b5f1554e2404.jpg\n"
     ]
    },
    {
     "name": "stderr",
     "output_type": "stream",
     "text": [
      "Processing images:  30%|█████████████████▊                                         | 1843/6098 [00:28<01:12, 58.71it/s]"
     ]
    },
    {
     "name": "stdout",
     "output_type": "stream",
     "text": [
      "✅ Uploaded: images/Animalia/Squamata/Colubridae/sirtalis/0f1d42d0-cc37-4584-b121-cae8af807905.jpg\n",
      "✅ Uploaded: images/Animalia/Squamata/Colubridae/sirtalis/211b3c6c-f66d-4010-a730-c55b14f5585f.jpg\n",
      "✅ Uploaded: images/Animalia/Squamata/Colubridae/sirtalis/2e7b3fa9-d633-4183-88cb-3e5e3f6085e7.jpg\n"
     ]
    },
    {
     "name": "stderr",
     "output_type": "stream",
     "text": [
      "Processing images:  30%|█████████████████▉                                         | 1851/6098 [00:28<01:26, 48.87it/s]"
     ]
    },
    {
     "name": "stdout",
     "output_type": "stream",
     "text": [
      "✅ Uploaded: images/Animalia/Squamata/Colubridae/sirtalis/367354d3-2c82-46ac-ab00-5846b0288f94.jpg\n",
      "✅ Uploaded: images/Animalia/Squamata/Colubridae/sirtalis/368b35c2-46ae-4193-b77e-fe5bd6384784.jpg\n",
      "✅ Uploaded: images/Animalia/Squamata/Colubridae/sirtalis/379e76f7-97d6-4591-bad7-a7495d384b00.jpg\n",
      "✅ Uploaded: images/Animalia/Squamata/Colubridae/sirtalis/4112f396-7685-4fb1-bd6e-485438376107.jpg\n"
     ]
    },
    {
     "name": "stderr",
     "output_type": "stream",
     "text": [
      "Processing images:  30%|█████████████████▉                                         | 1858/6098 [00:28<01:26, 49.28it/s]"
     ]
    },
    {
     "name": "stdout",
     "output_type": "stream",
     "text": [
      "✅ Uploaded: images/Animalia/Squamata/Colubridae/sirtalis/4992f7a4-66af-4298-a08e-31a15365a3c9.jpg\n",
      "✅ Uploaded: images/Animalia/Squamata/Colubridae/sirtalis/4a11fdfc-25a4-4a9a-937e-4b27437b48a5.jpg\n",
      "✅ Uploaded: images/Animalia/Squamata/Colubridae/sirtalis/4b5334df-4cd9-46a6-981c-c6eb56ebb921.jpg\n"
     ]
    },
    {
     "name": "stderr",
     "output_type": "stream",
     "text": [
      "Processing images:  31%|██████████████████▎                                        | 1887/6098 [00:29<00:55, 76.26it/s]"
     ]
    },
    {
     "name": "stdout",
     "output_type": "stream",
     "text": [
      "✅ Uploaded: images/Animalia/Squamata/Colubridae/sirtalis/5de0b9b6-0cae-4612-b9dd-18881c8e9c80.jpg\n",
      "✅ Uploaded: images/Animalia/Squamata/Colubridae/sirtalis/67328533-e0d2-4768-9bd3-bc03053ed218.jpg\n",
      "✅ Uploaded: images/Animalia/Squamata/Colubridae/sirtalis/839ae805-69a3-414f-a927-ba32440525ae.jpg\n",
      "✅ Uploaded: images/Animalia/Squamata/Colubridae/sirtalis/936080d6-dc98-4a88-951b-cb5a84aad599.jpg\n"
     ]
    },
    {
     "name": "stderr",
     "output_type": "stream",
     "text": [
      "Processing images:  31%|██████████████████▍                                        | 1906/6098 [00:29<01:03, 65.52it/s]"
     ]
    },
    {
     "name": "stdout",
     "output_type": "stream",
     "text": [
      "✅ Uploaded: images/Animalia/Squamata/Colubridae/sirtalis/ac776863-221f-420b-b68b-f566af588c92.jpg\n",
      "✅ Uploaded: images/Animalia/Squamata/Colubridae/sirtalis/b923d4a1-0fba-4617-9748-425543ad222b.jpg\n",
      "✅ Uploaded: images/Animalia/Squamata/Colubridae/sirtalis/bb10c13f-d9a1-41ae-a72b-339864750ddb.jpg\n",
      "✅ Uploaded: images/Animalia/Squamata/Colubridae/sirtalis/bee9a4fd-d0b5-4e33-9de4-cc79a5f1c461.jpg\n"
     ]
    },
    {
     "name": "stderr",
     "output_type": "stream",
     "text": [
      "Processing images:  31%|██████████████████▌                                        | 1916/6098 [00:29<01:10, 59.67it/s]"
     ]
    },
    {
     "name": "stdout",
     "output_type": "stream",
     "text": [
      "✅ Uploaded: images/Animalia/Squamata/Colubridae/sirtalis/c63f7036-6700-4a57-8246-1d6faee5b4ce.jpg\n",
      "✅ Uploaded: images/Animalia/Squamata/Colubridae/sirtalis/e615307f-b265-47e2-8d10-2a32cb4116ae.jpg\n"
     ]
    },
    {
     "name": "stderr",
     "output_type": "stream",
     "text": [
      "Processing images:  32%|██████████████████▌                                       | 1956/6098 [00:29<00:36, 113.89it/s]"
     ]
    },
    {
     "name": "stdout",
     "output_type": "stream",
     "text": [
      "✅ Uploaded: images/Animalia/Squamata/Colubridae/taxispilota/0a7ea794-f727-4ae7-8305-f1adec314f9b.jpg\n",
      "✅ Uploaded: images/Animalia/Squamata/Colubridae/taxispilota/2c9f31d7-71f9-4a4c-9da8-e96af70c1a0a.jpg\n",
      "✅ Uploaded: images/Animalia/Squamata/Colubridae/taxispilota/43358fc9-6f42-4311-b502-681b193b8268.jpg\n",
      "✅ Uploaded: images/Animalia/Squamata/Colubridae/taxispilota/545cfe75-0131-4416-aa58-de714b854ebc.jpg\n"
     ]
    },
    {
     "name": "stderr",
     "output_type": "stream",
     "text": [
      "Processing images:  32%|███████████████████                                        | 1969/6098 [00:30<00:48, 85.85it/s]"
     ]
    },
    {
     "name": "stdout",
     "output_type": "stream",
     "text": [
      "✅ Uploaded: images/Animalia/Squamata/Colubridae/taxispilota/6522dc2e-e2bf-4719-a428-0c464c3a96b0.jpg\n",
      "✅ Uploaded: images/Animalia/Squamata/Colubridae/taxispilota/764a9e8b-1f79-45e6-bd24-8d5083858fc6.jpg\n",
      "✅ Uploaded: images/Animalia/Squamata/Colubridae/taxispilota/7aff1bbb-dae3-4ec2-b9cd-32abc857a417.jpg\n",
      "✅ Uploaded: images/Animalia/Squamata/Colubridae/taxispilota/93f067c7-b95f-4a7b-bf7f-9026f01d83b5.jpg\n"
     ]
    },
    {
     "name": "stderr",
     "output_type": "stream",
     "text": [
      "Processing images:  32%|███████████████████▏                                       | 1980/6098 [00:30<00:54, 75.14it/s]"
     ]
    },
    {
     "name": "stdout",
     "output_type": "stream",
     "text": [
      "✅ Uploaded: images/Animalia/Squamata/Colubridae/taxispilota/97186f55-485a-4dda-8321-83f6b1bb27f0.jpg\n",
      "✅ Uploaded: images/Animalia/Squamata/Colubridae/taxispilota/97db01aa-1dec-4959-8d6f-fa220fae6aa1.jpg\n",
      "✅ Uploaded: images/Animalia/Squamata/Colubridae/taxispilota/b31ad7c5-0ecc-4f10-8549-290b3753cbe9.jpg\n"
     ]
    },
    {
     "name": "stderr",
     "output_type": "stream",
     "text": [
      "Processing images:  33%|███████████████████▏                                       | 1989/6098 [00:30<01:11, 57.45it/s]"
     ]
    },
    {
     "name": "stdout",
     "output_type": "stream",
     "text": [
      "✅ Uploaded: images/Animalia/Squamata/Colubridae/taxispilota/beca0268-40e9-43d3-b702-024a5f843802.jpg\n",
      "✅ Uploaded: images/Animalia/Squamata/Colubridae/taxispilota/c2eb976a-5e5a-435e-8dcb-6b6b76dc6146.jpg\n",
      "✅ Uploaded: images/Animalia/Squamata/Colubridae/taxispilota/c84e206d-362b-4b97-af9e-00b2f7164992.jpg\n",
      "✅ Uploaded: images/Animalia/Squamata/Colubridae/taxispilota/d0421dcd-f37e-455e-820a-fced8b90a11d.jpg\n"
     ]
    },
    {
     "name": "stderr",
     "output_type": "stream",
     "text": [
      "Processing images:  33%|███████████████████▎                                       | 1996/6098 [00:31<01:26, 47.69it/s]"
     ]
    },
    {
     "name": "stdout",
     "output_type": "stream",
     "text": [
      "✅ Uploaded: images/Animalia/Squamata/Colubridae/taxispilota/d53f9ecb-e137-4fb4-af7f-356c9883e39d.jpg\n",
      "✅ Uploaded: images/Animalia/Squamata/Colubridae/taxispilota/d74c39c7-f6cb-492c-88a0-ba0a59288f0e.jpg\n",
      "✅ Uploaded: images/Animalia/Squamata/Colubridae/taxispilota/dc0077bd-1b4e-49d7-ac22-750e5610a3a3.jpg\n",
      "✅ Uploaded: images/Animalia/Squamata/Colubridae/taxispilota/e26b3b33-6f90-462c-9b70-70d29b66feee.jpg\n"
     ]
    },
    {
     "name": "stderr",
     "output_type": "stream",
     "text": [
      "Processing images:  33%|███████████████████▎                                       | 2002/6098 [00:31<01:43, 39.44it/s]"
     ]
    },
    {
     "name": "stdout",
     "output_type": "stream",
     "text": [
      "✅ Uploaded: images/Animalia/Squamata/Colubridae/triangulum/30f1b961-2bb4-4963-aa2d-d38ffb7e4294.jpg\n",
      "✅ Uploaded: images/Animalia/Squamata/Colubridae/triangulum/3b8f36cb-e932-4a5f-944b-e83e9e63f9b4.jpg\n",
      "✅ Uploaded: images/Animalia/Squamata/Colubridae/triangulum/3c719908-5ae0-4202-95ce-8c746aa914ba.jpg\n",
      "✅ Uploaded: images/Animalia/Squamata/Colubridae/triangulum/459e8547-07ed-4441-ae44-bd397e60d64d.jpg\n",
      "✅ Uploaded: images/Animalia/Squamata/Colubridae/triangulum/46d36984-cc57-49fc-8d12-49113ffbdabb.jpg\n",
      "✅ Uploaded: images/Animalia/Squamata/Colubridae/triangulum/58b99524-82a1-479b-9a5c-6765ecdfd97f.jpg\n",
      "✅ Uploaded: images/Animalia/Squamata/Colubridae/triangulum/61897757-9a21-4f82-b66e-3c191e210dfd.jpg\n"
     ]
    },
    {
     "name": "stderr",
     "output_type": "stream",
     "text": [
      "Processing images:  33%|███████████████████▍                                       | 2007/6098 [00:31<02:06, 32.46it/s]"
     ]
    },
    {
     "name": "stdout",
     "output_type": "stream",
     "text": [
      "✅ Uploaded: images/Animalia/Squamata/Colubridae/triangulum/63a0ced7-5574-424d-80d3-139abcb08f54.jpg\n",
      "✅ Uploaded: images/Animalia/Squamata/Colubridae/triangulum/7625c47c-54c8-46bb-98e2-10ae4e214874.jpg\n",
      "✅ Uploaded: images/Animalia/Squamata/Colubridae/triangulum/7dcce0a5-0ae7-46b2-ba1b-20fcbb1e4347.jpg\n"
     ]
    },
    {
     "name": "stderr",
     "output_type": "stream",
     "text": [
      "Processing images:  33%|███████████████████▍                                       | 2011/6098 [00:31<02:30, 27.09it/s]"
     ]
    },
    {
     "name": "stdout",
     "output_type": "stream",
     "text": [
      "✅ Uploaded: images/Animalia/Squamata/Colubridae/triangulum/80dd1be1-9246-48fb-b28d-e5134fa21f17.jpg\n",
      "✅ Uploaded: images/Animalia/Squamata/Colubridae/triangulum/87c66067-754a-48e0-b1f0-15340533b021.jpg\n",
      "✅ Uploaded: images/Animalia/Squamata/Colubridae/triangulum/8c85934d-aaf0-4acf-98c3-0b695cf03e44.jpg\n",
      "✅ Uploaded: images/Animalia/Squamata/Colubridae/triangulum/91042126-4b94-4b2c-a754-c41e0e298cf0.jpg\n"
     ]
    },
    {
     "name": "stderr",
     "output_type": "stream",
     "text": [
      "Processing images:  33%|███████████████████▍                                       | 2015/6098 [00:32<02:50, 23.91it/s]"
     ]
    },
    {
     "name": "stdout",
     "output_type": "stream",
     "text": [
      "✅ Uploaded: images/Animalia/Squamata/Colubridae/triangulum/9dc8e047-b8ec-4b75-96d3-7ab16f72ec3a.jpg\n",
      "✅ Uploaded: images/Animalia/Squamata/Colubridae/triangulum/b71ba4e7-1a5e-411b-841b-02bfb6066752.jpg\n",
      "✅ Uploaded: images/Animalia/Squamata/Colubridae/triangulum/c6d98cf4-943c-42c7-a2b4-a491810f92f0.jpg\n",
      "✅ Uploaded: images/Animalia/Squamata/Colubridae/triangulum/d1c51684-8392-4f6e-b0bd-37f48fa83163.jpg\n"
     ]
    },
    {
     "name": "stderr",
     "output_type": "stream",
     "text": [
      "Processing images:  33%|███████████████████▌                                       | 2021/6098 [00:32<03:10, 21.40it/s]"
     ]
    },
    {
     "name": "stdout",
     "output_type": "stream",
     "text": [
      "✅ Uploaded: images/Animalia/Squamata/Colubridae/triangulum/de34a836-c6ff-4682-8c56-55bd8d3e8fea.jpg\n",
      "✅ Uploaded: images/Animalia/Squamata/Colubridae/triangulum/e8516b47-1060-453f-aeb0-a01ee82d26eb.jpg\n",
      "✅ Uploaded: images/Animalia/Squamata/Cylindrophiidae/ruffus/3762ce99-4c80-43a1-bcbc-ecf7ed7fc81d.jpg\n"
     ]
    },
    {
     "name": "stderr",
     "output_type": "stream",
     "text": [
      "Processing images:  36%|████████████████████▉                                     | 2201/6098 [00:32<00:13, 292.22it/s]"
     ]
    },
    {
     "name": "stdout",
     "output_type": "stream",
     "text": [
      "✅ Uploaded: images/Animalia/Squamata/Elapidae/atra/0774e15d-29bf-472f-bd26-15cf19daa506.jpg\n",
      "✅ Uploaded: images/Animalia/Squamata/Elapidae/atra/07cf8f63-f166-497b-ab82-60eb76d591cb.jpg\n",
      "✅ Uploaded: images/Animalia/Squamata/Elapidae/atra/1f843300-0fb5-4c11-800f-54947cb38ba4.jpg\n",
      "✅ Uploaded: images/Animalia/Squamata/Elapidae/atra/271c7d36-6bce-462f-a234-546def4ea83f.jpg\n",
      "✅ Uploaded: images/Animalia/Squamata/Elapidae/atra/3caca9b6-f546-46b2-a591-7da47f9025c5.jpg\n",
      "✅ Uploaded: images/Animalia/Squamata/Elapidae/atra/44458943-9329-4f1f-bf2e-124cc3d55504.jpg\n",
      "✅ Uploaded: images/Animalia/Squamata/Elapidae/atra/47dc8255-2002-4d8f-ae84-183a04acd629.jpg\n",
      "✅ Uploaded: images/Animalia/Squamata/Elapidae/atra/5c89d351-8381-4e44-9502-e7eab0ebca57.jpg\n",
      "✅ Uploaded: images/Animalia/Squamata/Elapidae/atra/757b4787-e2f3-4f51-8f07-67289d621028.jpg\n",
      "✅ Uploaded: images/Animalia/Squamata/Elapidae/atra/7c07f9c3-fa54-439f-998e-42c5b249fc65.jpg\n",
      "✅ Uploaded: images/Animalia/Squamata/Elapidae/atra/83deb275-f198-4dc6-83d9-388d891f9336.jpg\n",
      "✅ Uploaded: images/Animalia/Squamata/Elapidae/atra/8f0c3289-4fe2-443e-9923-7aa2f80704dc.jpg\n",
      "✅ Uploaded: images/Animalia/Squamata/Elapidae/atra/9050a9e7-1c01-4508-946f-ef088cb675c4.jpg\n",
      "✅ Uploaded: images/Animalia/Squamata/Elapidae/atra/91fc3b68-8d22-4aa0-b349-f116d4334192.jpg\n",
      "✅ Uploaded: images/Animalia/Squamata/Elapidae/atra/920808aa-5379-454c-baf1-409d27d68d1d.jpg\n",
      "✅ Uploaded: images/Animalia/Squamata/Elapidae/atra/9b7ff772-4b8d-4584-9ff5-8cd2ea7264be.jpg\n",
      "✅ Uploaded: images/Animalia/Squamata/Elapidae/atra/9ba4c028-976f-4171-9e6e-b742f0f336f1.jpg\n",
      "✅ Uploaded: images/Animalia/Squamata/Elapidae/atra/bd5aa487-c904-4161-8f4f-7039d2c9e73a.jpg\n",
      "✅ Uploaded: images/Animalia/Squamata/Elapidae/atra/c8408d3a-bb10-4e18-8a41-1af06554f2c9.jpg\n"
     ]
    },
    {
     "name": "stderr",
     "output_type": "stream",
     "text": [
      "Processing images:  38%|█████████████████████▊                                    | 2288/6098 [00:34<00:36, 103.26it/s]"
     ]
    },
    {
     "name": "stdout",
     "output_type": "stream",
     "text": [
      "✅ Uploaded: images/Animalia/Squamata/Elapidae/atra/ee84db65-110a-4c68-8c9a-7901ee62c657.jpg\n",
      "✅ Uploaded: images/Animalia/Squamata/Elapidae/fulvius/01dbd6ec-113e-4c83-9ddb-2ab3653d5e1e.jpg\n",
      "✅ Uploaded: images/Animalia/Squamata/Elapidae/fulvius/1a370ab0-480e-4b06-8a2b-09937b22efd8.jpg\n",
      "✅ Uploaded: images/Animalia/Squamata/Elapidae/fulvius/2fe0a037-3cc6-4920-9308-b89dbae2dbd3.jpg\n",
      "✅ Uploaded: images/Animalia/Squamata/Elapidae/fulvius/3183b456-b9a0-47ed-b140-c90c832b2e17.jpg\n",
      "✅ Uploaded: images/Animalia/Squamata/Elapidae/fulvius/3ecc5035-32e6-4b16-8eff-12c94f33e7eb.jpg\n",
      "✅ Uploaded: images/Animalia/Squamata/Elapidae/fulvius/48b8e422-5eb0-4408-97c9-62930b7c807c.jpg\n",
      "✅ Uploaded: images/Animalia/Squamata/Elapidae/fulvius/6ba80293-2992-4117-85fb-94bea8a9e728.jpg\n",
      "✅ Uploaded: images/Animalia/Squamata/Elapidae/fulvius/70c4cd1d-b70f-46b1-abd1-59bf90d09d73.jpg\n",
      "✅ Uploaded: images/Animalia/Squamata/Elapidae/fulvius/7b43b5e4-aa49-4910-bc90-6c467a59a8da.jpg\n",
      "✅ Uploaded: images/Animalia/Squamata/Elapidae/fulvius/84425db3-a046-421a-a73a-74c4e9bf61ec.jpg\n",
      "✅ Uploaded: images/Animalia/Squamata/Elapidae/fulvius/87b1a160-7a63-4568-9523-a0d9a3f354dc.jpg\n",
      "✅ Uploaded: images/Animalia/Squamata/Elapidae/fulvius/8d88d4cf-e033-42ff-a1ef-1eeafd6423a0.jpg\n",
      "✅ Uploaded: images/Animalia/Squamata/Elapidae/fulvius/98dbcbcc-10b7-44ea-b460-1b988bbcacc0.jpg\n",
      "✅ Uploaded: images/Animalia/Squamata/Elapidae/fulvius/9bc9ec86-74ca-4916-8d26-0157c387efce.jpg\n",
      "✅ Uploaded: images/Animalia/Squamata/Elapidae/fulvius/a3fa55fa-0bc9-40e5-b392-49514b361641.jpg\n",
      "✅ Uploaded: images/Animalia/Squamata/Elapidae/fulvius/ae48c378-1ef5-4493-82dc-e43d8f846b72.jpg\n",
      "✅ Uploaded: images/Animalia/Squamata/Elapidae/fulvius/b4ec5505-40d8-4107-b47c-3d3ba1180cc7.jpg\n",
      "✅ Uploaded: images/Animalia/Squamata/Elapidae/fulvius/b5d53592-20bd-4d79-b3d4-d55255cad66b.jpg\n"
     ]
    },
    {
     "name": "stderr",
     "output_type": "stream",
     "text": [
      "Processing images:  38%|██████████████████████▍                                    | 2316/6098 [00:36<01:18, 48.11it/s]"
     ]
    },
    {
     "name": "stdout",
     "output_type": "stream",
     "text": [
      "✅ Uploaded: images/Animalia/Squamata/Elapidae/fulvius/dbbbef88-f2f9-492b-9175-735e4845e604.jpg\n",
      "✅ Uploaded: images/Animalia/Squamata/Elapidae/fulvius/fa9303e1-6be7-40a4-b772-5d859c059331.jpg\n"
     ]
    },
    {
     "name": "stderr",
     "output_type": "stream",
     "text": [
      "Processing images:  39%|██████████████████████▊                                    | 2354/6098 [00:36<00:59, 62.77it/s]"
     ]
    },
    {
     "name": "stdout",
     "output_type": "stream",
     "text": [
      "✅ Uploaded: images/Animalia/Squamata/Elapidae/laticaudata/1481d971-1e06-4e96-9c82-e52fae1bdacc.jpg\n",
      "✅ Uploaded: images/Animalia/Squamata/Elapidae/laticaudata/1a64d66e-a6ad-4fd2-9a58-4d450a9a2f95.jpg\n",
      "✅ Uploaded: images/Animalia/Squamata/Elapidae/laticaudata/237003e9-2426-4deb-a13d-f5e44db534fb.jpg\n",
      "✅ Uploaded: images/Animalia/Squamata/Elapidae/laticaudata/34c3c948-f30a-47a7-a23b-4e7d82092edb.jpg\n",
      "✅ Uploaded: images/Animalia/Squamata/Elapidae/laticaudata/461aee43-b389-4302-9474-c3dfccf0fec0.jpg\n",
      "✅ Uploaded: images/Animalia/Squamata/Elapidae/laticaudata/4db548dc-05e2-43f9-94a5-5f6c8b210024.jpg\n",
      "✅ Uploaded: images/Animalia/Squamata/Elapidae/laticaudata/707cd372-2134-4bbf-86c8-3625fea34fcd.jpg\n",
      "✅ Uploaded: images/Animalia/Squamata/Elapidae/laticaudata/7673a8be-b615-4a88-8c01-e79b60da5a91.jpg\n",
      "✅ Uploaded: images/Animalia/Squamata/Elapidae/laticaudata/7814d8a4-3920-4e2f-856f-41161877f329.jpg\n",
      "✅ Uploaded: images/Animalia/Squamata/Elapidae/laticaudata/79f4af84-f3e7-4c0d-837f-2d189e75e68b.jpg\n",
      "✅ Uploaded: images/Animalia/Squamata/Elapidae/laticaudata/7acf8a69-9bf0-42f3-90cc-8cb11a6809f5.jpg\n",
      "✅ Uploaded: images/Animalia/Squamata/Elapidae/laticaudata/8193e1c3-2f38-4533-b0c0-7742ed569c57.jpg\n",
      "✅ Uploaded: images/Animalia/Squamata/Elapidae/laticaudata/992fc5be-f6df-4470-8078-3057184c71c7.jpg\n",
      "✅ Uploaded: images/Animalia/Squamata/Elapidae/laticaudata/9f145e6c-e4ba-44b4-8148-6cff441646ee.jpg\n",
      "✅ Uploaded: images/Animalia/Squamata/Elapidae/laticaudata/b7856a81-aeb4-44d8-9b86-0cf8ee6fb496.jpg\n",
      "✅ Uploaded: images/Animalia/Squamata/Elapidae/laticaudata/cd85af9e-553b-4826-b608-ef53ea1ede2b.jpg\n",
      "✅ Uploaded: images/Animalia/Squamata/Elapidae/laticaudata/d97e3e19-e132-479c-ad84-e7d28e919b6d.jpg\n",
      "✅ Uploaded: images/Animalia/Squamata/Elapidae/laticaudata/de2c5a4a-976e-4eff-8a41-02de79a56585.jpg\n"
     ]
    },
    {
     "name": "stderr",
     "output_type": "stream",
     "text": [
      "Processing images:  39%|███████████████████████                                    | 2379/6098 [00:38<01:35, 39.09it/s]"
     ]
    },
    {
     "name": "stdout",
     "output_type": "stream",
     "text": [
      "✅ Uploaded: images/Animalia/Squamata/Elapidae/laticaudata/e47bac06-ec8d-4cb0-8f5a-524915610820.jpg\n",
      "✅ Uploaded: images/Animalia/Squamata/Elapidae/laticaudata/e78266f4-0476-4b07-b8b2-869908965a3f.jpg\n",
      "✅ Uploaded: images/Animalia/Squamata/Elapidae/multicinctus/0d963a03-65e8-41ce-9857-cd85d686fa68.jpg\n"
     ]
    },
    {
     "name": "stderr",
     "output_type": "stream",
     "text": [
      "Processing images:  40%|███████████████████████▎                                   | 2415/6098 [00:38<01:14, 49.43it/s]"
     ]
    },
    {
     "name": "stdout",
     "output_type": "stream",
     "text": [
      "✅ Uploaded: images/Animalia/Squamata/Elapidae/multicinctus/31a5dc63-dd53-4ef7-8c07-8d73bb5ff536.jpg\n",
      "✅ Uploaded: images/Animalia/Squamata/Elapidae/multicinctus/35b4df89-ba8d-48a4-9e36-7258db0a3c08.jpg\n",
      "✅ Uploaded: images/Animalia/Squamata/Elapidae/multicinctus/58723b3f-1bf3-4d03-8537-21696fa3d619.jpg\n",
      "✅ Uploaded: images/Animalia/Squamata/Elapidae/multicinctus/70a1b9cc-fa93-46ab-be8b-7b209eb0959e.jpg\n",
      "✅ Uploaded: images/Animalia/Squamata/Elapidae/multicinctus/77ea3824-9f81-46e0-9df5-732c647a5728.jpg\n"
     ]
    },
    {
     "name": "stderr",
     "output_type": "stream",
     "text": [
      "Processing images:  40%|███████████████████████▌                                   | 2429/6098 [00:38<01:16, 47.78it/s]"
     ]
    },
    {
     "name": "stdout",
     "output_type": "stream",
     "text": [
      "✅ Uploaded: images/Animalia/Squamata/Elapidae/multicinctus/8b688b16-8230-498e-a1c2-c06bb011a47a.jpg\n",
      "✅ Uploaded: images/Animalia/Squamata/Elapidae/multicinctus/aa8aa312-2b85-4988-b523-7d2358f3c25d.jpg\n",
      "✅ Uploaded: images/Animalia/Squamata/Elapidae/multicinctus/ad2c91fd-5419-483c-b896-a72003d69f63.jpg\n",
      "✅ Uploaded: images/Animalia/Squamata/Elapidae/multicinctus/b74dec01-220a-4ed5-a6f0-fcdda4df0027.jpg\n",
      "✅ Uploaded: images/Animalia/Squamata/Elapidae/multicinctus/b7d1b267-4677-47df-8b22-8f9de63e876e.jpg\n",
      "✅ Uploaded: images/Animalia/Squamata/Elapidae/multicinctus/d38492e0-8515-4d81-9813-26fe88fde4ed.jpg\n",
      "✅ Uploaded: images/Animalia/Squamata/Elapidae/multicinctus/d6b660df-2cf5-4d91-8e29-5f8fe334b76d.jpg\n"
     ]
    },
    {
     "name": "stderr",
     "output_type": "stream",
     "text": [
      "Processing images:  40%|███████████████████████▋                                   | 2450/6098 [00:39<01:24, 43.05it/s]"
     ]
    },
    {
     "name": "stdout",
     "output_type": "stream",
     "text": [
      "✅ Uploaded: images/Animalia/Squamata/Elapidae/multicinctus/db8d3a26-9965-476e-adce-ac5678ba40a3.jpg\n",
      "✅ Uploaded: images/Animalia/Squamata/Elapidae/multicinctus/f284ebf6-4c39-4479-90a6-2222e8473c09.jpg\n",
      "✅ Uploaded: images/Animalia/Squamata/Elapidae/multicinctus/fa457722-eb4c-4dcc-bb3b-72f18190acdc.jpg\n"
     ]
    },
    {
     "name": "stderr",
     "output_type": "stream",
     "text": [
      "Processing images:  40%|███████████████████████▊                                   | 2459/6098 [00:39<01:27, 41.39it/s]"
     ]
    },
    {
     "name": "stdout",
     "output_type": "stream",
     "text": [
      "✅ Uploaded: images/Animalia/Squamata/Elapidae/naja/1248b15b-233d-48f2-b629-18a93fe913bc.jpg\n",
      "✅ Uploaded: images/Animalia/Squamata/Elapidae/naja/1c508ecd-a2d7-4092-8106-d760db5deaec.jpg\n",
      "✅ Uploaded: images/Animalia/Squamata/Elapidae/naja/1eb77490-d648-446a-9956-e764dabcf6f0.jpg\n",
      "✅ Uploaded: images/Animalia/Squamata/Elapidae/naja/320238a2-7d8e-4bf1-819a-6ed1fa32a587.jpg\n"
     ]
    },
    {
     "name": "stderr",
     "output_type": "stream",
     "text": [
      "Processing images:  41%|████████████████████████                                   | 2481/6098 [00:39<01:09, 52.24it/s]"
     ]
    },
    {
     "name": "stdout",
     "output_type": "stream",
     "text": [
      "✅ Uploaded: images/Animalia/Squamata/Elapidae/naja/3854d7c7-31a2-4f2f-8552-695c31e1d607.jpg\n",
      "✅ Uploaded: images/Animalia/Squamata/Elapidae/naja/53f08762-04b3-4fb5-9b98-d9a98dd54284.jpg\n",
      "✅ Uploaded: images/Animalia/Squamata/Elapidae/naja/576a9398-12e3-4911-b157-b737b306ac65.jpg\n"
     ]
    },
    {
     "name": "stderr",
     "output_type": "stream",
     "text": [
      "Processing images:  41%|████████████████████████▏                                  | 2504/6098 [00:40<00:57, 62.59it/s]"
     ]
    },
    {
     "name": "stdout",
     "output_type": "stream",
     "text": [
      "✅ Uploaded: images/Animalia/Squamata/Elapidae/naja/5af6a275-1719-4e75-abf5-1912773e46da.jpg\n",
      "✅ Uploaded: images/Animalia/Squamata/Elapidae/naja/85604a08-44ef-417c-98a5-d0a6407fcd73.jpg\n",
      "✅ Uploaded: images/Animalia/Squamata/Elapidae/naja/8cdbbcd8-4aec-4951-be1e-036dc8721a8e.jpg\n"
     ]
    },
    {
     "name": "stderr",
     "output_type": "stream",
     "text": [
      "Processing images:  41%|████████████████████████▍                                  | 2530/6098 [00:40<00:37, 94.70it/s]"
     ]
    },
    {
     "name": "stdout",
     "output_type": "stream",
     "text": [
      "✅ Uploaded: images/Animalia/Squamata/Elapidae/naja/f4b5802d-4908-4611-abf9-2b1c3892491d.jpg\n",
      "✅ Uploaded: images/Animalia/Squamata/Elapidae/narduccii/661cec5f-1264-413a-99fc-6a1add16f912.jpg\n",
      "✅ Uploaded: images/Animalia/Squamata/Elapidae/narduccii/7b7f2dea-68a4-40b0-8d6f-66df0920a987.jpg\n",
      "✅ Uploaded: images/Animalia/Squamata/Elapidae/narduccii/c890cca7-8837-4329-a4e5-5c73653e0b13.jpg\n"
     ]
    },
    {
     "name": "stderr",
     "output_type": "stream",
     "text": [
      "Processing images:  42%|████████████████████████▋                                 | 2590/6098 [00:40<00:25, 139.67it/s]"
     ]
    },
    {
     "name": "stdout",
     "output_type": "stream",
     "text": [
      "✅ Uploaded: images/Animalia/Squamata/Elapidae/narduccii/ce2462eb-7bc8-4a9a-9650-ce2c59ac840a.jpg\n",
      "✅ Uploaded: images/Animalia/Squamata/Elapidae/porphyriacus/029570b9-6974-4183-88ca-b99cd4be1901.jpg\n",
      "✅ Uploaded: images/Animalia/Squamata/Elapidae/porphyriacus/14c10560-dc15-4732-8307-4239f6f740db.jpg\n",
      "✅ Uploaded: images/Animalia/Squamata/Elapidae/porphyriacus/23ecce91-4752-4adc-bef9-19d8a15da439.jpg\n"
     ]
    },
    {
     "name": "stderr",
     "output_type": "stream",
     "text": [
      "Processing images:  43%|████████████████████████▊                                 | 2608/6098 [00:40<00:28, 124.28it/s]"
     ]
    },
    {
     "name": "stdout",
     "output_type": "stream",
     "text": [
      "✅ Uploaded: images/Animalia/Squamata/Elapidae/porphyriacus/298d9451-efbd-4872-b4ca-2c9c0d9ee6ea.jpg\n",
      "✅ Uploaded: images/Animalia/Squamata/Elapidae/porphyriacus/2d841563-5391-4414-b73e-eee1221f0f9c.jpg\n",
      "✅ Uploaded: images/Animalia/Squamata/Elapidae/porphyriacus/681f7785-0e67-4197-be58-c942bc888a77.jpg\n",
      "✅ Uploaded: images/Animalia/Squamata/Elapidae/porphyriacus/76056eb5-6f11-447e-bac0-e77099327246.jpg\n",
      "✅ Uploaded: images/Animalia/Squamata/Elapidae/porphyriacus/7eb3b626-9cfb-4ccb-b640-e5da7d2cd443.jpg\n",
      "✅ Uploaded: images/Animalia/Squamata/Elapidae/porphyriacus/8227b41d-1e6f-4cd5-af4b-f4b17110b66c.jpg\n",
      "✅ Uploaded: images/Animalia/Squamata/Elapidae/porphyriacus/83b8b74e-5e2b-497d-848a-26f143195860.jpg\n"
     ]
    },
    {
     "name": "stderr",
     "output_type": "stream",
     "text": [
      "Processing images:  43%|█████████████████████████▍                                 | 2623/6098 [00:41<00:44, 77.52it/s]"
     ]
    },
    {
     "name": "stdout",
     "output_type": "stream",
     "text": [
      "✅ Uploaded: images/Animalia/Squamata/Elapidae/porphyriacus/879e7179-2e71-40da-8d60-14ecc900c8b6.jpg\n",
      "✅ Uploaded: images/Animalia/Squamata/Elapidae/porphyriacus/8a4d658c-e990-4a4d-9832-dc7a54a466bf.jpg\n",
      "✅ Uploaded: images/Animalia/Squamata/Elapidae/porphyriacus/90c5411c-4f61-4dfd-a838-77687add2134.jpg\n",
      "✅ Uploaded: images/Animalia/Squamata/Elapidae/porphyriacus/a08b8466-5204-4ff8-9321-8a82fb8b9314.jpg\n"
     ]
    },
    {
     "name": "stderr",
     "output_type": "stream",
     "text": [
      "Processing images:  43%|█████████████████████████▍                                 | 2635/6098 [00:41<00:49, 70.22it/s]"
     ]
    },
    {
     "name": "stdout",
     "output_type": "stream",
     "text": [
      "✅ Uploaded: images/Animalia/Squamata/Elapidae/porphyriacus/a3edbdec-6230-48ec-925f-559da3f8de57.jpg\n",
      "✅ Uploaded: images/Animalia/Squamata/Elapidae/porphyriacus/b55677b0-f8a0-49a6-98eb-e79d906c7360.jpg\n",
      "✅ Uploaded: images/Animalia/Squamata/Elapidae/porphyriacus/bb8b03db-d4df-493b-8336-76b34679c783.jpg\n"
     ]
    },
    {
     "name": "stderr",
     "output_type": "stream",
     "text": [
      "Processing images:  43%|█████████████████████████▌                                 | 2645/6098 [00:41<00:54, 62.92it/s]"
     ]
    },
    {
     "name": "stdout",
     "output_type": "stream",
     "text": [
      "✅ Uploaded: images/Animalia/Squamata/Elapidae/porphyriacus/c0000f57-35e0-4aae-953f-64d93026ab92.jpg\n",
      "✅ Uploaded: images/Animalia/Squamata/Elapidae/porphyriacus/d542aa46-f8bb-424a-a98f-3783652e76f6.jpg\n",
      "✅ Uploaded: images/Animalia/Squamata/Elapidae/porphyriacus/dc7be6d1-a511-43a6-bc6c-8e7ce52c3ae4.jpg\n",
      "✅ Uploaded: images/Animalia/Squamata/Elapidae/ramsayi/2b0be970-3bf8-4852-b4bb-1eae1ff11a6b.jpg\n"
     ]
    },
    {
     "name": "stderr",
     "output_type": "stream",
     "text": [
      "Processing images:  44%|█████████████████████████▋                                 | 2660/6098 [00:41<00:49, 68.86it/s]"
     ]
    },
    {
     "name": "stdout",
     "output_type": "stream",
     "text": [
      "✅ Uploaded: images/Animalia/Squamata/Elapidae/ramsayi/2f762911-1f26-448f-833a-f87a56a8ec64.jpg\n",
      "✅ Uploaded: images/Animalia/Squamata/Elapidae/ramsayi/35bf648c-36c2-477c-b240-d7fe9d846265.jpg\n",
      "✅ Uploaded: images/Animalia/Squamata/Elapidae/ramsayi/3e42ba09-b269-4a0c-a927-c1f230d1be40.jpg\n"
     ]
    },
    {
     "name": "stderr",
     "output_type": "stream",
     "text": [
      "Processing images:  44%|█████████████████████████▉                                 | 2676/6098 [00:42<01:04, 53.04it/s]"
     ]
    },
    {
     "name": "stdout",
     "output_type": "stream",
     "text": [
      "✅ Uploaded: images/Animalia/Squamata/Elapidae/ramsayi/4257f3b5-7131-40b1-b79d-0edbda39bd49.jpg\n",
      "✅ Uploaded: images/Animalia/Squamata/Elapidae/ramsayi/46574c79-31a9-411b-b001-473f7d96e8c0.jpg\n",
      "✅ Uploaded: images/Animalia/Squamata/Elapidae/ramsayi/493340c5-cf05-41b0-802f-c65d8efa00cf.jpg\n",
      "✅ Uploaded: images/Animalia/Squamata/Elapidae/ramsayi/56fed2e3-2a25-4225-a879-83c194ad7a96.jpg\n"
     ]
    },
    {
     "name": "stderr",
     "output_type": "stream",
     "text": [
      "Processing images:  44%|█████████████████████████▉                                 | 2683/6098 [00:42<01:03, 53.65it/s]"
     ]
    },
    {
     "name": "stdout",
     "output_type": "stream",
     "text": [
      "✅ Uploaded: images/Animalia/Squamata/Elapidae/ramsayi/5dc3decb-5580-4771-bddc-a58de6a0fe91.jpg\n",
      "✅ Uploaded: images/Animalia/Squamata/Elapidae/ramsayi/694094d4-4ad7-4f19-b759-ea4d83c5c1e4.jpg\n",
      "✅ Uploaded: images/Animalia/Squamata/Elapidae/ramsayi/7823f394-7aca-4244-b5d8-2fe9b9b44570.jpg\n",
      "✅ Uploaded: images/Animalia/Squamata/Elapidae/ramsayi/837e0b9e-df32-4a43-8ecc-3ce4f69f40e0.jpg\n",
      "✅ Uploaded: images/Animalia/Squamata/Elapidae/ramsayi/86aad4aa-2f82-422e-989f-6ef67e6b943a.jpg\n"
     ]
    },
    {
     "name": "stderr",
     "output_type": "stream",
     "text": [
      "Processing images:  44%|██████████████████████████▏                                | 2709/6098 [00:42<00:51, 66.12it/s]"
     ]
    },
    {
     "name": "stdout",
     "output_type": "stream",
     "text": [
      "✅ Uploaded: images/Animalia/Squamata/Elapidae/ramsayi/c4440021-42ce-42ca-9153-7e0ea932384e.jpg\n",
      "✅ Uploaded: images/Animalia/Squamata/Elapidae/ramsayi/c7c34dbb-f149-4cb6-9c3e-0910980c5456.jpg\n",
      "✅ Uploaded: images/Animalia/Squamata/Elapidae/ramsayi/cbc019c4-2a34-476d-8991-7170489fc7b5.jpg\n",
      "✅ Uploaded: images/Animalia/Squamata/Elapidae/ramsayi/e6dc0650-2d96-4d2b-9cb8-158afa74fd4a.jpg\n"
     ]
    },
    {
     "name": "stderr",
     "output_type": "stream",
     "text": [
      "Processing images:  45%|██████████████████████████▎                                | 2720/6098 [00:42<00:46, 73.22it/s]"
     ]
    },
    {
     "name": "stdout",
     "output_type": "stream",
     "text": [
      "✅ Uploaded: images/Animalia/Squamata/Elapidae/ramsayi/f2998ccb-b074-4e0a-afcf-1a90453f4be5.jpg\n",
      "✅ Uploaded: images/Animalia/Squamata/Elapidae/saintgironsi/1ed1fd19-f8c9-4810-8e15-1ac4a3d63ecf.jpg\n",
      "✅ Uploaded: images/Animalia/Squamata/Elapidae/saintgironsi/249d7984-8245-451c-a2d4-0aa053e6aa60.jpg\n"
     ]
    },
    {
     "name": "stderr",
     "output_type": "stream",
     "text": [
      "Processing images:  45%|██████████████████████████▍                                | 2728/6098 [00:43<01:14, 45.31it/s]"
     ]
    },
    {
     "name": "stdout",
     "output_type": "stream",
     "text": [
      "✅ Uploaded: images/Animalia/Squamata/Elapidae/saintgironsi/2ca0e043-169d-40e4-a3ef-9be77769ccab.jpg\n",
      "✅ Uploaded: images/Animalia/Squamata/Elapidae/saintgironsi/2d0fa027-ea64-4193-a44e-c1156c5e9471.jpg\n",
      "✅ Uploaded: images/Animalia/Squamata/Elapidae/saintgironsi/2db2a95f-08d4-4ea0-8c66-f95951a650a3.jpg\n",
      "✅ Uploaded: images/Animalia/Squamata/Elapidae/saintgironsi/4cbbe45e-a8b7-42b2-b7d3-2fbe42c004c1.jpg\n",
      "✅ Uploaded: images/Animalia/Squamata/Elapidae/saintgironsi/5aec5590-603e-4dfa-a1b6-ed0c54dea36d.jpg\n",
      "✅ Uploaded: images/Animalia/Squamata/Elapidae/saintgironsi/79c5883e-73a7-48ff-b161-4f6eb722ede3.jpg\n",
      "✅ Uploaded: images/Animalia/Squamata/Elapidae/saintgironsi/7b3437e3-83f8-464c-b2f0-726939fc852a.jpg\n",
      "✅ Uploaded: images/Animalia/Squamata/Elapidae/saintgironsi/86c8f798-9dc4-4bd3-a001-e8ee4fe12dc6.jpg\n",
      "✅ Uploaded: images/Animalia/Squamata/Elapidae/saintgironsi/88505f5b-4d4f-4189-b65d-252eb9234acb.jpg\n"
     ]
    },
    {
     "name": "stderr",
     "output_type": "stream",
     "text": [
      "Processing images:  45%|██████████████████████████▍                                | 2735/6098 [00:43<02:07, 26.35it/s]"
     ]
    },
    {
     "name": "stdout",
     "output_type": "stream",
     "text": [
      "✅ Uploaded: images/Animalia/Squamata/Elapidae/saintgironsi/97585889-3fb6-4f6a-9e05-d9b5b37c28b6.jpg\n",
      "✅ Uploaded: images/Animalia/Squamata/Elapidae/saintgironsi/a7a19cae-cd61-4534-9d86-3a8107905cf3.jpg\n",
      "✅ Uploaded: images/Animalia/Squamata/Elapidae/saintgironsi/ac9032df-6e1a-465e-a099-3d49f1cdac3d.jpg\n",
      "✅ Uploaded: images/Animalia/Squamata/Elapidae/saintgironsi/b74a7406-cc04-4429-a9e0-7f24efde487a.jpg\n"
     ]
    },
    {
     "name": "stderr",
     "output_type": "stream",
     "text": [
      "Processing images:  45%|██████████████████████████▌                                | 2740/6098 [00:44<02:25, 23.11it/s]"
     ]
    },
    {
     "name": "stdout",
     "output_type": "stream",
     "text": [
      "✅ Uploaded: images/Animalia/Squamata/Elapidae/saintgironsi/d0c40534-0bd4-4834-875a-f337129ac21d.jpg\n",
      "✅ Uploaded: images/Animalia/Squamata/Elapidae/saintgironsi/d241821b-6f3b-4c90-bdf7-f04d93d9c0e4.jpg\n",
      "✅ Uploaded: images/Animalia/Squamata/Elapidae/saintgironsi/d39b5a33-281d-405d-9224-6222058e7b27.jpg\n"
     ]
    },
    {
     "name": "stderr",
     "output_type": "stream",
     "text": [
      "Processing images:  45%|██████████████████████████▌                                | 2744/6098 [00:44<02:30, 22.30it/s]"
     ]
    },
    {
     "name": "stdout",
     "output_type": "stream",
     "text": [
      "✅ Uploaded: images/Animalia/Squamata/Elapidae/saintgironsi/e246d9b3-cf48-42a6-9425-05fa43f50e99.jpg\n",
      "✅ Uploaded: images/Animalia/Squamata/Elapidae/saintgironsi/edeb235b-bd73-4219-8096-7d8d4e17c75d.jpg\n",
      "✅ Uploaded: images/Animalia/Squamata/Elapidae/suta/03cd4991-285c-4a69-81bf-9206eb7fbc2e.jpg\n"
     ]
    },
    {
     "name": "stderr",
     "output_type": "stream",
     "text": [
      "Processing images:  47%|███████████████████████████▎                              | 2878/6098 [00:44<00:18, 174.98it/s]"
     ]
    },
    {
     "name": "stdout",
     "output_type": "stream",
     "text": [
      "✅ Uploaded: images/Animalia/Squamata/Elapidae/suta/1763dfdd-8598-48aa-8904-c6d55475886d.jpg\n",
      "✅ Uploaded: images/Animalia/Squamata/Elapidae/suta/1ac44399-2ae8-4a02-adb3-b0b8871a52d2.jpg\n",
      "✅ Uploaded: images/Animalia/Squamata/Elapidae/suta/2784bb11-97bb-4d74-bd0d-707b56209c3e.jpg\n",
      "✅ Uploaded: images/Animalia/Squamata/Elapidae/suta/31422e0e-eaa4-4fee-ba06-400e03265ca4.jpg\n",
      "✅ Uploaded: images/Animalia/Squamata/Elapidae/suta/3630b631-bfba-42d6-8a03-c7dbac6cbe0a.jpg\n",
      "✅ Uploaded: images/Animalia/Squamata/Elapidae/suta/4d5d9b26-d458-46cb-8316-ef653e7a46a6.jpg\n",
      "✅ Uploaded: images/Animalia/Squamata/Elapidae/suta/5a228f26-dee8-4802-b8f7-8b11bc7db4c9.jpg\n",
      "✅ Uploaded: images/Animalia/Squamata/Elapidae/suta/5b015055-6423-49bb-8adf-12827e239746.jpg\n",
      "✅ Uploaded: images/Animalia/Squamata/Elapidae/suta/5e3013a9-65ec-46d4-856a-2529f3c29877.jpg\n",
      "✅ Uploaded: images/Animalia/Squamata/Elapidae/suta/686bc2e7-0f37-413b-ab9d-6d22586974d0.jpg\n",
      "✅ Uploaded: images/Animalia/Squamata/Elapidae/suta/80683ca5-f33e-4e49-8b4f-d46ca96038dc.jpg\n",
      "✅ Uploaded: images/Animalia/Squamata/Elapidae/suta/8612737b-2dbb-499f-bf98-c5a89ea3e1ef.jpg\n",
      "✅ Uploaded: images/Animalia/Squamata/Elapidae/suta/8a9ac321-8820-479e-9183-5e91ee255491.jpg\n",
      "✅ Uploaded: images/Animalia/Squamata/Elapidae/suta/8c3e1c21-56f2-479b-8e92-554592a0cfd4.jpg\n",
      "✅ Uploaded: images/Animalia/Squamata/Elapidae/suta/99800578-7e3d-4043-8f4f-6f9f1a17ff46.jpg\n"
     ]
    },
    {
     "name": "stderr",
     "output_type": "stream",
     "text": [
      "Processing images:  48%|████████████████████████████▏                              | 2908/6098 [00:46<00:54, 58.99it/s]"
     ]
    },
    {
     "name": "stdout",
     "output_type": "stream",
     "text": [
      "✅ Uploaded: images/Animalia/Squamata/Elapidae/suta/b11a487e-dd94-49c5-9843-465cdac3309b.jpg\n",
      "✅ Uploaded: images/Animalia/Squamata/Elapidae/suta/d9d86ccc-182b-4bd1-af17-cc7b1906b4c0.jpg\n",
      "✅ Uploaded: images/Animalia/Squamata/Elapidae/suta/df7e803e-2134-4ce9-bfb9-a642c9b95ecd.jpg\n",
      "✅ Uploaded: images/Animalia/Squamata/Elapidae/suta/f60aafcd-8c34-4e45-b407-162d342c0cff.jpg\n"
     ]
    },
    {
     "name": "stderr",
     "output_type": "stream",
     "text": [
      "Processing images:  49%|████████████████████████████▌                             | 3006/6098 [00:46<00:27, 113.04it/s]"
     ]
    },
    {
     "name": "stdout",
     "output_type": "stream",
     "text": [
      "✅ Uploaded: images/Animalia/Squamata/Lamprophiidae/aurora/0903e990-0a07-4f23-bb50-340bfec64cf5.jpg\n",
      "✅ Uploaded: images/Animalia/Squamata/Lamprophiidae/aurora/87ea7b34-698f-4c2c-8cd8-55c43246195f.jpg\n",
      "✅ Uploaded: images/Animalia/Squamata/Lamprophiidae/aurora/97c8f10b-641d-4ab5-a099-0f3d46df5f94.jpg\n",
      "✅ Uploaded: images/Animalia/Squamata/Lamprophiidae/aurora/c7132cf1-0eee-48cd-9ea7-c7f8d6a35c71.jpg\n",
      "✅ Uploaded: images/Animalia/Squamata/Lamprophiidae/aurora/dadf38a5-b796-4a0c-95c5-ebc2e0e32656.jpg\n",
      "✅ Uploaded: images/Animalia/Squamata/Lamprophiidae/aurora/e45826d8-6271-4fb1-95da-370a172c51ba.jpg\n",
      "✅ Uploaded: images/Animalia/Squamata/Lamprophiidae/aurora/e954be5a-8891-4d8e-a2a9-7dc822a95268.jpg\n",
      "✅ Uploaded: images/Animalia/Squamata/Lamprophiidae/aurora/fbac4898-6daa-4b89-8989-3cfb93de8ea6.jpg\n",
      "✅ Uploaded: images/Animalia/Squamata/Lamprophiidae/bedriagae/051b186a-f1a1-457b-9c3b-75baf8a0a4ae.jpg\n",
      "✅ Uploaded: images/Animalia/Squamata/Lamprophiidae/bedriagae/285a50c8-f407-475a-a36d-47d8202d383f.jpg\n",
      "✅ Uploaded: images/Animalia/Squamata/Lamprophiidae/bedriagae/510a59cd-fc1c-4e72-841f-2d09589bac48.jpg\n",
      "✅ Uploaded: images/Animalia/Squamata/Lamprophiidae/bedriagae/6745f319-8ff2-4076-9a78-6f7acbb602cb.jpg\n"
     ]
    },
    {
     "name": "stderr",
     "output_type": "stream",
     "text": [
      "Processing images:  50%|█████████████████████████████▌                             | 3050/6098 [00:47<00:39, 78.12it/s]"
     ]
    },
    {
     "name": "stdout",
     "output_type": "stream",
     "text": [
      "✅ Uploaded: images/Animalia/Squamata/Lamprophiidae/bedriagae/c47c23b8-b665-4fc5-8cbf-c818c161de01.jpg\n",
      "✅ Uploaded: images/Animalia/Squamata/Lamprophiidae/bedriagae/d9559fce-5f2f-4203-840f-5b7c4fbd31ee.jpg\n",
      "✅ Uploaded: images/Animalia/Squamata/Lamprophiidae/capense/0f5ba270-744d-45e2-ae2b-f96f0159e2fd.jpg\n",
      "✅ Uploaded: images/Animalia/Squamata/Lamprophiidae/capense/2d904b21-50b0-4dfd-9ae0-4a076abff062.jpg\n",
      "✅ Uploaded: images/Animalia/Squamata/Lamprophiidae/capense/32f79afd-20e6-4cb5-a05c-57e4c08c2d3b.jpg\n",
      "✅ Uploaded: images/Animalia/Squamata/Lamprophiidae/capense/43f4adb5-6f79-4818-9fdb-49f095d89dc8.jpg\n"
     ]
    },
    {
     "name": "stderr",
     "output_type": "stream",
     "text": [
      "Processing images:  51%|█████████████████████████████▊                             | 3082/6098 [00:47<00:38, 78.67it/s]"
     ]
    },
    {
     "name": "stdout",
     "output_type": "stream",
     "text": [
      "✅ Uploaded: images/Animalia/Squamata/Lamprophiidae/capense/53071671-8f11-44ac-996f-8561a47d11da.jpg\n",
      "✅ Uploaded: images/Animalia/Squamata/Lamprophiidae/capense/74a2bd51-3613-4a66-a7ad-719500fc7655.jpg\n",
      "✅ Uploaded: images/Animalia/Squamata/Lamprophiidae/capense/8f626ee9-003c-48ab-883f-bf1cc918c07a.jpg\n",
      "✅ Uploaded: images/Animalia/Squamata/Lamprophiidae/capense/bfa0fca2-adeb-400b-87f8-839346300b3c.jpg\n"
     ]
    },
    {
     "name": "stderr",
     "output_type": "stream",
     "text": [
      "Processing images:  52%|█████████████████████████████▉                            | 3143/6098 [00:48<00:29, 100.08it/s]"
     ]
    },
    {
     "name": "stdout",
     "output_type": "stream",
     "text": [
      "✅ Uploaded: images/Animalia/Squamata/Lamprophiidae/capense/cb571240-7c0f-4d52-890e-f96bb21fea1c.jpg\n",
      "✅ Uploaded: images/Animalia/Squamata/Lamprophiidae/capensis/09decebd-cc9e-498d-9380-7f5ea3da4bba.jpg\n",
      "✅ Uploaded: images/Animalia/Squamata/Lamprophiidae/capensis/12100717-2f1e-4b49-900b-0c7e5332cbe4.jpg\n"
     ]
    },
    {
     "name": "stderr",
     "output_type": "stream",
     "text": [
      "Processing images:  52%|██████████████████████████████▎                           | 3184/6098 [00:48<00:26, 109.11it/s]"
     ]
    },
    {
     "name": "stdout",
     "output_type": "stream",
     "text": [
      "✅ Uploaded: images/Animalia/Squamata/Lamprophiidae/capensis/3ac42231-75f5-498e-a83f-081fd7e5ba85.jpg\n",
      "✅ Uploaded: images/Animalia/Squamata/Lamprophiidae/capensis/6a0651b8-61e2-40d3-9585-d783e3aa30da.jpg\n",
      "✅ Uploaded: images/Animalia/Squamata/Lamprophiidae/capensis/6c93dae5-98b1-4b3b-85e8-03488c89ede4.jpg\n",
      "✅ Uploaded: images/Animalia/Squamata/Lamprophiidae/capensis/78e6a3c0-e38d-449c-ba71-aa7e985d78c2.jpg\n"
     ]
    },
    {
     "name": "stderr",
     "output_type": "stream",
     "text": [
      "Processing images:  53%|██████████████████████████████▍                           | 3202/6098 [00:48<00:28, 103.05it/s]"
     ]
    },
    {
     "name": "stdout",
     "output_type": "stream",
     "text": [
      "✅ Uploaded: images/Animalia/Squamata/Lamprophiidae/capensis/7a881e98-4ed6-41a1-9ad6-6b44a74092a9.jpg\n",
      "✅ Uploaded: images/Animalia/Squamata/Lamprophiidae/capensis/7ef760a6-6024-44cc-aafc-de00c043c9e6.jpg\n",
      "✅ Uploaded: images/Animalia/Squamata/Lamprophiidae/capensis/897d7b2f-ef3f-47a5-8144-0657f816680e.jpg\n",
      "✅ Uploaded: images/Animalia/Squamata/Lamprophiidae/capensis/8fbab3bf-79a4-4ed2-a6c5-8f0efd9ef2ab.jpg\n",
      "✅ Uploaded: images/Animalia/Squamata/Lamprophiidae/capensis/9fdd497c-c53e-4a30-bfe3-5ad055a730c0.jpg\n"
     ]
    },
    {
     "name": "stderr",
     "output_type": "stream",
     "text": [
      "Processing images:  53%|██████████████████████████████▉                           | 3258/6098 [00:49<00:19, 147.21it/s]"
     ]
    },
    {
     "name": "stdout",
     "output_type": "stream",
     "text": [
      "✅ Uploaded: images/Animalia/Squamata/Lamprophiidae/capensis/cd35d7d5-1199-431d-b5c0-d24e16ec4516.jpg\n",
      "✅ Uploaded: images/Animalia/Squamata/Lamprophiidae/capensis/ec95e208-a5ef-40b0-8900-84ffa2a7cb59.jpg\n",
      "✅ Uploaded: images/Animalia/Squamata/Lamprophiidae/inornatus/06360069-a5ba-4259-b577-ffb0298485a0.jpg\n",
      "✅ Uploaded: images/Animalia/Squamata/Lamprophiidae/inornatus/19de8ee0-62a9-4258-af49-566f30dbb245.jpg\n"
     ]
    },
    {
     "name": "stderr",
     "output_type": "stream",
     "text": [
      "Processing images:  54%|███████████████████████████████▎                          | 3298/6098 [00:49<00:15, 177.76it/s]"
     ]
    },
    {
     "name": "stdout",
     "output_type": "stream",
     "text": [
      "✅ Uploaded: images/Animalia/Squamata/Lamprophiidae/inornatus/7b65ca68-7806-465a-a75d-e505abbc3025.jpg\n",
      "✅ Uploaded: images/Animalia/Squamata/Lamprophiidae/inornatus/81d9c651-c7d2-43c5-8749-acc4d12c61d3.jpg\n",
      "✅ Uploaded: images/Animalia/Squamata/Lamprophiidae/inornatus/9e588e55-caf7-4ed8-9d85-54766d87ac8d.jpg\n",
      "✅ Uploaded: images/Animalia/Squamata/Lamprophiidae/inornatus/aeb73594-8f23-42d2-95a7-0b696d453563.jpg\n"
     ]
    },
    {
     "name": "stderr",
     "output_type": "stream",
     "text": [
      "Processing images:  54%|███████████████████████████████▌                          | 3320/6098 [00:49<00:25, 110.93it/s]"
     ]
    },
    {
     "name": "stdout",
     "output_type": "stream",
     "text": [
      "✅ Uploaded: images/Animalia/Squamata/Lamprophiidae/inornatus/af47a629-b0e0-441c-a143-8abfdf943ed6.jpg\n",
      "✅ Uploaded: images/Animalia/Squamata/Lamprophiidae/inornatus/b0c9802a-9e67-41fe-937b-c5c6d9f44a95.jpg\n",
      "✅ Uploaded: images/Animalia/Squamata/Lamprophiidae/inornatus/b1f86b41-a5ca-430c-8a67-dc7165219e09.jpg\n"
     ]
    },
    {
     "name": "stderr",
     "output_type": "stream",
     "text": [
      "Processing images:  55%|███████████████████████████████▋                          | 3337/6098 [00:49<00:23, 116.27it/s]"
     ]
    },
    {
     "name": "stdout",
     "output_type": "stream",
     "text": [
      "✅ Uploaded: images/Animalia/Squamata/Lamprophiidae/inornatus/cf803ad9-74bf-4588-8b5e-a2b2994a232b.jpg\n",
      "✅ Uploaded: images/Animalia/Squamata/Lamprophiidae/inornatus/d5ba9969-de3b-4a94-b9f3-22b216ec1f95.jpg\n",
      "✅ Uploaded: images/Animalia/Squamata/Lamprophiidae/nyassae/503d025f-fe95-4b2d-98b6-53195466a9a5.jpg\n"
     ]
    },
    {
     "name": "stderr",
     "output_type": "stream",
     "text": [
      "Processing images:  55%|███████████████████████████████▉                          | 3362/6098 [00:50<00:23, 118.74it/s]"
     ]
    },
    {
     "name": "stdout",
     "output_type": "stream",
     "text": [
      "✅ Uploaded: images/Animalia/Squamata/Lamprophiidae/nyassae/50836efc-bb05-4d1d-a849-7bb2ed204c09.jpg\n",
      "✅ Uploaded: images/Animalia/Squamata/Lamprophiidae/nyassae/5c7bf8c4-327b-4612-b89f-7d3f14461937.jpg\n",
      "✅ Uploaded: images/Animalia/Squamata/Lamprophiidae/nyassae/6aad5570-674b-46bf-98d7-39ec8201a9a4.jpg\n",
      "✅ Uploaded: images/Animalia/Squamata/Lamprophiidae/nyassae/7d1c7246-fb02-430f-86ae-6c8d01999d88.jpg\n",
      "✅ Uploaded: images/Animalia/Squamata/Lamprophiidae/nyassae/9b9101b8-08d4-45e6-91b1-d237e2dc7103.jpg\n"
     ]
    },
    {
     "name": "stderr",
     "output_type": "stream",
     "text": [
      "Processing images:  55%|████████████████████████████████▋                          | 3377/6098 [00:50<00:34, 78.02it/s]"
     ]
    },
    {
     "name": "stdout",
     "output_type": "stream",
     "text": [
      "✅ Uploaded: images/Animalia/Squamata/Lamprophiidae/nyassae/b5530c94-708b-4196-a958-b860ff1d426e.jpg\n",
      "✅ Uploaded: images/Animalia/Squamata/Lamprophiidae/nyassae/f78ab597-1585-4414-9ea7-71be50dc7d23.jpg\n",
      "✅ Uploaded: images/Animalia/Squamata/Lamprophiidae/rufulus/0d69de12-8643-47eb-89ee-6878b9c8046e.jpg\n",
      "✅ Uploaded: images/Animalia/Squamata/Lamprophiidae/rufulus/32459d20-c591-4bfe-b07b-494acbbc8ae5.jpg\n"
     ]
    },
    {
     "name": "stderr",
     "output_type": "stream",
     "text": [
      "Processing images:  56%|████████████████████████████████▊                          | 3395/6098 [00:50<00:31, 84.77it/s]"
     ]
    },
    {
     "name": "stdout",
     "output_type": "stream",
     "text": [
      "✅ Uploaded: images/Animalia/Squamata/Lamprophiidae/rufulus/340c5876-82ef-4e16-ba16-cd1d711ef156.jpg\n",
      "✅ Uploaded: images/Animalia/Squamata/Lamprophiidae/rufulus/46734d5d-26fa-410e-b059-753d30ecaade.jpg\n",
      "✅ Uploaded: images/Animalia/Squamata/Lamprophiidae/rufulus/64650ef8-6fc2-4166-9b78-0a3963035e8c.jpg\n",
      "✅ Uploaded: images/Animalia/Squamata/Lamprophiidae/rufulus/6f56239b-4870-46e4-a6b5-cf3133b2178b.jpg\n"
     ]
    },
    {
     "name": "stderr",
     "output_type": "stream",
     "text": [
      "Processing images:  56%|█████████████████████████████████                          | 3422/6098 [00:50<00:33, 80.24it/s]"
     ]
    },
    {
     "name": "stdout",
     "output_type": "stream",
     "text": [
      "✅ Uploaded: images/Animalia/Squamata/Lamprophiidae/rufulus/6fd74a04-c0af-4126-999e-e3d2d0f5cf4c.jpg\n",
      "✅ Uploaded: images/Animalia/Squamata/Lamprophiidae/rufulus/7dec4bf5-bf31-4b1a-8cb2-84ff5dfdba69.jpg\n",
      "✅ Uploaded: images/Animalia/Squamata/Lamprophiidae/rufulus/7f0109d9-f956-41ef-b38d-1f956520a7e3.jpg\n",
      "✅ Uploaded: images/Animalia/Squamata/Lamprophiidae/rufulus/850df6fe-be35-4f15-b20a-c277dee41af9.jpg\n"
     ]
    },
    {
     "name": "stderr",
     "output_type": "stream",
     "text": [
      "Processing images:  56%|█████████████████████████████████▏                         | 3432/6098 [00:51<00:33, 79.08it/s]"
     ]
    },
    {
     "name": "stdout",
     "output_type": "stream",
     "text": [
      "✅ Uploaded: images/Animalia/Squamata/Lamprophiidae/rufulus/8c8c1223-686f-4921-8917-025bf5c14c73.jpg\n",
      "✅ Uploaded: images/Animalia/Squamata/Lamprophiidae/rufulus/90c3fd83-33ec-4794-b7a0-03787343c6d9.jpg\n",
      "✅ Uploaded: images/Animalia/Squamata/Lamprophiidae/rufulus/aab12f76-1da3-4f74-bdae-698653eea8f7.jpg\n",
      "✅ Uploaded: images/Animalia/Squamata/Lamprophiidae/rufulus/ac7f3d60-ffc8-4f3f-99af-0f641e20275c.jpg\n",
      "✅ Uploaded: images/Animalia/Squamata/Lamprophiidae/rufulus/b0b8a16e-779a-41a4-b593-de9a70bbf382.jpg\n"
     ]
    },
    {
     "name": "stderr",
     "output_type": "stream",
     "text": [
      "Processing images:  57%|█████████████████████████████████▍                         | 3451/6098 [00:51<00:37, 70.52it/s]"
     ]
    },
    {
     "name": "stdout",
     "output_type": "stream",
     "text": [
      "✅ Uploaded: images/Animalia/Squamata/Lamprophiidae/rufulus/c380c56d-9b6e-40e5-a888-51886fef7ecd.jpg\n",
      "✅ Uploaded: images/Animalia/Squamata/Lamprophiidae/rufulus/d8760a84-972a-42e3-b04b-55ee6c7b1cd0.jpg\n",
      "✅ Uploaded: images/Animalia/Squamata/Lamprophiidae/rufulus/d8f9f7e5-c2aa-4665-9812-5f485785da25.jpg\n",
      "✅ Uploaded: images/Animalia/Squamata/Lamprophiidae/rufulus/df2983bb-1397-4801-a7c1-1a5434437166.jpg\n",
      "✅ Uploaded: images/Animalia/Squamata/Lamprophiidae/rufulus/e34d33bc-b8d6-40a1-b2f1-9e6cf7593e2f.jpg\n"
     ]
    },
    {
     "name": "stderr",
     "output_type": "stream",
     "text": [
      "Processing images:  57%|█████████████████████████████████▌                         | 3474/6098 [00:51<00:31, 83.72it/s]"
     ]
    },
    {
     "name": "stdout",
     "output_type": "stream",
     "text": [
      "✅ Uploaded: images/Animalia/Squamata/Lamprophiidae/swazicus/4ae37c62-da28-4277-8695-e4323cbfaf26.jpg\n",
      "✅ Uploaded: images/Animalia/Squamata/Lamprophiidae/unknown/8e0691be-2848-4920-917f-d96f3a2834c8.jpg\n",
      "✅ Uploaded: images/Animalia/Squamata/Lamprophiidae/virgatus/77dd36ac-e356-4db3-b173-5195b1a6e9e6.jpg\n"
     ]
    },
    {
     "name": "stderr",
     "output_type": "stream",
     "text": [
      "Processing images:  57%|█████████████████████████████████▎                        | 3498/6098 [00:51<00:23, 109.84it/s]"
     ]
    },
    {
     "name": "stdout",
     "output_type": "stream",
     "text": [
      "✅ Uploaded: images/Animalia/Squamata/Leptotyphlopidae/columbi/7c6afb4e-8bfe-4d2d-ae86-6572e3f848fb.jpg\n",
      "✅ Uploaded: images/Animalia/Squamata/Leptotyphlopidae/columbi/a6f5b0c3-d0e4-403a-8c00-b85a0530bdba.jpg\n",
      "✅ Uploaded: images/Animalia/Squamata/Leptotyphlopidae/dulcis/04426d61-ad4b-4e91-8c7f-764fa0fa7323.jpg\n",
      "✅ Uploaded: images/Animalia/Squamata/Leptotyphlopidae/dulcis/09b7324e-7ba9-477a-9057-b6a8d5b79ce4.jpg\n",
      "✅ Uploaded: images/Animalia/Squamata/Leptotyphlopidae/dulcis/0db3fbc0-e01b-408b-a076-9ee2c1a74214.jpg\n"
     ]
    },
    {
     "name": "stderr",
     "output_type": "stream",
     "text": [
      "Processing images:  58%|██████████████████████████████████                         | 3521/6098 [00:52<00:40, 63.69it/s]"
     ]
    },
    {
     "name": "stdout",
     "output_type": "stream",
     "text": [
      "✅ Uploaded: images/Animalia/Squamata/Leptotyphlopidae/dulcis/16fa27aa-5bdc-4936-8157-b24c5cb7f2cf.jpg\n",
      "✅ Uploaded: images/Animalia/Squamata/Leptotyphlopidae/dulcis/1d7fadef-fb73-43d4-975b-6d297fdb8f93.jpg\n",
      "✅ Uploaded: images/Animalia/Squamata/Leptotyphlopidae/dulcis/30be1311-642c-42b7-b1e9-c215d3b5bd18.jpg\n",
      "✅ Uploaded: images/Animalia/Squamata/Leptotyphlopidae/dulcis/61d73a00-550a-457a-99d6-9ac1740d8838.jpg\n"
     ]
    },
    {
     "name": "stderr",
     "output_type": "stream",
     "text": [
      "Processing images:  58%|██████████████████████████████████▌                        | 3566/6098 [00:52<00:26, 95.12it/s]"
     ]
    },
    {
     "name": "stdout",
     "output_type": "stream",
     "text": [
      "✅ Uploaded: images/Animalia/Squamata/Leptotyphlopidae/dulcis/773d8274-0fe2-4d43-828a-683363779e87.jpg\n",
      "✅ Uploaded: images/Animalia/Squamata/Leptotyphlopidae/dulcis/7917c054-0308-476b-a169-6c804623b181.jpg\n",
      "✅ Uploaded: images/Animalia/Squamata/Leptotyphlopidae/dulcis/7faa9890-5ae6-4a7e-9d9b-bf559bdeb9f2.jpg\n",
      "✅ Uploaded: images/Animalia/Squamata/Leptotyphlopidae/dulcis/9596c09e-77c5-459b-9921-3a36b336fbb4.jpg\n"
     ]
    },
    {
     "name": "stderr",
     "output_type": "stream",
     "text": [
      "Processing images:  59%|██████████████████████████████████▋                        | 3580/6098 [00:52<00:25, 97.05it/s]"
     ]
    },
    {
     "name": "stdout",
     "output_type": "stream",
     "text": [
      "✅ Uploaded: images/Animalia/Squamata/Leptotyphlopidae/dulcis/abc0deea-8dcc-459c-a06d-8bd163a15460.jpg\n",
      "✅ Uploaded: images/Animalia/Squamata/Leptotyphlopidae/dulcis/ac4f4131-f054-4947-817e-27d624243786.jpg\n",
      "✅ Uploaded: images/Animalia/Squamata/Leptotyphlopidae/dulcis/b4a2c36a-5dc2-418c-b771-1e195eff9cb1.jpg\n"
     ]
    },
    {
     "name": "stderr",
     "output_type": "stream",
     "text": [
      "Processing images:  59%|██████████████████████████████████▊                        | 3602/6098 [00:53<00:36, 69.12it/s]"
     ]
    },
    {
     "name": "stdout",
     "output_type": "stream",
     "text": [
      "✅ Uploaded: images/Animalia/Squamata/Leptotyphlopidae/dulcis/ba0c8fef-de94-407d-8b7a-a3a247c07f17.jpg\n",
      "✅ Uploaded: images/Animalia/Squamata/Leptotyphlopidae/dulcis/c6a613f1-1093-448d-9d17-f755376e7e4a.jpg\n",
      "✅ Uploaded: images/Animalia/Squamata/Leptotyphlopidae/dulcis/d2d24bf9-9881-4d1e-b31d-702ded23647c.jpg\n"
     ]
    },
    {
     "name": "stderr",
     "output_type": "stream",
     "text": [
      "Processing images:  59%|██████████████████████████████████▉                        | 3611/6098 [00:53<00:40, 62.10it/s]"
     ]
    },
    {
     "name": "stdout",
     "output_type": "stream",
     "text": [
      "✅ Uploaded: images/Animalia/Squamata/Leptotyphlopidae/dulcis/dabb7179-c595-4bf8-8bfd-9c53fbc14649.jpg\n",
      "✅ Uploaded: images/Animalia/Squamata/Leptotyphlopidae/dulcis/e323fa87-6efb-4619-b256-b575cf43260f.jpg\n",
      "✅ Uploaded: images/Animalia/Squamata/Leptotyphlopidae/dulcis/e67ef3af-cee5-4514-a9f1-b238d2a0d2bb.jpg\n",
      "✅ Uploaded: images/Animalia/Squamata/Leptotyphlopidae/humilis/06179b00-2a5b-4e66-9fa3-6f7ec0369212.jpg\n"
     ]
    },
    {
     "name": "stderr",
     "output_type": "stream",
     "text": [
      "Processing images:  60%|███████████████████████████████████▎                       | 3645/6098 [00:53<00:28, 86.18it/s]"
     ]
    },
    {
     "name": "stdout",
     "output_type": "stream",
     "text": [
      "✅ Uploaded: images/Animalia/Squamata/Leptotyphlopidae/humilis/133df698-4be8-414f-8c59-d05c29587049.jpg\n",
      "✅ Uploaded: images/Animalia/Squamata/Leptotyphlopidae/humilis/39b2f47a-b4b1-4160-af14-63d44444016a.jpg\n",
      "✅ Uploaded: images/Animalia/Squamata/Leptotyphlopidae/humilis/71f74502-80b9-4b3e-bb7e-6a04aaa35961.jpg\n"
     ]
    },
    {
     "name": "stderr",
     "output_type": "stream",
     "text": [
      "Processing images:  60%|███████████████████████████████████▌                       | 3682/6098 [00:54<00:24, 99.46it/s]"
     ]
    },
    {
     "name": "stdout",
     "output_type": "stream",
     "text": [
      "✅ Uploaded: images/Animalia/Squamata/Leptotyphlopidae/humilis/754d00a4-2135-4ab7-89bb-15d53494ab04.jpg\n",
      "✅ Uploaded: images/Animalia/Squamata/Leptotyphlopidae/humilis/8193f0d2-fb13-49d6-98a1-6474b5c200ae.jpg\n",
      "✅ Uploaded: images/Animalia/Squamata/Leptotyphlopidae/humilis/920fb608-c3f4-4fe6-8270-89ceed01e0da.jpg\n"
     ]
    },
    {
     "name": "stderr",
     "output_type": "stream",
     "text": [
      "Processing images:  61%|███████████████████████████████████▍                      | 3722/6098 [00:54<00:15, 153.65it/s]"
     ]
    },
    {
     "name": "stdout",
     "output_type": "stream",
     "text": [
      "✅ Uploaded: images/Animalia/Squamata/Leptotyphlopidae/humilis/d23d7496-d886-4338-843b-4505d78161b4.jpg\n",
      "✅ Uploaded: images/Animalia/Squamata/Leptotyphlopidae/humilis/e22cf179-8289-4398-b78e-2618981749dd.jpg\n",
      "✅ Uploaded: images/Animalia/Squamata/Leptotyphlopidae/humilis/e3e81ad3-aa90-4e4d-9156-302de1f928b0.jpg\n",
      "✅ Uploaded: images/Animalia/Squamata/Leptotyphlopidae/macrorhyncha/017bc6d1-6da8-4247-9c55-921def60d0ff.jpg\n",
      "✅ Uploaded: images/Animalia/Squamata/Leptotyphlopidae/macrorhyncha/3b691d3c-38e2-4e5b-aa1c-bdd71aa1a78a.jpg\n",
      "✅ Uploaded: images/Animalia/Squamata/Leptotyphlopidae/macrorhyncha/4a6eca55-b6cc-4880-8f61-b718caf4f05f.jpg\n",
      "✅ Uploaded: images/Animalia/Squamata/Leptotyphlopidae/macrorhyncha/51aa3ae0-4ca7-41a7-8bec-720bf6d423d0.jpg\n",
      "✅ Uploaded: images/Animalia/Squamata/Leptotyphlopidae/macrorhyncha/5cd0be02-8a53-4321-9981-1a9236f6b998.jpg\n"
     ]
    },
    {
     "name": "stderr",
     "output_type": "stream",
     "text": [
      "Processing images:  62%|████████████████████████████████████▎                      | 3752/6098 [00:54<00:27, 85.17it/s]"
     ]
    },
    {
     "name": "stdout",
     "output_type": "stream",
     "text": [
      "✅ Uploaded: images/Animalia/Squamata/Leptotyphlopidae/macrorhyncha/72eb20dd-f460-42e4-8d72-802d6b79c62f.jpg\n",
      "✅ Uploaded: images/Animalia/Squamata/Leptotyphlopidae/phenops/36a5580e-3e77-444b-aac0-8bc9ea48aa70.jpg\n",
      "✅ Uploaded: images/Animalia/Squamata/Leptotyphlopidae/phenops/a1102a98-c0f6-422f-8e6a-502e0a04159d.jpg\n"
     ]
    },
    {
     "name": "stderr",
     "output_type": "stream",
     "text": [
      "Processing images:  62%|████████████████████████████████████▍                      | 3764/6098 [00:55<00:34, 67.87it/s]"
     ]
    },
    {
     "name": "stdout",
     "output_type": "stream",
     "text": [
      "✅ Uploaded: images/Animalia/Squamata/Leptotyphlopidae/phenops/c0febd09-839a-4076-a1c7-2e2563680f2c.jpg\n",
      "✅ Uploaded: images/Animalia/Squamata/Leptotyphlopidae/rostrata/32f05569-6373-471d-b386-1f805f91e3a0.jpg\n",
      "✅ Uploaded: images/Animalia/Squamata/Leptotyphlopidae/rostrata/62a00c25-7679-456d-a03a-23827a24047e.jpg\n",
      "✅ Uploaded: images/Animalia/Squamata/Leptotyphlopidae/rostrata/8d2e7ea9-ae49-48eb-8626-946d10f2300e.jpg\n",
      "✅ Uploaded: images/Animalia/Squamata/Leptotyphlopidae/striatula/8b0adf1e-6b83-452d-8e3d-a1a4fa746ecf.jpg\n"
     ]
    },
    {
     "name": "stderr",
     "output_type": "stream",
     "text": [
      "Processing images:  62%|████████████████████████████████████▋                      | 3786/6098 [00:55<00:26, 88.31it/s]"
     ]
    },
    {
     "name": "stdout",
     "output_type": "stream",
     "text": [
      "✅ Uploaded: images/Animalia/Squamata/Leptotyphlopidae/striatula/a775837a-cc65-4a87-8a86-895566504532.jpg\n",
      "✅ Uploaded: images/Animalia/Squamata/Leptotyphlopidae/striatula/dae645a0-c6d5-4028-a5fd-918580f30074.jpg\n",
      "✅ Uploaded: images/Animalia/Squamata/Leptotyphlopidae/tesselata/1e6e3865-b2f0-430a-9b3e-07c9861487e1.jpg\n",
      "✅ Uploaded: images/Animalia/Squamata/Leptotyphlopidae/tesselata/5afcfa43-a579-45df-a49e-b0e8c0a462f4.jpg\n"
     ]
    },
    {
     "name": "stderr",
     "output_type": "stream",
     "text": [
      "Processing images:  62%|████████████████████████████████████▊                      | 3799/6098 [00:55<00:29, 78.76it/s]"
     ]
    },
    {
     "name": "stdout",
     "output_type": "stream",
     "text": [
      "✅ Uploaded: images/Animalia/Squamata/Leptotyphlopidae/tesselata/8f25a71d-4b6c-496e-b5a7-b3b6bb77262d.jpg\n",
      "✅ Uploaded: images/Animalia/Squamata/Leptotyphlopidae/tesselata/9c086510-bf37-4be0-bd62-56ce5ba7dd11.jpg\n",
      "✅ Uploaded: images/Animalia/Squamata/Leptotyphlopidae/tesselata/efc1c558-76c0-425f-9e33-764f5aec0391.jpg\n",
      "✅ Uploaded: images/Animalia/Squamata/Leptotyphlopidae/tricolor/34c125e3-e3fa-4f8f-af2f-baa01b1103dc.jpg\n",
      "✅ Uploaded: images/Animalia/Squamata/Leptotyphlopidae/vindumi/843d035d-7e27-4c1f-bc0b-ea0388cd7539.jpg\n",
      "✅ Uploaded: images/Animalia/Squamata/Leptotyphlopidae/vindumi/d836f87b-4de2-4211-8ea9-a93f8c507c4b.jpg\n"
     ]
    },
    {
     "name": "stderr",
     "output_type": "stream",
     "text": [
      "Processing images:  62%|████████████████████████████████████▊                      | 3810/6098 [00:55<00:39, 58.66it/s]"
     ]
    },
    {
     "name": "stdout",
     "output_type": "stream",
     "text": [
      "✅ Uploaded: images/Animalia/Squamata/Leptotyphlopidae/vindumi/eb89c7bb-e6cf-4970-899d-e886ffccddcf.jpg\n",
      "✅ Uploaded: images/Animalia/Squamata/Loxocemidae/bicolor/1b83bf89-eb3d-4221-9909-f416c9350ad2.jpg\n"
     ]
    },
    {
     "name": "stderr",
     "output_type": "stream",
     "text": [
      "Processing images:  63%|█████████████████████████████████████                      | 3832/6098 [00:56<00:35, 64.13it/s]"
     ]
    },
    {
     "name": "stdout",
     "output_type": "stream",
     "text": [
      "✅ Uploaded: images/Animalia/Squamata/Loxocemidae/bicolor/4d0f82ba-5c6e-4e36-8c59-290e9b188881.jpg\n",
      "✅ Uploaded: images/Animalia/Squamata/Loxocemidae/bicolor/54f1c058-53db-49d2-a63c-d2654d3c0e6f.jpg\n",
      "✅ Uploaded: images/Animalia/Squamata/Loxocemidae/bicolor/8a345204-05ae-465f-9935-68567f425670.jpg\n"
     ]
    },
    {
     "name": "stderr",
     "output_type": "stream",
     "text": [
      "Processing images:  63%|█████████████████████████████████████▎                     | 3856/6098 [00:56<00:24, 90.67it/s]"
     ]
    },
    {
     "name": "stdout",
     "output_type": "stream",
     "text": [
      "✅ Uploaded: images/Animalia/Squamata/Loxocemidae/bicolor/b6a2c50d-28a8-4db0-ad23-5da8dd3891a0.jpg\n",
      "✅ Uploaded: images/Animalia/Squamata/Pythonidae/bivittatus/0a53b4a6-2bb7-409a-af58-56ad08400502.jpg\n",
      "✅ Uploaded: images/Animalia/Squamata/Pythonidae/bivittatus/0a72d93e-f289-4739-bde5-f50c566d01d6.jpg\n"
     ]
    },
    {
     "name": "stderr",
     "output_type": "stream",
     "text": [
      "Processing images:  64%|█████████████████████████████████████▋                     | 3890/6098 [00:56<00:22, 98.84it/s]"
     ]
    },
    {
     "name": "stdout",
     "output_type": "stream",
     "text": [
      "✅ Uploaded: images/Animalia/Squamata/Pythonidae/bivittatus/24f8bd90-53f3-4f22-9347-eb46fdefc9e9.jpg\n",
      "✅ Uploaded: images/Animalia/Squamata/Pythonidae/bivittatus/2544656d-912f-4973-a115-a2d977203d32.jpg\n",
      "✅ Uploaded: images/Animalia/Squamata/Pythonidae/bivittatus/3f4e3779-c433-4cba-a746-1f82be15f96a.jpg\n",
      "✅ Uploaded: images/Animalia/Squamata/Pythonidae/bivittatus/602aa2d7-aa43-4378-8ec2-5529eea14f1e.jpg\n"
     ]
    },
    {
     "name": "stderr",
     "output_type": "stream",
     "text": [
      "Processing images:  64%|█████████████████████████████████████▊                     | 3902/6098 [00:56<00:27, 80.31it/s]"
     ]
    },
    {
     "name": "stdout",
     "output_type": "stream",
     "text": [
      "✅ Uploaded: images/Animalia/Squamata/Pythonidae/bivittatus/684b872b-251b-402f-ae55-4369511aa79e.jpg\n",
      "✅ Uploaded: images/Animalia/Squamata/Pythonidae/bivittatus/6b9d103f-640b-4c2b-b947-5c795a22a31b.jpg\n"
     ]
    },
    {
     "name": "stderr",
     "output_type": "stream",
     "text": [
      "Processing images:  64%|█████████████████████████████████████▉                     | 3920/6098 [00:57<00:30, 71.73it/s]"
     ]
    },
    {
     "name": "stdout",
     "output_type": "stream",
     "text": [
      "✅ Uploaded: images/Animalia/Squamata/Pythonidae/bivittatus/775fb0d8-b1be-4bcc-bd00-4646ff50a5b0.jpg\n",
      "✅ Uploaded: images/Animalia/Squamata/Pythonidae/bivittatus/851ea1dc-dabc-4ce8-981a-07c18bbd4bb3.jpg\n",
      "✅ Uploaded: images/Animalia/Squamata/Pythonidae/bivittatus/97acc89c-80d5-4038-a91c-1c777c213283.jpg\n",
      "✅ Uploaded: images/Animalia/Squamata/Pythonidae/bivittatus/9a9756d8-43c4-41c2-8111-3478e6ddb7a4.jpg\n"
     ]
    },
    {
     "name": "stderr",
     "output_type": "stream",
     "text": [
      "Processing images:  65%|██████████████████████████████████████▏                    | 3945/6098 [00:57<00:26, 82.16it/s]"
     ]
    },
    {
     "name": "stdout",
     "output_type": "stream",
     "text": [
      "✅ Uploaded: images/Animalia/Squamata/Pythonidae/bivittatus/b61f858a-e645-4fe3-82a7-72d7012e3120.jpg\n",
      "✅ Uploaded: images/Animalia/Squamata/Pythonidae/bivittatus/d3157d0a-93e6-42f7-bf72-b4a832ff11a6.jpg\n"
     ]
    },
    {
     "name": "stderr",
     "output_type": "stream",
     "text": [
      "Processing images:  65%|██████████████████████████████████████▎                    | 3963/6098 [00:57<00:27, 78.52it/s]"
     ]
    },
    {
     "name": "stdout",
     "output_type": "stream",
     "text": [
      "✅ Uploaded: images/Animalia/Squamata/Pythonidae/bivittatus/dc6fc212-87f3-4241-b65c-80800fd8c4a1.jpg\n",
      "✅ Uploaded: images/Animalia/Squamata/Pythonidae/bivittatus/e5929748-fcb1-4ce0-ae1c-20bfbc9d9974.jpg\n",
      "✅ Uploaded: images/Animalia/Squamata/Pythonidae/childreni/12e66428-1632-4167-a401-0232e856d269.jpg\n"
     ]
    },
    {
     "name": "stderr",
     "output_type": "stream",
     "text": [
      "Processing images:  65%|██████████████████████████████████████▍                    | 3972/6098 [00:57<00:30, 70.06it/s]"
     ]
    },
    {
     "name": "stdout",
     "output_type": "stream",
     "text": [
      "✅ Uploaded: images/Animalia/Squamata/Pythonidae/childreni/18ec3b96-232e-4327-84ad-2abdc3dc3d9b.jpg\n",
      "✅ Uploaded: images/Animalia/Squamata/Pythonidae/childreni/313029c2-6749-4ff8-8f8e-29855fae991d.jpg\n",
      "✅ Uploaded: images/Animalia/Squamata/Pythonidae/childreni/3418422c-9504-472b-8cd8-d7d28a5bf066.jpg\n",
      "✅ Uploaded: images/Animalia/Squamata/Pythonidae/childreni/4a8c129f-f91b-4e45-a3a5-6c2f3b18c8f8.jpg\n",
      "✅ Uploaded: images/Animalia/Squamata/Pythonidae/childreni/50c1c43d-7dda-4999-979d-f35a61261c58.jpg\n",
      "✅ Uploaded: images/Animalia/Squamata/Pythonidae/childreni/606d0203-cd40-48ea-b018-f9703a81d6d9.jpg\n"
     ]
    },
    {
     "name": "stderr",
     "output_type": "stream",
     "text": [
      "Processing images:  65%|██████████████████████████████████████▌                    | 3980/6098 [00:58<01:02, 33.81it/s]"
     ]
    },
    {
     "name": "stdout",
     "output_type": "stream",
     "text": [
      "✅ Uploaded: images/Animalia/Squamata/Pythonidae/childreni/750eaf6e-b461-42ce-b4fb-ce8590649f04.jpg\n",
      "✅ Uploaded: images/Animalia/Squamata/Pythonidae/childreni/80728534-88ab-4d1d-97c8-285ff2df9fcd.jpg\n",
      "✅ Uploaded: images/Animalia/Squamata/Pythonidae/childreni/80c652d1-4866-4f95-be7a-e89857bb2ef7.jpg\n",
      "✅ Uploaded: images/Animalia/Squamata/Pythonidae/childreni/8aad1a6f-4745-434b-86ee-9bc0e1e6b151.jpg\n",
      "✅ Uploaded: images/Animalia/Squamata/Pythonidae/childreni/98db2ba3-49ce-43b1-91d0-2801fe1851f2.jpg\n",
      "✅ Uploaded: images/Animalia/Squamata/Pythonidae/childreni/ab3eb8f5-909e-4237-8af3-576c3177ae7f.jpg\n",
      "✅ Uploaded: images/Animalia/Squamata/Pythonidae/childreni/b41e6c5c-b5a4-4e4d-a695-ef027c52bd66.jpg\n",
      "✅ Uploaded: images/Animalia/Squamata/Pythonidae/childreni/c4e37c44-3557-4872-bd73-d2ff2ff2fe31.jpg\n"
     ]
    },
    {
     "name": "stderr",
     "output_type": "stream",
     "text": [
      "Processing images:  65%|██████████████████████████████████████▌                    | 3986/6098 [00:58<01:17, 27.37it/s]"
     ]
    },
    {
     "name": "stdout",
     "output_type": "stream",
     "text": [
      "✅ Uploaded: images/Animalia/Squamata/Pythonidae/childreni/d14c6d56-881d-4d06-b465-4cce3bcc8b31.jpg\n",
      "✅ Uploaded: images/Animalia/Squamata/Pythonidae/childreni/d2abe441-34b5-4612-9e55-aaa5212ce229.jpg\n",
      "✅ Uploaded: images/Animalia/Squamata/Pythonidae/childreni/e23ef3a8-0c99-4efc-932d-c3f435da21d5.jpg\n",
      "✅ Uploaded: images/Animalia/Squamata/Pythonidae/childreni/ebe10c76-900b-44e3-af53-ed462ee892ff.jpg\n"
     ]
    },
    {
     "name": "stderr",
     "output_type": "stream",
     "text": [
      "Processing images:  66%|██████████████████████████████████████▊                    | 4011/6098 [00:59<00:44, 47.06it/s]"
     ]
    },
    {
     "name": "stdout",
     "output_type": "stream",
     "text": [
      "✅ Uploaded: images/Animalia/Squamata/Pythonidae/childreni/fbcd9a27-bf16-47cc-84b9-d6c42164c0ad.jpg\n",
      "✅ Uploaded: images/Animalia/Squamata/Pythonidae/imbricata/0cf6229b-60ac-418f-abfa-e5cade322943.jpg\n",
      "✅ Uploaded: images/Animalia/Squamata/Pythonidae/imbricata/4518fc01-952c-49a0-9f33-0f4830509b96.jpg\n"
     ]
    },
    {
     "name": "stderr",
     "output_type": "stream",
     "text": [
      "Processing images:  66%|██████████████████████████████████████▉                    | 4026/6098 [00:59<00:45, 45.14it/s]"
     ]
    },
    {
     "name": "stdout",
     "output_type": "stream",
     "text": [
      "✅ Uploaded: images/Animalia/Squamata/Pythonidae/imbricata/7cdbf35e-506c-4d13-bc73-cbe0d4292600.jpg\n",
      "✅ Uploaded: images/Animalia/Squamata/Pythonidae/imbricata/87c09011-7f0b-4bcc-bda6-aa25832d4fe6.jpg\n",
      "✅ Uploaded: images/Animalia/Squamata/Pythonidae/imbricata/a077245e-42e4-4758-8833-427365ff843b.jpg\n",
      "✅ Uploaded: images/Animalia/Squamata/Pythonidae/imbricata/b3e2b552-e19b-451a-98d0-fc893ceb4dbe.jpg\n"
     ]
    },
    {
     "name": "stderr",
     "output_type": "stream",
     "text": [
      "Processing images:  66%|███████████████████████████████████████                    | 4032/6098 [00:59<00:53, 38.96it/s]"
     ]
    },
    {
     "name": "stdout",
     "output_type": "stream",
     "text": [
      "✅ Uploaded: images/Animalia/Squamata/Pythonidae/imbricata/e4fc7a54-fcda-4f99-a210-f3702e8ec2da.jpg\n",
      "✅ Uploaded: images/Animalia/Squamata/Pythonidae/imbricata/ec1689ae-4e92-4fdc-8e3d-6b026b6c78a1.jpg\n",
      "✅ Uploaded: images/Animalia/Squamata/Pythonidae/kinghorni/084211b5-897b-4813-a939-c998caf75f53.jpg\n"
     ]
    },
    {
     "name": "stderr",
     "output_type": "stream",
     "text": [
      "Processing images:  66%|███████████████████████████████████████▏                   | 4051/6098 [00:59<00:37, 55.10it/s]"
     ]
    },
    {
     "name": "stdout",
     "output_type": "stream",
     "text": [
      "✅ Uploaded: images/Animalia/Squamata/Pythonidae/kinghorni/1114ed9c-85ca-4cfe-90fd-417d122b9470.jpg\n",
      "✅ Uploaded: images/Animalia/Squamata/Pythonidae/kinghorni/1a53ccfe-c936-4110-9e43-4eda83be7bcf.jpg\n",
      "✅ Uploaded: images/Animalia/Squamata/Pythonidae/kinghorni/1fef66e7-d396-4dc2-9ea5-037150326990.jpg\n",
      "✅ Uploaded: images/Animalia/Squamata/Pythonidae/kinghorni/482da8aa-ee41-4660-8c6a-fef24c996129.jpg\n"
     ]
    },
    {
     "name": "stderr",
     "output_type": "stream",
     "text": [
      "Processing images:  67%|███████████████████████████████████████▎                   | 4065/6098 [01:00<00:30, 67.07it/s]"
     ]
    },
    {
     "name": "stdout",
     "output_type": "stream",
     "text": [
      "✅ Uploaded: images/Animalia/Squamata/Pythonidae/kinghorni/54b64616-e78d-451f-8db4-99075f7fad08.jpg\n",
      "✅ Uploaded: images/Animalia/Squamata/Pythonidae/kinghorni/6a4b6f51-f1b2-4bcc-9916-f4f3013066c7.jpg\n"
     ]
    },
    {
     "name": "stderr",
     "output_type": "stream",
     "text": [
      "Processing images:  67%|███████████████████████████████████████▍                   | 4073/6098 [01:00<00:35, 57.15it/s]"
     ]
    },
    {
     "name": "stdout",
     "output_type": "stream",
     "text": [
      "✅ Uploaded: images/Animalia/Squamata/Pythonidae/kinghorni/7278c998-6f2f-4aef-81d9-49b7652b3661.jpg\n",
      "✅ Uploaded: images/Animalia/Squamata/Pythonidae/kinghorni/7533ee44-99eb-4a3d-bfa3-9af18a37328f.jpg\n",
      "✅ Uploaded: images/Animalia/Squamata/Pythonidae/kinghorni/7f66038c-89f3-4cff-ad6f-d738d22ef1a8.jpg\n"
     ]
    },
    {
     "name": "stderr",
     "output_type": "stream",
     "text": [
      "Processing images:  67%|███████████████████████████████████████▌                   | 4094/6098 [01:00<00:37, 53.95it/s]"
     ]
    },
    {
     "name": "stdout",
     "output_type": "stream",
     "text": [
      "✅ Uploaded: images/Animalia/Squamata/Pythonidae/kinghorni/804ff15d-d3e5-429a-b7e7-857038255d9a.jpg\n",
      "✅ Uploaded: images/Animalia/Squamata/Pythonidae/kinghorni/903d2eef-f756-4af7-a9bd-d1d5927d609f.jpg\n",
      "✅ Uploaded: images/Animalia/Squamata/Pythonidae/kinghorni/91f9c955-75f0-4c9a-b11b-e50f13aa4b88.jpg\n",
      "✅ Uploaded: images/Animalia/Squamata/Pythonidae/kinghorni/ab600720-9cbf-4ad8-88fb-fcc9168daf3b.jpg\n"
     ]
    },
    {
     "name": "stderr",
     "output_type": "stream",
     "text": [
      "Processing images:  67%|███████████████████████████████████████▋                   | 4100/6098 [01:00<00:42, 47.46it/s]"
     ]
    },
    {
     "name": "stdout",
     "output_type": "stream",
     "text": [
      "✅ Uploaded: images/Animalia/Squamata/Pythonidae/kinghorni/be845d94-0778-4013-abe0-a7fb7acb677a.jpg\n",
      "✅ Uploaded: images/Animalia/Squamata/Pythonidae/kinghorni/c7dd5bc1-939b-4efd-9654-5f79c08ce126.jpg\n",
      "✅ Uploaded: images/Animalia/Squamata/Pythonidae/kinghorni/c895e362-6bb4-4403-94a4-126ada5c15bf.jpg\n",
      "✅ Uploaded: images/Animalia/Squamata/Pythonidae/kinghorni/ee88d12a-88d1-4da9-aff5-0de4b55c622d.jpg\n"
     ]
    },
    {
     "name": "stderr",
     "output_type": "stream",
     "text": [
      "Processing images:  68%|████████████████████████████████████████                   | 4139/6098 [01:01<00:20, 97.81it/s]"
     ]
    },
    {
     "name": "stdout",
     "output_type": "stream",
     "text": [
      "✅ Uploaded: images/Animalia/Squamata/Pythonidae/kinghorni/f1a0313b-cd36-48a2-830e-83715b2c8633.jpg\n",
      "✅ Uploaded: images/Animalia/Squamata/Pythonidae/kinghorni/f1c5a2b1-b16e-4f6a-be0a-2a3483bb4821.jpg\n",
      "✅ Uploaded: images/Animalia/Squamata/Pythonidae/melanocephalus/1b4f9dbf-aa77-40c9-b332-1b20a7c64ebd.jpg\n",
      "✅ Uploaded: images/Animalia/Squamata/Pythonidae/melanocephalus/26666472-70f6-4026-897e-e2cea424a16d.jpg\n"
     ]
    },
    {
     "name": "stderr",
     "output_type": "stream",
     "text": [
      "Processing images:  68%|████████████████████████████████████████▏                  | 4151/6098 [01:01<00:21, 88.74it/s]"
     ]
    },
    {
     "name": "stdout",
     "output_type": "stream",
     "text": [
      "✅ Uploaded: images/Animalia/Squamata/Pythonidae/melanocephalus/2ee0d069-4a6b-41a6-9636-e9263798bc9f.jpg\n",
      "✅ Uploaded: images/Animalia/Squamata/Pythonidae/melanocephalus/43511cd2-50f9-4bf7-bf42-5bd004b6ee76.jpg\n",
      "✅ Uploaded: images/Animalia/Squamata/Pythonidae/melanocephalus/448c78a4-45d4-49b4-9c3d-711bf908ad69.jpg\n",
      "✅ Uploaded: images/Animalia/Squamata/Pythonidae/melanocephalus/4850f604-2339-429c-ba1d-10300aa3e93e.jpg\n",
      "✅ Uploaded: images/Animalia/Squamata/Pythonidae/melanocephalus/587ca367-8eeb-411d-84de-245182ecae57.jpg\n",
      "✅ Uploaded: images/Animalia/Squamata/Pythonidae/melanocephalus/5f3fc03a-c21a-4144-9639-08aaef3834eb.jpg\n"
     ]
    },
    {
     "name": "stderr",
     "output_type": "stream",
     "text": [
      "Processing images:  68%|████████████████████████████████████████▎                  | 4162/6098 [01:01<00:33, 57.40it/s]"
     ]
    },
    {
     "name": "stdout",
     "output_type": "stream",
     "text": [
      "✅ Uploaded: images/Animalia/Squamata/Pythonidae/melanocephalus/68907c9c-b4bd-4cf6-828f-dd0863fc5bb5.jpg\n",
      "✅ Uploaded: images/Animalia/Squamata/Pythonidae/melanocephalus/70a78728-1980-4475-8ca5-b9a012d91b68.jpg\n",
      "✅ Uploaded: images/Animalia/Squamata/Pythonidae/melanocephalus/76137162-4dea-4f4e-8481-365d1d5803dd.jpg\n"
     ]
    },
    {
     "name": "stderr",
     "output_type": "stream",
     "text": [
      "Processing images:  69%|████████████████████████████████████████▍                  | 4179/6098 [01:02<00:35, 53.98it/s]"
     ]
    },
    {
     "name": "stdout",
     "output_type": "stream",
     "text": [
      "✅ Uploaded: images/Animalia/Squamata/Pythonidae/melanocephalus/7af83375-8bc0-4878-b607-e5b63b742d39.jpg\n",
      "✅ Uploaded: images/Animalia/Squamata/Pythonidae/melanocephalus/8e238e2a-8594-4a93-a70a-7ba7fe573932.jpg\n",
      "✅ Uploaded: images/Animalia/Squamata/Pythonidae/melanocephalus/a9f82176-3431-48c8-af67-221377905f66.jpg\n"
     ]
    },
    {
     "name": "stderr",
     "output_type": "stream",
     "text": [
      "Processing images:  69%|████████████████████████████████████████▌                  | 4189/6098 [01:02<00:34, 54.65it/s]"
     ]
    },
    {
     "name": "stdout",
     "output_type": "stream",
     "text": [
      "✅ Uploaded: images/Animalia/Squamata/Pythonidae/melanocephalus/bff5b091-f7a0-4f11-869f-8d738a623cd4.jpg\n",
      "✅ Uploaded: images/Animalia/Squamata/Pythonidae/melanocephalus/c7ef58de-9327-46bb-9533-8046b663b03f.jpg\n",
      "✅ Uploaded: images/Animalia/Squamata/Pythonidae/melanocephalus/ccc05564-9450-4964-8fb4-8f412e059c46.jpg\n"
     ]
    },
    {
     "name": "stderr",
     "output_type": "stream",
     "text": [
      "Processing images:  70%|████████████████████████████████████████▎                 | 4243/6098 [01:02<00:15, 121.57it/s]"
     ]
    },
    {
     "name": "stdout",
     "output_type": "stream",
     "text": [
      "✅ Uploaded: images/Animalia/Squamata/Pythonidae/melanocephalus/dea8926f-626f-4772-979f-276bd359f05d.jpg\n",
      "✅ Uploaded: images/Animalia/Squamata/Pythonidae/melanocephalus/df2f8bd5-c70b-4c39-addd-f86157f5dbaf.jpg\n",
      "✅ Uploaded: images/Animalia/Squamata/Pythonidae/melanocephalus/f474347f-df48-4757-83d1-c2ce0189fc07.jpg\n",
      "✅ Uploaded: images/Animalia/Squamata/Pythonidae/natalensis/313882aa-468a-4bca-ade9-c9da65453833.jpg\n"
     ]
    },
    {
     "name": "stderr",
     "output_type": "stream",
     "text": [
      "Processing images:  70%|████████████████████████████████████████▍                 | 4257/6098 [01:02<00:17, 106.18it/s]"
     ]
    },
    {
     "name": "stdout",
     "output_type": "stream",
     "text": [
      "✅ Uploaded: images/Animalia/Squamata/Pythonidae/natalensis/434047bf-0c24-4a26-b675-dba8b4a27290.jpg\n",
      "✅ Uploaded: images/Animalia/Squamata/Pythonidae/natalensis/4ad42030-d61e-4576-bb80-fa2f446952f4.jpg\n",
      "✅ Uploaded: images/Animalia/Squamata/Pythonidae/natalensis/53bbf584-9063-4708-b7ba-249ddf4db684.jpg\n",
      "✅ Uploaded: images/Animalia/Squamata/Pythonidae/natalensis/6988bcef-c1d3-4d0a-9626-884ef68dde4f.jpg\n"
     ]
    },
    {
     "name": "stderr",
     "output_type": "stream",
     "text": [
      "Processing images:  70%|████████████████████████████████████████▋                 | 4283/6098 [01:03<00:17, 101.09it/s]"
     ]
    },
    {
     "name": "stdout",
     "output_type": "stream",
     "text": [
      "✅ Uploaded: images/Animalia/Squamata/Pythonidae/natalensis/7d61b315-70bb-4bf7-99f5-b04c0fe31778.jpg\n",
      "✅ Uploaded: images/Animalia/Squamata/Pythonidae/natalensis/96a6d091-91d4-4306-a9e8-657e6a852aa0.jpg\n",
      "✅ Uploaded: images/Animalia/Squamata/Pythonidae/natalensis/a91210ec-71d3-43a7-97eb-633cbb75b53e.jpg\n",
      "✅ Uploaded: images/Animalia/Squamata/Pythonidae/natalensis/acc465eb-b843-468f-b2d1-8de53f9a5f14.jpg\n"
     ]
    },
    {
     "name": "stderr",
     "output_type": "stream",
     "text": [
      "Processing images:  71%|█████████████████████████████████████████▋                 | 4308/6098 [01:03<00:18, 95.92it/s]"
     ]
    },
    {
     "name": "stdout",
     "output_type": "stream",
     "text": [
      "✅ Uploaded: images/Animalia/Squamata/Pythonidae/natalensis/bc0d39b7-6f7d-4e9c-a431-1cfa7536c5a5.jpg\n",
      "✅ Uploaded: images/Animalia/Squamata/Pythonidae/natalensis/d0c09dee-4150-449a-a96f-78eb4764d854.jpg\n",
      "✅ Uploaded: images/Animalia/Squamata/Pythonidae/natalensis/dae671b7-d3b7-4857-92f9-7a45148cd6e6.jpg\n",
      "✅ Uploaded: images/Animalia/Squamata/Pythonidae/natalensis/e48045a2-6b2d-43d7-bb9c-2a5d32cbb3d7.jpg\n",
      "✅ Uploaded: images/Animalia/Squamata/Pythonidae/natalensis/ea74acb3-2f01-418c-be34-eddc76b8ff21.jpg\n"
     ]
    },
    {
     "name": "stderr",
     "output_type": "stream",
     "text": [
      "Processing images:  71%|█████████████████████████████████████████▏                | 4336/6098 [01:03<00:15, 116.11it/s]"
     ]
    },
    {
     "name": "stdout",
     "output_type": "stream",
     "text": [
      "✅ Uploaded: images/Animalia/Squamata/Pythonidae/ramsayi/086f96e2-e2ce-4291-ab8d-0c22633354cd.jpg\n",
      "✅ Uploaded: images/Animalia/Squamata/Pythonidae/ramsayi/c99a9b01-27aa-41be-a37d-139f3af700f2.jpg\n",
      "✅ Uploaded: images/Animalia/Squamata/Pythonidae/regius/00c0875f-40a0-48f0-887a-1e3c532b077a.jpg\n",
      "✅ Uploaded: images/Animalia/Squamata/Pythonidae/regius/08e58ef4-27a9-4d93-8476-6960555555dc.jpg\n",
      "✅ Uploaded: images/Animalia/Squamata/Pythonidae/regius/14b4e640-ff3e-45cf-a9cf-61cf5af76b2c.jpg\n",
      "✅ Uploaded: images/Animalia/Squamata/Pythonidae/regius/31e4852e-4583-4b1e-ba4c-cdeb4d2b160a.jpg\n"
     ]
    },
    {
     "name": "stderr",
     "output_type": "stream",
     "text": [
      "Processing images:  71%|█████████████████████████████████████████▎                | 4348/6098 [01:03<00:15, 112.90it/s]"
     ]
    },
    {
     "name": "stdout",
     "output_type": "stream",
     "text": [
      "✅ Uploaded: images/Animalia/Squamata/Pythonidae/regius/323ce7ba-81c6-454a-8fba-ee81eb6791ec.jpg\n",
      "✅ Uploaded: images/Animalia/Squamata/Pythonidae/regius/45545c4c-9ee0-4524-910b-5c6ad358af72.jpg\n"
     ]
    },
    {
     "name": "stderr",
     "output_type": "stream",
     "text": [
      "Processing images:  71%|██████████████████████████████████████████▏                | 4360/6098 [01:03<00:22, 77.49it/s]"
     ]
    },
    {
     "name": "stdout",
     "output_type": "stream",
     "text": [
      "✅ Uploaded: images/Animalia/Squamata/Pythonidae/regius/74b005af-17df-4aa8-9f08-a827b96bed7e.jpg\n",
      "✅ Uploaded: images/Animalia/Squamata/Pythonidae/regius/75666559-0b19-4e9a-9c81-66d858b2b98b.jpg\n",
      "✅ Uploaded: images/Animalia/Squamata/Pythonidae/regius/7740c489-6a00-45c0-81fd-5344be8f8a13.jpg\n",
      "✅ Uploaded: images/Animalia/Squamata/Pythonidae/regius/7e9e34d9-c89a-47f4-8d6d-bf5c44c4dcd4.jpg\n"
     ]
    },
    {
     "name": "stderr",
     "output_type": "stream",
     "text": [
      "Processing images:  72%|██████████████████████████████████████████▎                | 4369/6098 [01:04<00:27, 63.39it/s]"
     ]
    },
    {
     "name": "stdout",
     "output_type": "stream",
     "text": [
      "✅ Uploaded: images/Animalia/Squamata/Pythonidae/regius/7eb0759c-44b6-41b4-85e5-c452cb201af3.jpg\n",
      "✅ Uploaded: images/Animalia/Squamata/Pythonidae/regius/894ed070-b65e-4e7b-8b9d-131b186ad887.jpg\n",
      "✅ Uploaded: images/Animalia/Squamata/Pythonidae/regius/a67ddbdd-086a-44a6-acf5-413acac743ef.jpg\n",
      "✅ Uploaded: images/Animalia/Squamata/Pythonidae/regius/ae0a82ee-76ab-418b-8de9-e9a36573f553.jpg\n",
      "✅ Uploaded: images/Animalia/Squamata/Pythonidae/regius/b6acfd2b-b49d-41bf-bcce-90e03ea422fa.jpg\n"
     ]
    },
    {
     "name": "stderr",
     "output_type": "stream",
     "text": [
      "Processing images:  72%|██████████████████████████████████████████▍                | 4386/6098 [01:04<00:35, 48.28it/s]"
     ]
    },
    {
     "name": "stdout",
     "output_type": "stream",
     "text": [
      "✅ Uploaded: images/Animalia/Squamata/Pythonidae/regius/cc575070-da9b-4a0e-a5fe-f1a686c03b65.jpg\n",
      "✅ Uploaded: images/Animalia/Squamata/Pythonidae/regius/f6fc2dc4-bcf8-4621-bbc1-80026c4c0730.jpg\n",
      "✅ Uploaded: images/Animalia/Squamata/Pythonidae/reticulatus/01daf42e-cd90-4e5c-a826-81d558ca59b8.jpg\n",
      "✅ Uploaded: images/Animalia/Squamata/Pythonidae/reticulatus/02f8d84d-ec96-45ac-b4be-bf8db4b7bc65.jpg\n",
      "✅ Uploaded: images/Animalia/Squamata/Pythonidae/reticulatus/128fcc72-0388-4cb1-997a-a73ddb1be462.jpg\n"
     ]
    },
    {
     "name": "stderr",
     "output_type": "stream",
     "text": [
      "Processing images:  72%|██████████████████████████████████████████▍                | 4392/6098 [01:05<00:47, 36.26it/s]"
     ]
    },
    {
     "name": "stdout",
     "output_type": "stream",
     "text": [
      "✅ Uploaded: images/Animalia/Squamata/Pythonidae/reticulatus/181e79de-8f5e-4453-8eb3-aecfb877f758.jpg\n",
      "✅ Uploaded: images/Animalia/Squamata/Pythonidae/reticulatus/2badd978-b1bc-4c45-9f73-acc9523c9fae.jpg\n",
      "✅ Uploaded: images/Animalia/Squamata/Pythonidae/reticulatus/2d3a65b7-0626-4bc9-8367-6f005fbb8eec.jpg\n",
      "✅ Uploaded: images/Animalia/Squamata/Pythonidae/reticulatus/333d4163-e400-4084-8e59-cd4ae5672450.jpg\n"
     ]
    },
    {
     "name": "stderr",
     "output_type": "stream",
     "text": [
      "Processing images:  72%|██████████████████████████████████████████▌                | 4401/6098 [01:05<01:05, 26.09it/s]"
     ]
    },
    {
     "name": "stdout",
     "output_type": "stream",
     "text": [
      "✅ Uploaded: images/Animalia/Squamata/Pythonidae/reticulatus/37b1b8bc-6ba1-4d45-ad25-785ce8677060.jpg\n",
      "✅ Uploaded: images/Animalia/Squamata/Pythonidae/reticulatus/4fa30e46-3442-496b-8613-036cbf4b306a.jpg\n"
     ]
    },
    {
     "name": "stderr",
     "output_type": "stream",
     "text": [
      "Processing images:  72%|██████████████████████████████████████████▋                | 4412/6098 [01:05<00:52, 32.23it/s]"
     ]
    },
    {
     "name": "stdout",
     "output_type": "stream",
     "text": [
      "✅ Uploaded: images/Animalia/Squamata/Pythonidae/reticulatus/528139f3-7462-4714-bb2e-59dda2642cf7.jpg\n",
      "✅ Uploaded: images/Animalia/Squamata/Pythonidae/reticulatus/870cc11c-e565-4683-ae20-a49ca6994106.jpg\n",
      "✅ Uploaded: images/Animalia/Squamata/Pythonidae/reticulatus/9526df25-27c0-49d4-bcfa-418edb784fb3.jpg\n",
      "✅ Uploaded: images/Animalia/Squamata/Pythonidae/reticulatus/a30e7683-db2a-4a7c-a1d5-88fe862d9c8e.jpg\n"
     ]
    },
    {
     "name": "stderr",
     "output_type": "stream",
     "text": [
      "Processing images:  72%|██████████████████████████████████████████▊                | 4421/6098 [01:06<00:51, 32.84it/s]"
     ]
    },
    {
     "name": "stdout",
     "output_type": "stream",
     "text": [
      "✅ Uploaded: images/Animalia/Squamata/Pythonidae/reticulatus/ad42f67d-13b5-4e30-8a8e-97aaafcd4df1.jpg\n",
      "✅ Uploaded: images/Animalia/Squamata/Pythonidae/reticulatus/c136c1ae-a039-4dd3-8cd3-a10bf67403b2.jpg\n",
      "✅ Uploaded: images/Animalia/Squamata/Pythonidae/reticulatus/c7ca460d-8cd8-4fa1-a7f5-99fd8c8a8e07.jpg\n",
      "✅ Uploaded: images/Animalia/Squamata/Pythonidae/reticulatus/ca6d7bce-d08a-4e40-a007-a1b14faa2515.jpg\n"
     ]
    },
    {
     "name": "stderr",
     "output_type": "stream",
     "text": [
      "Processing images:  73%|██████████████████████████████████████████▊                | 4425/6098 [01:06<01:03, 26.42it/s]"
     ]
    },
    {
     "name": "stdout",
     "output_type": "stream",
     "text": [
      "✅ Uploaded: images/Animalia/Squamata/Pythonidae/reticulatus/eba55b0b-ce1e-4bbe-ae0f-81bb0efd3196.jpg\n",
      "✅ Uploaded: images/Animalia/Squamata/Pythonidae/reticulatus/f5def179-9d7c-4f44-b9f2-19771e3664dc.jpg\n",
      "✅ Uploaded: images/Animalia/Squamata/Pythonidae/reticulatus/fb22a6e2-5ffa-4793-93c8-6b1d2ec58243.jpg\n"
     ]
    },
    {
     "name": "stderr",
     "output_type": "stream",
     "text": [
      "Processing images:  73%|███████████████████████████████████████████▏               | 4459/6098 [01:06<00:19, 82.42it/s]"
     ]
    },
    {
     "name": "stdout",
     "output_type": "stream",
     "text": [
      "✅ Uploaded: images/Animalia/Squamata/Pythonidae/spilota/0478abb7-b131-4925-b4ef-01cb94d147a7.jpg\n",
      "✅ Uploaded: images/Animalia/Squamata/Pythonidae/spilota/0cb5bb7e-96d8-4641-93bc-fb24f0d249ac.jpg\n",
      "✅ Uploaded: images/Animalia/Squamata/Pythonidae/spilota/10f3c11a-484c-4476-8e74-006a97980651.jpg\n"
     ]
    },
    {
     "name": "stderr",
     "output_type": "stream",
     "text": [
      "Processing images:  73%|███████████████████████████████████████████▏               | 4470/6098 [01:06<00:20, 78.86it/s]"
     ]
    },
    {
     "name": "stdout",
     "output_type": "stream",
     "text": [
      "✅ Uploaded: images/Animalia/Squamata/Pythonidae/spilota/12b033e6-2a7a-41e8-a2f6-e93783881f3b.jpg\n",
      "✅ Uploaded: images/Animalia/Squamata/Pythonidae/spilota/2816bd28-fdf6-429a-83b5-3e0c9a56c275.jpg\n"
     ]
    },
    {
     "name": "stderr",
     "output_type": "stream",
     "text": [
      "Processing images:  74%|███████████████████████████████████████████▍               | 4492/6098 [01:07<00:22, 72.64it/s]"
     ]
    },
    {
     "name": "stdout",
     "output_type": "stream",
     "text": [
      "✅ Uploaded: images/Animalia/Squamata/Pythonidae/spilota/3c90d182-0bf3-4414-8751-c2ba28067507.jpg\n",
      "✅ Uploaded: images/Animalia/Squamata/Pythonidae/spilota/41b44619-ad72-4623-ae37-1f1bb55528df.jpg\n",
      "✅ Uploaded: images/Animalia/Squamata/Pythonidae/spilota/5984441e-3dd0-401d-807b-e8ef05d9ed79.jpg\n"
     ]
    },
    {
     "name": "stderr",
     "output_type": "stream",
     "text": [
      "Processing images:  74%|███████████████████████████████████████████▋               | 4516/6098 [01:07<00:22, 68.85it/s]"
     ]
    },
    {
     "name": "stdout",
     "output_type": "stream",
     "text": [
      "✅ Uploaded: images/Animalia/Squamata/Pythonidae/spilota/6f5082a5-73d3-4db9-9b55-a110c4deead2.jpg\n",
      "✅ Uploaded: images/Animalia/Squamata/Pythonidae/spilota/7bcad613-973a-47b8-8216-0252b7f2ceee.jpg\n",
      "✅ Uploaded: images/Animalia/Squamata/Pythonidae/spilota/841c8061-3dfe-407b-8ea3-c9b067e78c72.jpg\n"
     ]
    },
    {
     "name": "stderr",
     "output_type": "stream",
     "text": [
      "Processing images:  74%|███████████████████████████████████████████▉               | 4538/6098 [01:07<00:20, 77.22it/s]"
     ]
    },
    {
     "name": "stdout",
     "output_type": "stream",
     "text": [
      "✅ Uploaded: images/Animalia/Squamata/Pythonidae/spilota/a122f79b-cb47-4342-99c9-f1caf49acdc1.jpg\n",
      "✅ Uploaded: images/Animalia/Squamata/Pythonidae/spilota/a1d5c087-6428-4ca9-8715-4a2b5d8ee5af.jpg\n",
      "✅ Uploaded: images/Animalia/Squamata/Pythonidae/spilota/a4025062-0cbc-4d12-b8d9-1d32ec217cd1.jpg\n",
      "✅ Uploaded: images/Animalia/Squamata/Pythonidae/spilota/b4e6b401-2c68-48be-9d61-0633e7c13d80.jpg\n"
     ]
    },
    {
     "name": "stderr",
     "output_type": "stream",
     "text": [
      "Processing images:  75%|████████████████████████████████████████████▏              | 4568/6098 [01:07<00:16, 94.51it/s]"
     ]
    },
    {
     "name": "stdout",
     "output_type": "stream",
     "text": [
      "✅ Uploaded: images/Animalia/Squamata/Pythonidae/spilota/bd78d45f-195f-4085-a118-359a358064d4.jpg\n",
      "✅ Uploaded: images/Animalia/Squamata/Pythonidae/spilota/c8b3fc76-8a33-4f98-85fb-6b91f88a1e49.jpg\n",
      "✅ Uploaded: images/Animalia/Squamata/Pythonidae/spilota/c976e8a0-f7e8-41f9-8521-7ee3056cdf8e.jpg\n",
      "✅ Uploaded: images/Animalia/Squamata/Pythonidae/spilota/ccf72edb-2941-4f9c-a13e-c2a8c094c74c.jpg\n",
      "✅ Uploaded: images/Animalia/Squamata/Pythonidae/spilota/e409da9f-29e9-466a-b723-0e71231ad597.jpg\n"
     ]
    },
    {
     "name": "stderr",
     "output_type": "stream",
     "text": [
      "Processing images:  75%|███████████████████████████████████████████▋              | 4588/6098 [01:08<00:14, 107.15it/s]"
     ]
    },
    {
     "name": "stdout",
     "output_type": "stream",
     "text": [
      "✅ Uploaded: images/Animalia/Squamata/Typhlopidae/acutus/0a3bb646-bb83-4adc-82ce-06e7bcbea358.jpg\n",
      "✅ Uploaded: images/Animalia/Squamata/Typhlopidae/acutus/67088e95-4c17-43f9-be8f-f9172b547bc3.jpg\n",
      "✅ Uploaded: images/Animalia/Squamata/Typhlopidae/acutus/69799bb7-7f9f-402f-b034-d968d206e249.jpg\n",
      "✅ Uploaded: images/Animalia/Squamata/Typhlopidae/acutus/9f00cec6-efcd-47ef-9ebb-0f16c95e8a98.jpg\n",
      "✅ Uploaded: images/Animalia/Squamata/Typhlopidae/acutus/acac74ef-7534-4499-b3f4-c0acb1d90dd9.jpg\n",
      "✅ Uploaded: images/Animalia/Squamata/Typhlopidae/acutus/b672396b-36af-4a26-8e6c-d7dacc5cf47a.jpg\n"
     ]
    },
    {
     "name": "stderr",
     "output_type": "stream",
     "text": [
      "Processing images:  76%|████████████████████████████████████████████▌              | 4608/6098 [01:08<00:24, 61.26it/s]"
     ]
    },
    {
     "name": "stdout",
     "output_type": "stream",
     "text": [
      "✅ Uploaded: images/Animalia/Squamata/Typhlopidae/bibronii/2e1f4fb8-4682-498c-b10b-3b65e9ec2871.jpg\n",
      "✅ Uploaded: images/Animalia/Squamata/Typhlopidae/bibronii/413ae61a-11f7-4074-ade7-3b98eb056b38.jpg\n",
      "✅ Uploaded: images/Animalia/Squamata/Typhlopidae/bibronii/4ffc61e4-b29e-48ac-a694-942dc234c492.jpg\n"
     ]
    },
    {
     "name": "stderr",
     "output_type": "stream",
     "text": [
      "Processing images:  76%|████████████████████████████████████████████▋              | 4623/6098 [01:08<00:25, 57.09it/s]"
     ]
    },
    {
     "name": "stdout",
     "output_type": "stream",
     "text": [
      "✅ Uploaded: images/Animalia/Squamata/Typhlopidae/bibronii/71def39b-2eb6-4189-b5d0-3093b9149e40.jpg\n",
      "✅ Uploaded: images/Animalia/Squamata/Typhlopidae/bibronii/74c59cd3-8813-43f3-ab84-3583c1c7e624.jpg\n",
      "✅ Uploaded: images/Animalia/Squamata/Typhlopidae/bibronii/a7a372fd-75fb-42b5-8c44-65f45d76f403.jpg\n",
      "✅ Uploaded: images/Animalia/Squamata/Typhlopidae/bibronii/bda5d713-8f8d-4575-81c3-80642fa01c10.jpg\n"
     ]
    },
    {
     "name": "stderr",
     "output_type": "stream",
     "text": [
      "Processing images:  76%|████████████████████████████████████████████▊              | 4630/6098 [01:09<00:31, 45.95it/s]"
     ]
    },
    {
     "name": "stdout",
     "output_type": "stream",
     "text": [
      "✅ Uploaded: images/Animalia/Squamata/Typhlopidae/bibronii/e9c1e3b0-1354-42e8-9d4b-1ce6183b6d24.jpg\n",
      "✅ Uploaded: images/Animalia/Squamata/Typhlopidae/bibronii/f2e9752d-f824-4b52-9505-1709d981e851.jpg\n",
      "✅ Uploaded: images/Animalia/Squamata/Typhlopidae/bibronii/f8dd5f2e-638b-4ba5-aa4a-b8b21e21998f.jpg\n"
     ]
    },
    {
     "name": "stderr",
     "output_type": "stream",
     "text": [
      "Processing images:  76%|█████████████████████████████████████████████              | 4658/6098 [01:09<00:17, 82.80it/s]"
     ]
    },
    {
     "name": "stdout",
     "output_type": "stream",
     "text": [
      "✅ Uploaded: images/Animalia/Squamata/Typhlopidae/braminus/1254619d-237e-481f-b2e5-43b877a20dc9.jpg\n",
      "✅ Uploaded: images/Animalia/Squamata/Typhlopidae/braminus/159046fa-f539-46ca-be1c-2cfbc3ae4774.jpg\n",
      "✅ Uploaded: images/Animalia/Squamata/Typhlopidae/braminus/167f2079-1a8f-420b-b131-5a166a4fc083.jpg\n",
      "✅ Uploaded: images/Animalia/Squamata/Typhlopidae/braminus/27b31386-e95a-4f47-8169-d1fa612ed233.jpg\n",
      "✅ Uploaded: images/Animalia/Squamata/Typhlopidae/braminus/2d881006-17dd-45a9-84e8-374b9cdb8a71.jpg\n"
     ]
    },
    {
     "name": "stderr",
     "output_type": "stream",
     "text": [
      "Processing images:  77%|█████████████████████████████████████████████▍             | 4692/6098 [01:09<00:15, 88.04it/s]"
     ]
    },
    {
     "name": "stdout",
     "output_type": "stream",
     "text": [
      "✅ Uploaded: images/Animalia/Squamata/Typhlopidae/braminus/39119f09-9a8d-4226-b2b1-0601c79bb19b.jpg\n",
      "✅ Uploaded: images/Animalia/Squamata/Typhlopidae/braminus/435f1c5b-76dd-4a70-a694-86a957137a37.jpg\n",
      "✅ Uploaded: images/Animalia/Squamata/Typhlopidae/braminus/4763403a-b805-44e3-a412-15153d43870e.jpg\n",
      "✅ Uploaded: images/Animalia/Squamata/Typhlopidae/braminus/4c2bcb44-0345-4152-8083-e64878d3d579.jpg\n"
     ]
    },
    {
     "name": "stderr",
     "output_type": "stream",
     "text": [
      "Processing images:  77%|█████████████████████████████████████████████▌             | 4704/6098 [01:09<00:15, 92.43it/s]"
     ]
    },
    {
     "name": "stdout",
     "output_type": "stream",
     "text": [
      "✅ Uploaded: images/Animalia/Squamata/Typhlopidae/braminus/623e24c7-a502-4d1d-946c-ce5ae5b7ace0.jpg\n",
      "✅ Uploaded: images/Animalia/Squamata/Typhlopidae/braminus/64b203b3-9820-493b-96a1-5b7d04dafd4a.jpg\n",
      "✅ Uploaded: images/Animalia/Squamata/Typhlopidae/braminus/65bb7c4a-8658-4a75-92e9-be6775646438.jpg\n"
     ]
    },
    {
     "name": "stderr",
     "output_type": "stream",
     "text": [
      "Processing images:  78%|█████████████████████████████████████████████▊             | 4736/6098 [01:10<00:14, 92.09it/s]"
     ]
    },
    {
     "name": "stdout",
     "output_type": "stream",
     "text": [
      "✅ Uploaded: images/Animalia/Squamata/Typhlopidae/braminus/6d0999af-70b7-4f26-a6d3-aec71cb9afa5.jpg\n",
      "✅ Uploaded: images/Animalia/Squamata/Typhlopidae/braminus/7cf0ee18-eb74-4c91-9a66-7bed7b64e488.jpg\n",
      "✅ Uploaded: images/Animalia/Squamata/Typhlopidae/braminus/a2b9edf4-a2ec-44f4-a8ef-b8991b15f241.jpg\n",
      "✅ Uploaded: images/Animalia/Squamata/Typhlopidae/braminus/a877595b-a35b-4d44-8376-b0212a77c5ec.jpg\n"
     ]
    },
    {
     "name": "stderr",
     "output_type": "stream",
     "text": [
      "Processing images:  78%|█████████████████████████████████████████████▉             | 4748/6098 [01:10<00:15, 85.71it/s]"
     ]
    },
    {
     "name": "stdout",
     "output_type": "stream",
     "text": [
      "✅ Uploaded: images/Animalia/Squamata/Typhlopidae/braminus/b488f9d5-b60f-484a-8fdf-25eaf99eb77b.jpg\n",
      "✅ Uploaded: images/Animalia/Squamata/Typhlopidae/braminus/c5c6faf8-6f52-43b9-875d-483715fe8558.jpg\n",
      "✅ Uploaded: images/Animalia/Squamata/Typhlopidae/braminus/cbe5c174-9a81-48e0-b8c8-32a655acb5c6.jpg\n",
      "✅ Uploaded: images/Animalia/Squamata/Typhlopidae/braminus/e7329a56-04b1-4188-bd70-d807ff3f56e2.jpg\n"
     ]
    },
    {
     "name": "stderr",
     "output_type": "stream",
     "text": [
      "Processing images:  78%|█████████████████████████████████████████████▍            | 4777/6098 [01:10<00:11, 112.81it/s]"
     ]
    },
    {
     "name": "stdout",
     "output_type": "stream",
     "text": [
      "✅ Uploaded: images/Animalia/Squamata/Typhlopidae/lalandei/058f3275-1ffe-42dc-9c03-c38c1e7557a6.jpg\n",
      "✅ Uploaded: images/Animalia/Squamata/Typhlopidae/lalandei/0a50e274-9bac-4e1d-8b77-5d270bdb47b4.jpg\n",
      "✅ Uploaded: images/Animalia/Squamata/Typhlopidae/lalandei/1e48d581-c72d-4878-8edd-f80a14f1841b.jpg\n"
     ]
    },
    {
     "name": "stderr",
     "output_type": "stream",
     "text": [
      "Processing images:  79%|██████████████████████████████████████████████▎            | 4789/6098 [01:10<00:14, 88.31it/s]"
     ]
    },
    {
     "name": "stdout",
     "output_type": "stream",
     "text": [
      "✅ Uploaded: images/Animalia/Squamata/Typhlopidae/lalandei/32c49692-1459-436b-aac4-54961446dfbc.jpg\n",
      "✅ Uploaded: images/Animalia/Squamata/Typhlopidae/lalandei/71fffe91-df3d-4789-b9e6-b8354db5e1e1.jpg\n",
      "✅ Uploaded: images/Animalia/Squamata/Typhlopidae/lalandei/75256d25-a5c6-4449-873b-e4f40789f969.jpg\n"
     ]
    },
    {
     "name": "stderr",
     "output_type": "stream",
     "text": [
      "Processing images:  79%|██████████████████████████████████████████████▌            | 4817/6098 [01:11<00:14, 88.17it/s]"
     ]
    },
    {
     "name": "stdout",
     "output_type": "stream",
     "text": [
      "✅ Uploaded: images/Animalia/Squamata/Typhlopidae/lalandei/7bcf96e7-3a4e-4927-8984-4f6ac7e32466.jpg\n",
      "✅ Uploaded: images/Animalia/Squamata/Typhlopidae/lalandei/7bd8ebc2-e7f7-4d07-8427-c62b550b745c.jpg\n",
      "✅ Uploaded: images/Animalia/Squamata/Typhlopidae/lalandei/9693807d-c1e0-45cf-825c-e03fbc96e734.jpg\n",
      "✅ Uploaded: images/Animalia/Squamata/Typhlopidae/ligatus/81a1c4b9-67f9-434b-9f9f-46be45dbf41b.jpg\n",
      "✅ Uploaded: images/Animalia/Squamata/Typhlopidae/ligatus/a18683d8-99c8-42c8-a419-022d3bf8381f.jpg\n",
      "✅ Uploaded: images/Animalia/Squamata/Typhlopidae/ligatus/d4923927-e004-422a-8021-d6ba6df687c2.jpg\n",
      "✅ Uploaded: images/Animalia/Squamata/Typhlopidae/microstomus/1528d716-b722-422d-8cf1-28af4e93b2af.jpg\n"
     ]
    },
    {
     "name": "stderr",
     "output_type": "stream",
     "text": [
      "Processing images:  79%|██████████████████████████████████████████████▋            | 4828/6098 [01:11<00:24, 52.49it/s]"
     ]
    },
    {
     "name": "stdout",
     "output_type": "stream",
     "text": [
      "✅ Uploaded: images/Animalia/Squamata/Typhlopidae/microstomus/8702396a-3eb6-45e9-930d-31e630abd35f.jpg\n",
      "✅ Uploaded: images/Animalia/Squamata/Typhlopidae/microstomus/9984cda8-355e-40ad-a0e5-a6d894071ec0.jpg\n",
      "✅ Uploaded: images/Animalia/Squamata/Typhlopidae/microstomus/dfd2bbc9-4269-4480-8c29-5bcd6174375e.jpg\n"
     ]
    },
    {
     "name": "stderr",
     "output_type": "stream",
     "text": [
      "Processing images:  80%|██████████████████████████████████████████████▌           | 4902/6098 [01:11<00:08, 141.46it/s]"
     ]
    },
    {
     "name": "stdout",
     "output_type": "stream",
     "text": [
      "✅ Uploaded: images/Animalia/Squamata/Typhlopidae/pinguis/9fbe86bf-c657-4984-b96d-2ffabdc91e5b.jpg\n",
      "✅ Uploaded: images/Animalia/Squamata/Typhlopidae/pinguis/d799b36a-2aa6-45d0-bf50-fe1434799886.jpg\n",
      "✅ Uploaded: images/Animalia/Squamata/Typhlopidae/torresianus/bd335360-4a63-4f91-b0e8-b48a22a43e0e.jpg\n"
     ]
    },
    {
     "name": "stderr",
     "output_type": "stream",
     "text": [
      "Processing images:  81%|██████████████████████████████████████████████▉           | 4935/6098 [01:11<00:07, 146.53it/s]"
     ]
    },
    {
     "name": "stdout",
     "output_type": "stream",
     "text": [
      "✅ Uploaded: images/Animalia/Squamata/Typhlopidae/torresianus/f0f46a3b-7be2-4910-beb4-a2394869bedf.jpg\n",
      "✅ Uploaded: images/Animalia/Squamata/Typhlopidae/torresianus/fb2be0bd-ec40-4b2d-9f49-b03f44b714e5.jpg\n",
      "✅ Uploaded: images/Animalia/Squamata/Typhlopidae/unknown/38cbbcd9-661e-44fa-996c-07c80cba8d54.jpg\n"
     ]
    },
    {
     "name": "stderr",
     "output_type": "stream",
     "text": [
      "Processing images:  81%|███████████████████████████████████████████████▏          | 4957/6098 [01:12<00:10, 113.61it/s]"
     ]
    },
    {
     "name": "stdout",
     "output_type": "stream",
     "text": [
      "✅ Uploaded: images/Animalia/Squamata/Typhlopidae/vermicularis/0f7c89b4-4428-49c5-be17-450e2042cdb5.jpg\n",
      "✅ Uploaded: images/Animalia/Squamata/Typhlopidae/vermicularis/5120d768-a1dd-4123-b128-e3c7afbd1e91.jpg\n",
      "✅ Uploaded: images/Animalia/Squamata/Typhlopidae/vermicularis/a97398b9-c994-43c2-905c-6cb864e942eb.jpg\n"
     ]
    },
    {
     "name": "stderr",
     "output_type": "stream",
     "text": [
      "Processing images:  82%|███████████████████████████████████████████████▎          | 4974/6098 [01:12<00:11, 102.09it/s]"
     ]
    },
    {
     "name": "stdout",
     "output_type": "stream",
     "text": [
      "✅ Uploaded: images/Animalia/Squamata/Typhlopidae/vermicularis/b0bd9496-0b34-4d38-b648-1b02e59ffa65.jpg\n",
      "✅ Uploaded: images/Animalia/Squamata/Typhlopidae/vermicularis/ed031fc1-a626-4029-bc6f-703142779735.jpg\n"
     ]
    },
    {
     "name": "stderr",
     "output_type": "stream",
     "text": [
      "Processing images:  82%|███████████████████████████████████████████████▋          | 5012/6098 [01:12<00:08, 123.01it/s]"
     ]
    },
    {
     "name": "stdout",
     "output_type": "stream",
     "text": [
      "✅ Uploaded: images/Animalia/Squamata/Uropeltidae/liura/4aa2400b-9c44-4ab5-9f7c-002411fc9a84.jpg\n",
      "✅ Uploaded: images/Animalia/Squamata/Uropeltidae/macrolepis/353c1234-366b-4073-8c42-cf6337f9ed11.jpg\n",
      "✅ Uploaded: images/Animalia/Squamata/Uropeltidae/macrolepis/3fe551fc-b3bf-4f38-9d6f-4d17fe30c247.jpg\n",
      "✅ Uploaded: images/Animalia/Squamata/Uropeltidae/macrolepis/919bb928-7400-4bc2-92ba-5e24c9408329.jpg\n"
     ]
    },
    {
     "name": "stderr",
     "output_type": "stream",
     "text": [
      "Processing images:  82%|████████████████████████████████████████████████▋          | 5028/6098 [01:13<00:11, 93.45it/s]"
     ]
    },
    {
     "name": "stdout",
     "output_type": "stream",
     "text": [
      "✅ Uploaded: images/Animalia/Squamata/Uropeltidae/macrolepis/e776976a-5128-4679-9735-1299969bf898.jpg\n",
      "✅ Uploaded: images/Animalia/Squamata/Uropeltidae/maculata/427022ee-984f-4763-a80b-f9d579f464fa.jpg\n",
      "✅ Uploaded: images/Animalia/Squamata/Uropeltidae/ocellata/68cda3c4-e9bc-4957-b0b9-b53591829960.jpg\n"
     ]
    },
    {
     "name": "stderr",
     "output_type": "stream",
     "text": [
      "Processing images:  83%|████████████████████████████████████████████████▊          | 5051/6098 [01:13<00:12, 84.12it/s]"
     ]
    },
    {
     "name": "stdout",
     "output_type": "stream",
     "text": [
      "✅ Uploaded: images/Animalia/Squamata/Uropeltidae/oxyrhynchus/f20b75f6-55dc-4684-a244-e73b9ad70f31.jpg\n",
      "✅ Uploaded: images/Animalia/Squamata/Uropeltidae/philippinus/664d5b7f-b52d-40f7-a36b-0e33e7f3bcad.jpg\n",
      "✅ Uploaded: images/Animalia/Squamata/Uropeltidae/philippinus/70d3d077-df33-4641-932c-bb720103dcef.jpg\n",
      "✅ Uploaded: images/Animalia/Squamata/Uropeltidae/rubromaculata/44df5d4d-1d84-4cc4-833f-11b0a92dfc55.jpg\n"
     ]
    },
    {
     "name": "stderr",
     "output_type": "stream",
     "text": [
      "Processing images:  83%|████████████████████████████████████████████████▉          | 5061/6098 [01:13<00:12, 82.03it/s]"
     ]
    },
    {
     "name": "stdout",
     "output_type": "stream",
     "text": [
      "✅ Uploaded: images/Animalia/Squamata/Uropeltidae/wynaudense/911a870c-2090-4ca0-be2d-101e75ad9184.jpg\n",
      "✅ Uploaded: images/Animalia/Squamata/Viperidae/berus/05df042a-7f18-4ead-9652-04b1bf296ca2.jpg\n",
      "✅ Uploaded: images/Animalia/Squamata/Viperidae/berus/0eb0fecd-ddbe-4106-8208-0af881108ca8.jpg\n"
     ]
    },
    {
     "name": "stderr",
     "output_type": "stream",
     "text": [
      "Processing images:  86%|█████████████████████████████████████████████████▋        | 5226/6098 [01:13<00:02, 317.77it/s]"
     ]
    },
    {
     "name": "stdout",
     "output_type": "stream",
     "text": [
      "✅ Uploaded: images/Animalia/Squamata/Viperidae/berus/2d4bdaab-ae52-47da-a249-411169e51c67.jpg\n",
      "✅ Uploaded: images/Animalia/Squamata/Viperidae/berus/307c1c7e-9404-41fc-b79a-2bdab5925d56.jpg\n",
      "✅ Uploaded: images/Animalia/Squamata/Viperidae/berus/3c2af801-647f-489b-83d9-181b8e5c076a.jpg\n",
      "✅ Uploaded: images/Animalia/Squamata/Viperidae/berus/3f9e0ddc-c629-42b9-b0db-e4d2aceac9fd.jpg\n",
      "✅ Uploaded: images/Animalia/Squamata/Viperidae/berus/41460ec5-4b39-4b2f-90a7-5760cd679589.jpg\n",
      "✅ Uploaded: images/Animalia/Squamata/Viperidae/berus/4d12f8c3-1078-4a74-9563-81baeaee42ca.jpg\n",
      "✅ Uploaded: images/Animalia/Squamata/Viperidae/berus/52e086f5-2689-48a4-aaf6-8084cfe807b2.jpg\n",
      "✅ Uploaded: images/Animalia/Squamata/Viperidae/berus/5e0b70d5-337e-4b00-b693-8923fd612a9d.jpg\n",
      "✅ Uploaded: images/Animalia/Squamata/Viperidae/berus/6b999063-103d-4ec7-a96e-7d7591d0d980.jpg\n",
      "✅ Uploaded: images/Animalia/Squamata/Viperidae/berus/7202acff-b09b-4c62-a693-1023bea59a16.jpg\n",
      "✅ Uploaded: images/Animalia/Squamata/Viperidae/berus/855ce62e-55eb-429d-8d86-99ec9a72293f.jpg\n",
      "✅ Uploaded: images/Animalia/Squamata/Viperidae/berus/8c16fb30-6151-44d5-ad8f-5ae6494b0647.jpg\n"
     ]
    },
    {
     "name": "stderr",
     "output_type": "stream",
     "text": [
      "Processing images:  86%|██████████████████████████████████████████████████        | 5259/6098 [01:14<00:06, 122.56it/s]"
     ]
    },
    {
     "name": "stdout",
     "output_type": "stream",
     "text": [
      "✅ Uploaded: images/Animalia/Squamata/Viperidae/berus/8cbe0bf3-7142-411a-90ab-bbed335907eb.jpg\n",
      "✅ Uploaded: images/Animalia/Squamata/Viperidae/berus/97964916-393b-4d5f-accf-1c6054ba6069.jpg\n",
      "✅ Uploaded: images/Animalia/Squamata/Viperidae/berus/abfb2af2-0b64-456c-8a15-8c328757155d.jpg\n",
      "✅ Uploaded: images/Animalia/Squamata/Viperidae/berus/aded2bb5-fb03-41b1-b49e-4581bc2ca0b8.jpg\n",
      "✅ Uploaded: images/Animalia/Squamata/Viperidae/berus/ba63a252-ad03-4fad-820d-52d8b4be81ca.jpg\n"
     ]
    },
    {
     "name": "stderr",
     "output_type": "stream",
     "text": [
      "Processing images:  88%|███████████████████████████████████████████████████       | 5375/6098 [01:15<00:04, 174.52it/s]"
     ]
    },
    {
     "name": "stdout",
     "output_type": "stream",
     "text": [
      "✅ Uploaded: images/Animalia/Squamata/Viperidae/berus/d35ebcd1-7461-4802-ae18-d7576e963072.jpg\n",
      "✅ Uploaded: images/Animalia/Squamata/Viperidae/contortrix/0a51e0e8-1f56-4150-be3a-58d7ceb7c67d.jpg\n",
      "✅ Uploaded: images/Animalia/Squamata/Viperidae/contortrix/0b60f3d3-23cc-423d-ac49-781ca266e464.jpg\n",
      "✅ Uploaded: images/Animalia/Squamata/Viperidae/contortrix/15245cf6-116f-4e0f-9eb4-334c319d36e6.jpg\n",
      "✅ Uploaded: images/Animalia/Squamata/Viperidae/contortrix/19fb0b2e-7c58-409f-8a9c-49ffd3993def.jpg\n",
      "✅ Uploaded: images/Animalia/Squamata/Viperidae/contortrix/1a9232a0-497f-46a3-b603-08fe8e232d98.jpg\n",
      "✅ Uploaded: images/Animalia/Squamata/Viperidae/contortrix/228d7704-3fb0-48d4-83ee-37e5c9dda08e.jpg\n",
      "✅ Uploaded: images/Animalia/Squamata/Viperidae/contortrix/3aae69c9-b6bc-4498-99af-44aeb770c327.jpg\n",
      "✅ Uploaded: images/Animalia/Squamata/Viperidae/contortrix/4f8b6222-074e-4a74-bc64-a42a0dc1dd22.jpg\n",
      "✅ Uploaded: images/Animalia/Squamata/Viperidae/contortrix/533d087c-7bdd-422e-b4b1-af74fe1ea56a.jpg\n",
      "✅ Uploaded: images/Animalia/Squamata/Viperidae/contortrix/666436ca-a65e-431c-b5cc-32dbfd1bd87e.jpg\n"
     ]
    },
    {
     "name": "stderr",
     "output_type": "stream",
     "text": [
      "Processing images:  89%|████████████████████████████████████████████████████▎      | 5409/6098 [01:16<00:07, 90.67it/s]"
     ]
    },
    {
     "name": "stdout",
     "output_type": "stream",
     "text": [
      "✅ Uploaded: images/Animalia/Squamata/Viperidae/contortrix/69b225c5-27ed-4be6-a3c6-156a55b98ff8.jpg\n",
      "✅ Uploaded: images/Animalia/Squamata/Viperidae/contortrix/7369961b-77a5-469f-858b-247aa3137f10.jpg\n",
      "✅ Uploaded: images/Animalia/Squamata/Viperidae/contortrix/aaeb23ce-b2ca-4504-ad17-e983c2a6cbdb.jpg\n",
      "✅ Uploaded: images/Animalia/Squamata/Viperidae/contortrix/af660157-ea23-4215-8dd4-060a6b399daf.jpg\n",
      "✅ Uploaded: images/Animalia/Squamata/Viperidae/contortrix/b5b37835-93a4-4774-8175-5a1562da0b0c.jpg\n",
      "✅ Uploaded: images/Animalia/Squamata/Viperidae/contortrix/b66ff9cb-f80d-4442-9cca-45bc34431208.jpg\n",
      "✅ Uploaded: images/Animalia/Squamata/Viperidae/contortrix/ba5d1529-a2a6-403a-a7c0-a4dff352c0c2.jpg\n"
     ]
    },
    {
     "name": "stderr",
     "output_type": "stream",
     "text": [
      "Processing images:  89%|████████████████████████████████████████████████████▊      | 5453/6098 [01:16<00:07, 84.39it/s]"
     ]
    },
    {
     "name": "stdout",
     "output_type": "stream",
     "text": [
      "✅ Uploaded: images/Animalia/Squamata/Viperidae/contortrix/c022fcf6-0780-4aa3-9d21-23a9a22a58a1.jpg\n",
      "✅ Uploaded: images/Animalia/Squamata/Viperidae/contortrix/c0dda436-89c3-4b85-bda0-30a5da440afe.jpg\n",
      "✅ Uploaded: images/Animalia/Squamata/Viperidae/contortrix/db541f8d-eeff-44ce-b58b-75bc09ac3c53.jpg\n"
     ]
    },
    {
     "name": "stderr",
     "output_type": "stream",
     "text": [
      "Processing images:  90%|████████████████████████████████████████████████████▎     | 5502/6098 [01:17<00:04, 121.38it/s]"
     ]
    },
    {
     "name": "stdout",
     "output_type": "stream",
     "text": [
      "✅ Uploaded: images/Animalia/Squamata/Viperidae/jararaca/1249de8a-4397-4155-8082-6033131fe3c9.jpg\n",
      "✅ Uploaded: images/Animalia/Squamata/Viperidae/jararaca/13f32d08-ee57-47b1-85a1-6559ad100e91.jpg\n",
      "✅ Uploaded: images/Animalia/Squamata/Viperidae/jararaca/35816571-190c-466f-9cde-d9b3dd9959d0.jpg\n",
      "✅ Uploaded: images/Animalia/Squamata/Viperidae/jararaca/361532dc-286a-41b0-a8f4-bfdd22ae0e88.jpg\n",
      "✅ Uploaded: images/Animalia/Squamata/Viperidae/jararaca/37b06c21-992b-4553-a004-4b726c653084.jpg\n",
      "✅ Uploaded: images/Animalia/Squamata/Viperidae/jararaca/37c22d95-3ce6-4e0c-a8cc-c4b4090826a0.jpg\n",
      "✅ Uploaded: images/Animalia/Squamata/Viperidae/jararaca/3bb0d4db-193f-4347-b616-824e3d89e770.jpg\n",
      "✅ Uploaded: images/Animalia/Squamata/Viperidae/jararaca/4a9ecf6b-fd3f-4fca-b735-0dc99d6baed2.jpg\n",
      "✅ Uploaded: images/Animalia/Squamata/Viperidae/jararaca/4cb7bde1-7624-455d-9d18-a59bdc5c3f43.jpg\n",
      "✅ Uploaded: images/Animalia/Squamata/Viperidae/jararaca/59431256-8516-40dc-af45-e90adc5a95b4.jpg\n",
      "✅ Uploaded: images/Animalia/Squamata/Viperidae/jararaca/7a1e123c-7e37-4c09-8df7-abbcd9ee2355.jpg\n",
      "✅ Uploaded: images/Animalia/Squamata/Viperidae/jararaca/857d76b7-0019-4079-a33f-195a8b44a793.jpg\n",
      "✅ Uploaded: images/Animalia/Squamata/Viperidae/jararaca/98a25916-ac1c-466f-9021-8fead1f7a4d7.jpg\n",
      "✅ Uploaded: images/Animalia/Squamata/Viperidae/jararaca/b1e896b5-09e9-4c77-8830-85d9d282e7d0.jpg\n",
      "✅ Uploaded: images/Animalia/Squamata/Viperidae/jararaca/bab3cbd4-264e-403d-a73d-c04839fd4c8e.jpg\n",
      "✅ Uploaded: images/Animalia/Squamata/Viperidae/jararaca/cbf2e615-5fd2-49d7-a889-8e0261c3fe6b.jpg\n",
      "✅ Uploaded: images/Animalia/Squamata/Viperidae/jararaca/cee13b5e-d634-4b34-9e11-0a487fa98599.jpg\n",
      "✅ Uploaded: images/Animalia/Squamata/Viperidae/jararaca/d58b45b2-b1fe-47bb-812e-d58cbccf57e4.jpg\n",
      "✅ Uploaded: images/Animalia/Squamata/Viperidae/jararaca/d726e29b-30e0-4ab2-9779-d1dfafab5c16.jpg\n",
      "✅ Uploaded: images/Animalia/Squamata/Viperidae/jararaca/ea074385-243c-4b48-b266-eee8cf033e6a.jpg\n"
     ]
    },
    {
     "name": "stderr",
     "output_type": "stream",
     "text": [
      "Processing images:  91%|█████████████████████████████████████████████████████▌     | 5530/6098 [01:18<00:11, 49.87it/s]"
     ]
    },
    {
     "name": "stdout",
     "output_type": "stream",
     "text": [
      "✅ Uploaded: images/Animalia/Squamata/Viperidae/laticinctus/0b246b12-df88-4cfd-a8b0-40a0b8536d69.jpg\n",
      "✅ Uploaded: images/Animalia/Squamata/Viperidae/laticinctus/1f09e1f0-09a6-44ab-bbcd-cf546757c11f.jpg\n",
      "✅ Uploaded: images/Animalia/Squamata/Viperidae/laticinctus/3f0ce669-f718-42dc-b583-f00b93fac381.jpg\n",
      "✅ Uploaded: images/Animalia/Squamata/Viperidae/laticinctus/4138724b-37e8-4d84-8633-37fe87c973f8.jpg\n",
      "✅ Uploaded: images/Animalia/Squamata/Viperidae/laticinctus/50fa2c30-80cd-432e-a76b-7a42f69bf3cb.jpg\n",
      "✅ Uploaded: images/Animalia/Squamata/Viperidae/laticinctus/59c10bc1-67cc-438e-b74b-8e3eb1126fca.jpg\n",
      "✅ Uploaded: images/Animalia/Squamata/Viperidae/laticinctus/66e78c01-1540-453f-a629-73aefc716c29.jpg\n",
      "✅ Uploaded: images/Animalia/Squamata/Viperidae/laticinctus/7caabd32-5c08-4900-adaa-848998975623.jpg\n",
      "✅ Uploaded: images/Animalia/Squamata/Viperidae/laticinctus/7ce7f308-3133-4ce2-a641-1b1d902fcc1d.jpg\n",
      "✅ Uploaded: images/Animalia/Squamata/Viperidae/laticinctus/8193e99c-6c87-45b8-87a8-916c285937f7.jpg\n"
     ]
    },
    {
     "name": "stderr",
     "output_type": "stream",
     "text": [
      "Processing images:  91%|█████████████████████████████████████████████████████▋     | 5550/6098 [01:19<00:13, 41.45it/s]"
     ]
    },
    {
     "name": "stdout",
     "output_type": "stream",
     "text": [
      "✅ Uploaded: images/Animalia/Squamata/Viperidae/laticinctus/84eb14b0-e005-4156-a106-95cac0c40bfa.jpg\n",
      "✅ Uploaded: images/Animalia/Squamata/Viperidae/laticinctus/8b92d362-5d7b-4071-b1df-5196d375099b.jpg\n",
      "✅ Uploaded: images/Animalia/Squamata/Viperidae/laticinctus/956642b2-30e8-4e56-a222-bec74aa83a06.jpg\n",
      "✅ Uploaded: images/Animalia/Squamata/Viperidae/laticinctus/a78c08e4-72ab-4d28-a54f-622dbae76f3d.jpg\n",
      "✅ Uploaded: images/Animalia/Squamata/Viperidae/laticinctus/c9885cf0-3897-4b55-adf0-099cac94a980.jpg\n",
      "✅ Uploaded: images/Animalia/Squamata/Viperidae/laticinctus/c9f7ac01-e913-4a29-908c-03b9b9d6b116.jpg\n",
      "✅ Uploaded: images/Animalia/Squamata/Viperidae/laticinctus/d0ee7f78-055e-4256-b72b-263be59dd9e9.jpg\n"
     ]
    },
    {
     "name": "stderr",
     "output_type": "stream",
     "text": [
      "Processing images:  93%|██████████████████████████████████████████████████████    | 5690/6098 [01:20<00:03, 112.16it/s]"
     ]
    },
    {
     "name": "stdout",
     "output_type": "stream",
     "text": [
      "✅ Uploaded: images/Animalia/Squamata/Viperidae/laticinctus/d721806f-9e0d-4e82-a143-3ee91e4d4377.jpg\n",
      "✅ Uploaded: images/Animalia/Squamata/Viperidae/laticinctus/d9d8266b-eaa7-4725-a125-e2e6a9d3b243.jpg\n",
      "✅ Uploaded: images/Animalia/Squamata/Viperidae/laticinctus/ea9fc79c-46d9-44c8-bf1a-abd2cd79c842.jpg\n",
      "✅ Uploaded: images/Animalia/Squamata/Viperidae/oreganus/0fde9b99-2c9a-4290-88e9-83db7f9fccd1.jpg\n",
      "✅ Uploaded: images/Animalia/Squamata/Viperidae/oreganus/1121df4b-59aa-442c-9df2-a53b3441cf2b.jpg\n",
      "✅ Uploaded: images/Animalia/Squamata/Viperidae/oreganus/24129d75-5cbd-49fc-aca7-a353372d3b84.jpg\n",
      "✅ Uploaded: images/Animalia/Squamata/Viperidae/oreganus/415c388b-350c-4b9e-a3af-ad0f3db2b8ca.jpg\n"
     ]
    },
    {
     "name": "stderr",
     "output_type": "stream",
     "text": [
      "Processing images:  94%|██████████████████████████████████████████████████████▍   | 5722/6098 [01:20<00:03, 107.50it/s]"
     ]
    },
    {
     "name": "stdout",
     "output_type": "stream",
     "text": [
      "✅ Uploaded: images/Animalia/Squamata/Viperidae/oreganus/49f32daa-980d-4bca-a6b8-c063bc3a08ba.jpg\n",
      "✅ Uploaded: images/Animalia/Squamata/Viperidae/oreganus/61f12657-6c37-4cb6-87db-4899c1963ee7.jpg\n",
      "✅ Uploaded: images/Animalia/Squamata/Viperidae/oreganus/645e148e-8955-4227-8053-33331fe7b690.jpg\n",
      "✅ Uploaded: images/Animalia/Squamata/Viperidae/oreganus/6a60ceee-12ec-4c42-8ba1-c1c15226a02e.jpg\n",
      "✅ Uploaded: images/Animalia/Squamata/Viperidae/oreganus/6e6dbbd9-2126-446f-a207-848447014a2d.jpg\n",
      "✅ Uploaded: images/Animalia/Squamata/Viperidae/oreganus/7f5032ec-ec04-4b3f-9699-64ae8ee75f33.jpg\n"
     ]
    },
    {
     "name": "stderr",
     "output_type": "stream",
     "text": [
      "Processing images:  94%|███████████████████████████████████████████████████████▌   | 5747/6098 [01:21<00:04, 77.49it/s]"
     ]
    },
    {
     "name": "stdout",
     "output_type": "stream",
     "text": [
      "✅ Uploaded: images/Animalia/Squamata/Viperidae/oreganus/8bcdbecc-27b5-4d85-93c8-86d2a9f71a5e.jpg\n",
      "✅ Uploaded: images/Animalia/Squamata/Viperidae/oreganus/8c41b655-19fa-418b-958e-53d276cbcf44.jpg\n",
      "✅ Uploaded: images/Animalia/Squamata/Viperidae/oreganus/9131074b-6192-4d50-aa6e-63e88be6250a.jpg\n",
      "✅ Uploaded: images/Animalia/Squamata/Viperidae/oreganus/94a05a1a-2c1c-4eec-a719-7fdff9fcc811.jpg\n",
      "✅ Uploaded: images/Animalia/Squamata/Viperidae/oreganus/9e077414-6f7a-494c-b6a4-3404742a892b.jpg\n",
      "✅ Uploaded: images/Animalia/Squamata/Viperidae/oreganus/a9607e51-6c30-4b1f-93a5-8e67910ea171.jpg\n",
      "✅ Uploaded: images/Animalia/Squamata/Viperidae/oreganus/b5d21567-8d8f-47a4-8b85-86b468dab83b.jpg\n"
     ]
    },
    {
     "name": "stderr",
     "output_type": "stream",
     "text": [
      "Processing images:  95%|███████████████████████████████████████████████████████▊   | 5766/6098 [01:21<00:04, 73.17it/s]"
     ]
    },
    {
     "name": "stdout",
     "output_type": "stream",
     "text": [
      "✅ Uploaded: images/Animalia/Squamata/Viperidae/oreganus/c80f4132-b560-4f71-895b-a2deb1ea2d28.jpg\n",
      "✅ Uploaded: images/Animalia/Squamata/Viperidae/oreganus/d9717110-962a-4f50-afd0-a454409d428b.jpg\n",
      "✅ Uploaded: images/Animalia/Squamata/Viperidae/oreganus/ddcc2d2f-7cd0-471f-a99a-3545882a603c.jpg\n"
     ]
    },
    {
     "name": "stderr",
     "output_type": "stream",
     "text": [
      "Processing images:  95%|███████████████████████████████████████████████████████▉   | 5781/6098 [01:21<00:04, 68.72it/s]"
     ]
    },
    {
     "name": "stdout",
     "output_type": "stream",
     "text": [
      "✅ Uploaded: images/Animalia/Squamata/Viperidae/piscivorus/0374420a-41da-407b-b810-a4cb7f3ad810.jpg\n",
      "✅ Uploaded: images/Animalia/Squamata/Viperidae/piscivorus/03e6a558-2319-4e58-9915-1a8deb300e45.jpg\n",
      "✅ Uploaded: images/Animalia/Squamata/Viperidae/piscivorus/260987d1-6b3e-45a3-90ca-9f181879621e.jpg\n",
      "✅ Uploaded: images/Animalia/Squamata/Viperidae/piscivorus/33453a25-c82c-43c3-b9eb-4cb7052655fe.jpg\n"
     ]
    },
    {
     "name": "stderr",
     "output_type": "stream",
     "text": [
      "Processing images:  95%|████████████████████████████████████████████████████████   | 5793/6098 [01:22<00:05, 57.27it/s]"
     ]
    },
    {
     "name": "stdout",
     "output_type": "stream",
     "text": [
      "✅ Uploaded: images/Animalia/Squamata/Viperidae/piscivorus/39538665-fe2d-46aa-ae60-1756b523b3fb.jpg\n",
      "✅ Uploaded: images/Animalia/Squamata/Viperidae/piscivorus/449af3e8-403f-4680-a440-e7cc1c5a1137.jpg\n",
      "✅ Uploaded: images/Animalia/Squamata/Viperidae/piscivorus/4eb9aa4e-981f-42a5-80b6-cabab6182155.jpg\n",
      "✅ Uploaded: images/Animalia/Squamata/Viperidae/piscivorus/505aa192-b0d1-4e66-a648-c106d3c71a1a.jpg\n",
      "✅ Uploaded: images/Animalia/Squamata/Viperidae/piscivorus/6793499e-5685-4d54-82eb-c9811c479dcc.jpg\n",
      "✅ Uploaded: images/Animalia/Squamata/Viperidae/piscivorus/6b9148f6-7f2d-44e1-8526-215de98ff2d2.jpg\n",
      "✅ Uploaded: images/Animalia/Squamata/Viperidae/piscivorus/742a0330-1378-4493-8e4c-1ca9a863cb4f.jpg\n"
     ]
    },
    {
     "name": "stderr",
     "output_type": "stream",
     "text": [
      "Processing images:  95%|████████████████████████████████████████████████████████▏  | 5803/6098 [01:22<00:05, 52.80it/s]"
     ]
    },
    {
     "name": "stdout",
     "output_type": "stream",
     "text": [
      "✅ Uploaded: images/Animalia/Squamata/Viperidae/piscivorus/7ae7186a-b7cb-4153-9957-977ce4c825a3.jpg\n",
      "✅ Uploaded: images/Animalia/Squamata/Viperidae/piscivorus/7e85d1d1-b19c-4833-96f1-bc7312882b8b.jpg\n",
      "✅ Uploaded: images/Animalia/Squamata/Viperidae/piscivorus/8196f9b3-ea50-4db9-af15-80faf8b94ea6.jpg\n",
      "✅ Uploaded: images/Animalia/Squamata/Viperidae/piscivorus/864b3010-5458-4958-9285-22c43e48a7f6.jpg\n"
     ]
    },
    {
     "name": "stderr",
     "output_type": "stream",
     "text": [
      "Processing images:  95%|████████████████████████████████████████████████████████▏  | 5811/6098 [01:23<00:07, 36.60it/s]"
     ]
    },
    {
     "name": "stdout",
     "output_type": "stream",
     "text": [
      "✅ Uploaded: images/Animalia/Squamata/Viperidae/piscivorus/9a75c345-6961-45ef-bec3-53a76c691be5.jpg\n",
      "✅ Uploaded: images/Animalia/Squamata/Viperidae/piscivorus/9e5eeb78-a7b3-4180-bf39-81749ed886c3.jpg\n"
     ]
    },
    {
     "name": "stderr",
     "output_type": "stream",
     "text": [
      "Processing images:  95%|████████████████████████████████████████████████████████▎  | 5817/6098 [01:23<00:08, 34.99it/s]"
     ]
    },
    {
     "name": "stdout",
     "output_type": "stream",
     "text": [
      "✅ Uploaded: images/Animalia/Squamata/Viperidae/piscivorus/a973e52f-16a4-4663-885c-4678968b3ac9.jpg\n",
      "✅ Uploaded: images/Animalia/Squamata/Viperidae/piscivorus/afe1dbbd-f817-45b8-9c76-216b63729de8.jpg\n",
      "✅ Uploaded: images/Animalia/Squamata/Viperidae/piscivorus/e44d20f7-4a14-4108-bc7e-205a52e238fe.jpg\n"
     ]
    },
    {
     "name": "stderr",
     "output_type": "stream",
     "text": [
      "Processing images:  96%|████████████████████████████████████████████████████████▋  | 5856/6098 [01:23<00:03, 65.66it/s]"
     ]
    },
    {
     "name": "stdout",
     "output_type": "stream",
     "text": [
      "✅ Uploaded: images/Animalia/Squamata/Viperidae/rhodostoma/00c47c0e-2618-4d21-a2c8-cc90ad4d9b6d.jpg\n",
      "✅ Uploaded: images/Animalia/Squamata/Viperidae/rhodostoma/0bc6f774-235a-4172-af1a-f0562cd72965.jpg\n",
      "✅ Uploaded: images/Animalia/Squamata/Viperidae/rhodostoma/0de4a5ec-18b4-41b1-b8c2-f1f2bbd901c3.jpg\n",
      "✅ Uploaded: images/Animalia/Squamata/Viperidae/rhodostoma/0fd17a6a-a2bb-4495-9894-db30cef88804.jpg\n",
      "✅ Uploaded: images/Animalia/Squamata/Viperidae/rhodostoma/10d24771-99d9-4acd-ab72-21a6a01769fb.jpg\n",
      "✅ Uploaded: images/Animalia/Squamata/Viperidae/rhodostoma/170d758f-cff0-4412-9d97-4afef0f55b49.jpg\n",
      "✅ Uploaded: images/Animalia/Squamata/Viperidae/rhodostoma/1cee947d-0897-478c-9b73-43124313f267.jpg\n",
      "✅ Uploaded: images/Animalia/Squamata/Viperidae/rhodostoma/1d607fd0-4db6-471a-bbb7-212d650926c9.jpg\n"
     ]
    },
    {
     "name": "stderr",
     "output_type": "stream",
     "text": [
      "Processing images:  96%|████████████████████████████████████████████████████████▊  | 5866/6098 [01:24<00:05, 43.53it/s]"
     ]
    },
    {
     "name": "stdout",
     "output_type": "stream",
     "text": [
      "✅ Uploaded: images/Animalia/Squamata/Viperidae/rhodostoma/20fd82d0-c3f2-4d83-b6e0-0d9b94c86a74.jpg\n",
      "✅ Uploaded: images/Animalia/Squamata/Viperidae/rhodostoma/5081c7d1-1d7c-45fc-8631-a20754faef43.jpg\n",
      "✅ Uploaded: images/Animalia/Squamata/Viperidae/rhodostoma/5edbf946-86bd-409f-8cf3-ffac15f13af0.jpg\n",
      "✅ Uploaded: images/Animalia/Squamata/Viperidae/rhodostoma/6365cb57-41bf-4a2f-b1f3-2b54a88ad067.jpg\n",
      "✅ Uploaded: images/Animalia/Squamata/Viperidae/rhodostoma/65195ce8-ab11-4541-a347-73d1a9369ca8.jpg\n",
      "✅ Uploaded: images/Animalia/Squamata/Viperidae/rhodostoma/9ff7ee82-17ae-437b-ba25-264b041415ee.jpg\n",
      "✅ Uploaded: images/Animalia/Squamata/Viperidae/rhodostoma/a2576b90-c0d8-465c-82bc-5e019b448bbd.jpg\n",
      "✅ Uploaded: images/Animalia/Squamata/Viperidae/rhodostoma/a2644345-2395-4161-a15e-31154121d4f2.jpg\n",
      "✅ Uploaded: images/Animalia/Squamata/Viperidae/rhodostoma/ac9dd318-781a-41c2-b66f-5df4736062b4.jpg\n",
      "✅ Uploaded: images/Animalia/Squamata/Viperidae/rhodostoma/c9cd87ec-3820-4757-8252-476090125b48.jpg\n"
     ]
    },
    {
     "name": "stderr",
     "output_type": "stream",
     "text": [
      "Processing images:  96%|████████████████████████████████████████████████████████▊  | 5874/6098 [01:24<00:06, 32.03it/s]"
     ]
    },
    {
     "name": "stdout",
     "output_type": "stream",
     "text": [
      "✅ Uploaded: images/Animalia/Squamata/Viperidae/rhodostoma/cb582281-baf9-443e-a4d1-cfc31aa01028.jpg\n",
      "✅ Uploaded: images/Animalia/Squamata/Viperidae/rhodostoma/fc5753bc-c8e4-4cb0-9d46-b0aa529acad1.jpg\n",
      "✅ Uploaded: images/Animalia/Squamata/Viperidae/schlegelii/0068771f-5b53-49e2-88c7-96f167ad196f.jpg\n",
      "✅ Uploaded: images/Animalia/Squamata/Viperidae/schlegelii/0f30b007-7d2f-453f-a3b5-ee127a93da7a.jpg\n",
      "✅ Uploaded: images/Animalia/Squamata/Viperidae/schlegelii/24d970af-31e5-4a72-9d2e-491033226778.jpg\n",
      "✅ Uploaded: images/Animalia/Squamata/Viperidae/schlegelii/28159b91-9a3d-4ca6-b7d2-a1bfe5056c54.jpg\n"
     ]
    },
    {
     "name": "stderr",
     "output_type": "stream",
     "text": [
      "Processing images:  96%|████████████████████████████████████████████████████████▉  | 5880/6098 [01:25<00:08, 25.39it/s]"
     ]
    },
    {
     "name": "stdout",
     "output_type": "stream",
     "text": [
      "✅ Uploaded: images/Animalia/Squamata/Viperidae/schlegelii/377ee0d6-6d84-4f88-9608-b60d119766f5.jpg\n",
      "✅ Uploaded: images/Animalia/Squamata/Viperidae/schlegelii/4bd087b2-ab66-46ae-ad88-9a11b1accadb.jpg\n",
      "✅ Uploaded: images/Animalia/Squamata/Viperidae/schlegelii/4cb5bb6f-e5dd-4c51-94ec-e56145f87da3.jpg\n",
      "✅ Uploaded: images/Animalia/Squamata/Viperidae/schlegelii/5e3a455e-0a14-440a-9632-25e924aec637.jpg\n",
      "✅ Uploaded: images/Animalia/Squamata/Viperidae/schlegelii/6fd5eade-6770-4575-baaa-dc1dd06e0ed5.jpg\n"
     ]
    },
    {
     "name": "stderr",
     "output_type": "stream",
     "text": [
      "Processing images:  97%|████████████████████████████████████████████████████████▉  | 5885/6098 [01:25<00:10, 20.25it/s]"
     ]
    },
    {
     "name": "stdout",
     "output_type": "stream",
     "text": [
      "✅ Uploaded: images/Animalia/Squamata/Viperidae/schlegelii/70cb0769-10b4-47f8-bd09-924bcb8a7f5c.jpg\n",
      "✅ Uploaded: images/Animalia/Squamata/Viperidae/schlegelii/74c7d6b7-1f8c-4219-b5cc-520310c3694e.jpg\n",
      "✅ Uploaded: images/Animalia/Squamata/Viperidae/schlegelii/85f5f2fc-ce59-450a-a771-a62a3fa0427b.jpg\n"
     ]
    },
    {
     "name": "stderr",
     "output_type": "stream",
     "text": [
      "Processing images:  97%|████████████████████████████████████████████████████████▉  | 5889/6098 [01:25<00:10, 19.53it/s]"
     ]
    },
    {
     "name": "stdout",
     "output_type": "stream",
     "text": [
      "✅ Uploaded: images/Animalia/Squamata/Viperidae/schlegelii/9ba3d8c0-eb42-42ac-94f0-2cb2839f06ac.jpg\n",
      "✅ Uploaded: images/Animalia/Squamata/Viperidae/schlegelii/9ead8e44-0084-41fd-afa7-5f19b80390d5.jpg\n",
      "✅ Uploaded: images/Animalia/Squamata/Viperidae/schlegelii/aa81d27b-9cb6-45cc-9130-f5fe7a608a2c.jpg\n"
     ]
    },
    {
     "name": "stderr",
     "output_type": "stream",
     "text": [
      "Processing images:  97%|█████████████████████████████████████████████████████████  | 5892/6098 [01:26<00:12, 16.48it/s]"
     ]
    },
    {
     "name": "stdout",
     "output_type": "stream",
     "text": [
      "✅ Uploaded: images/Animalia/Squamata/Viperidae/schlegelii/b37d5621-ea14-4c53-90bf-54dc267fb9c1.jpg\n",
      "✅ Uploaded: images/Animalia/Squamata/Viperidae/schlegelii/daecc04d-ee2f-4d0a-ae4f-f50dcc2ea6ee.jpg\n",
      "✅ Uploaded: images/Animalia/Squamata/Viperidae/schlegelii/e1021d95-53e0-49a2-9f00-4e600011a21f.jpg\n",
      "✅ Uploaded: images/Animalia/Squamata/Viperidae/schlegelii/e80b3cb2-a633-4f18-82d8-8aefab405d7a.jpg\n"
     ]
    },
    {
     "name": "stderr",
     "output_type": "stream",
     "text": [
      "Processing images:  97%|█████████████████████████████████████████████████████████  | 5898/6098 [01:26<00:12, 16.43it/s]"
     ]
    },
    {
     "name": "stdout",
     "output_type": "stream",
     "text": [
      "✅ Uploaded: images/Animalia/Squamata/Viperidae/schlegelii/ea2971f9-e257-4a89-a045-7c48ec3ca5be.jpg\n",
      "✅ Uploaded: images/Animalia/Squamata/Viperidae/stejnegeri/06f8688e-feb0-4503-9b82-69f304ca6249.jpg\n",
      "✅ Uploaded: images/Animalia/Squamata/Viperidae/stejnegeri/0f49bcf4-4525-4fc6-a9f2-50269daf3766.jpg\n",
      "✅ Uploaded: images/Animalia/Squamata/Viperidae/stejnegeri/0ffa23e4-8fa8-4350-9cff-935efd1f188f.jpg\n"
     ]
    },
    {
     "name": "stderr",
     "output_type": "stream",
     "text": [
      "Processing images:  97%|█████████████████████████████████████████████████████████  | 5900/6098 [01:26<00:12, 15.54it/s]"
     ]
    },
    {
     "name": "stdout",
     "output_type": "stream",
     "text": [
      "✅ Uploaded: images/Animalia/Squamata/Viperidae/stejnegeri/12ce7701-cf0e-4354-b4e3-d99568ead93b.jpg\n",
      "✅ Uploaded: images/Animalia/Squamata/Viperidae/stejnegeri/1b432139-8ce7-4f86-bf87-c2e04dfca518.jpg\n"
     ]
    },
    {
     "name": "stderr",
     "output_type": "stream",
     "text": [
      "Processing images:  97%|█████████████████████████████████████████████████████████  | 5902/6098 [01:27<00:13, 14.05it/s]"
     ]
    },
    {
     "name": "stdout",
     "output_type": "stream",
     "text": [
      "✅ Uploaded: images/Animalia/Squamata/Viperidae/stejnegeri/3d10d3ce-1fc5-443d-83c4-82e54d371a86.jpg\n",
      "✅ Uploaded: images/Animalia/Squamata/Viperidae/stejnegeri/4d15a142-a9f0-43a9-8435-489ed853256f.jpg\n",
      "✅ Uploaded: images/Animalia/Squamata/Viperidae/stejnegeri/4edbf4b2-9889-4be6-8a09-2d349a065889.jpg\n",
      "✅ Uploaded: images/Animalia/Squamata/Viperidae/stejnegeri/5f972a21-cc58-4590-a4b1-a8eb77d9248c.jpg\n"
     ]
    },
    {
     "name": "stderr",
     "output_type": "stream",
     "text": [
      "Processing images:  97%|█████████████████████████████████████████████████████████▏ | 5907/6098 [01:27<00:13, 14.09it/s]"
     ]
    },
    {
     "name": "stdout",
     "output_type": "stream",
     "text": [
      "✅ Uploaded: images/Animalia/Squamata/Viperidae/stejnegeri/61a40c90-9409-416f-88aa-b68cae29bcba.jpg\n",
      "✅ Uploaded: images/Animalia/Squamata/Viperidae/stejnegeri/6b38dac1-0f2d-48df-90a9-fd299e55ea78.jpg\n",
      "✅ Uploaded: images/Animalia/Squamata/Viperidae/stejnegeri/ad0a44d9-e2c5-4da3-a979-164a44921ae2.jpg\n"
     ]
    },
    {
     "name": "stderr",
     "output_type": "stream",
     "text": [
      "Processing images:  97%|█████████████████████████████████████████████████████████▏ | 5909/6098 [01:27<00:14, 13.15it/s]"
     ]
    },
    {
     "name": "stdout",
     "output_type": "stream",
     "text": [
      "✅ Uploaded: images/Animalia/Squamata/Viperidae/stejnegeri/b6a3c7d0-6010-497f-8389-ac7cc441dc90.jpg\n",
      "✅ Uploaded: images/Animalia/Squamata/Viperidae/stejnegeri/be695642-8afe-4dc8-8b8a-d09198f6ebe4.jpg\n",
      "✅ Uploaded: images/Animalia/Squamata/Viperidae/stejnegeri/cf9df5bc-f802-459e-9ef9-1918cedf2d4c.jpg\n"
     ]
    },
    {
     "name": "stderr",
     "output_type": "stream",
     "text": [
      "Processing images:  97%|█████████████████████████████████████████████████████████▏ | 5913/6098 [01:27<00:13, 13.91it/s]"
     ]
    },
    {
     "name": "stdout",
     "output_type": "stream",
     "text": [
      "✅ Uploaded: images/Animalia/Squamata/Viperidae/stejnegeri/d2945c3e-d9c0-4a2c-9c69-3c165f0fe3c7.jpg\n",
      "✅ Uploaded: images/Animalia/Squamata/Viperidae/stejnegeri/da5131e8-cfe7-4aa3-b243-d14a396e94b8.jpg\n",
      "✅ Uploaded: images/Animalia/Squamata/Viperidae/stejnegeri/dc34b3ae-9561-48bc-82f2-e673f51e0765.jpg\n"
     ]
    },
    {
     "name": "stderr",
     "output_type": "stream",
     "text": [
      "Processing images:  97%|█████████████████████████████████████████████████████████▏ | 5915/6098 [01:28<00:13, 13.22it/s]"
     ]
    },
    {
     "name": "stdout",
     "output_type": "stream",
     "text": [
      "✅ Uploaded: images/Animalia/Squamata/Viperidae/stejnegeri/e0f7069a-78ed-49d6-be3b-6096d481db9e.jpg\n",
      "✅ Uploaded: images/Animalia/Squamata/Viperidae/stejnegeri/e5e9acc1-6cf5-4429-869b-0d166710919c.jpg\n",
      "✅ Uploaded: images/Animalia/Squamata/Viperidae/sumatranus/4fcb81f5-f0bf-49af-906d-7f1d8e1bd673.jpg\n",
      "✅ Uploaded: images/Animalia/Squamata/Viperidae/sumatranus/5ac51726-f91b-41f8-95ab-86eea285b746.jpg\n"
     ]
    },
    {
     "name": "stderr",
     "output_type": "stream",
     "text": [
      "Processing images:  97%|█████████████████████████████████████████████████████████▍ | 5938/6098 [01:28<00:02, 53.90it/s]"
     ]
    },
    {
     "name": "stdout",
     "output_type": "stream",
     "text": [
      "✅ Uploaded: images/Animalia/Squamata/Viperidae/sumatranus/7cfcd2f6-d84f-42f1-b616-205d8e7daeb6.jpg\n",
      "✅ Uploaded: images/Animalia/Squamata/Viperidae/sumatranus/7e3cbf98-03ea-4024-9dc5-cd111bd28e33.jpg\n",
      "✅ Uploaded: images/Animalia/Squamata/Viperidae/sumatranus/a5b11873-750e-48cf-b5c5-9246f39ffdc8.jpg\n",
      "✅ Uploaded: images/Animalia/Squamata/Viperidae/sumatranus/c8deb7e8-7a4c-451c-b46d-139809abbd5f.jpg\n",
      "✅ Uploaded: images/Animalia/Squamata/Viperidae/sumatranus/c9e74060-887d-42f0-b6ea-5b2a3b0ac4d5.jpg\n",
      "✅ Uploaded: images/Animalia/Squamata/Viperidae/sumatranus/d2540ccb-ad80-4878-8a06-514991ff223e.jpg\n"
     ]
    },
    {
     "name": "stderr",
     "output_type": "stream",
     "text": [
      "Processing images:  99%|█████████████████████████████████████████████████████████▎| 6023/6098 [01:28<00:00, 132.04it/s]"
     ]
    },
    {
     "name": "stdout",
     "output_type": "stream",
     "text": [
      "✅ Uploaded: images/Animalia/Squamata/Viperidae/sumatranus/d7608e1b-e178-46ea-8fec-7d862a455765.jpg\n",
      "✅ Uploaded: images/Animalia/Squamata/Xenopeltidae/hainanensis/5b2e9440-6362-495b-bd48-1cc1193e38b1.jpg\n",
      "✅ Uploaded: images/Animalia/Squamata/Xenopeltidae/unicolor/2b148f61-387d-4516-86b9-accc20f575e0.jpg\n",
      "✅ Uploaded: images/Animalia/Squamata/Xenopeltidae/unicolor/3ed388d4-4544-41ff-bdb1-0db39be85390.jpg\n"
     ]
    },
    {
     "name": "stderr",
     "output_type": "stream",
     "text": [
      "Processing images:  99%|█████████████████████████████████████████████████████████▍| 6044/6098 [01:28<00:00, 132.20it/s]"
     ]
    },
    {
     "name": "stdout",
     "output_type": "stream",
     "text": [
      "✅ Uploaded: images/Animalia/Squamata/Xenopeltidae/unicolor/4c535807-e016-4f77-ac0e-04688671ed79.jpg\n",
      "✅ Uploaded: images/Animalia/Squamata/Xenopeltidae/unicolor/64e16125-865c-4720-b759-ddab81db7fb9.jpg\n",
      "✅ Uploaded: images/Animalia/Squamata/Xenopeltidae/unicolor/7a883c30-3f6d-4a80-b063-64b8d4abe073.jpg\n"
     ]
    },
    {
     "name": "stderr",
     "output_type": "stream",
     "text": [
      "Processing images: 100%|███████████████████████████████████████████████████████████| 6098/6098 [01:29<00:00, 68.40it/s]"
     ]
    },
    {
     "name": "stdout",
     "output_type": "stream",
     "text": [
      "✅ Uploaded: images/Animalia/Squamata/Xenopeltidae/unicolor/8cbc5e91-b510-45dd-bfed-8954a037e712.jpg\n",
      "✅ Uploaded: images/Animalia/Squamata/Xenopeltidae/unicolor/dadaa2b3-70ce-4c8c-8a45-2a5d03f1738b.jpg\n",
      "\n",
      "✅ All Persistent Landing images processed.\n",
      "🟢 Processed successfully: 1166\n",
      "🟡 Skipped (existing/invalid): 4932\n",
      "🔴 Failed conversions: 0\n"
     ]
    },
    {
     "name": "stderr",
     "output_type": "stream",
     "text": [
      "\n"
     ]
    }
   ],
   "source": [
    "\"\"\"\n",
    "-Arman Bazarchi-\n",
    "Formatted_Images\n",
    "\n",
    "here we  Move all images from Persistent Landing to Formatted Zone,\n",
    "we ensure that all images have same format JPEG, and have a correct path.\n",
    "connects to minIO, creates formatted-zone bucket, raises an error if pesistant_landing or temporal-zone does not exist.\n",
    "reads images from persistent and converts to only JPEG and store in formatted-zone with same foldering structure.\n",
    "it avoids storing duplicate data in formatted-zone, also removes any temporal file in local storage.\n",
    "\n",
    "\"\"\"\n",
    "\n",
    "from minio import Minio\n",
    "from PIL import Image, UnidentifiedImageError\n",
    "import io\n",
    "import re\n",
    "import os\n",
    "from tqdm import tqdm\n",
    "\n",
    "# ==============================\n",
    "# 1. Configuration\n",
    "# ==============================\n",
    "def process_formatted_images(   \n",
    "    MINIO = \"localhost:9000\",\n",
    "    ACCESS_KEY = \"admin\",\n",
    "    SECRET_KEY = \"password123\"):\n",
    "\n",
    "    LANDING_ZONE = \"temporal-zone\"\n",
    "    PERSISTENT_PREFIX = \"persistent_landing/images\"\n",
    "    FORMATTED_PREFIX = \"images\"  # images folder in formatted-zone bucket\n",
    "    FORMATTED_ZONE = \"formatted-zone\"\n",
    "    \n",
    "    client = Minio(\n",
    "        MINIO,\n",
    "        access_key=ACCESS_KEY,\n",
    "        secret_key=SECRET_KEY,\n",
    "        secure=False\n",
    "    )\n",
    "    \n",
    "    # break if temporal landing or temporal-zone does not exist\n",
    "    if not client.bucket_exists(LANDING_ZONE):\n",
    "        sys.exit(\" ERROR: Root bucket 'Landing' does not exist in MinIO.\")\n",
    "    \n",
    "    persistent_objects = list(client.list_objects(LANDING_ZONE, prefix=f\"{PERSISTENT_PREFIX}/\", recursive=False))\n",
    "    if not persistent_objects:\n",
    "        raise Exception(\" Required prefix '{PERSISTENT_PREFIX}/' not found inside '{LANDING_ZONE}' bucket.\")\n",
    "    \n",
    "    # Ensure formatted-zone bucket exists\n",
    "    if not client.bucket_exists(FORMATTED_ZONE):\n",
    "        client.make_bucket(FORMATTED_ZONE)\n",
    "        print(\" Created formatted-zone bucket\")\n",
    "    else:\n",
    "        print(\" Formatted-zone bucket already exists\")\n",
    "    \n",
    "    # ==============================\n",
    "    # 2. Scan existing formatted images\n",
    "    # ==============================\n",
    "    existing_formatted_uuids = set()\n",
    "    for obj in client.list_objects(FORMATTED_ZONE, prefix=FORMATTED_PREFIX + \"/\", recursive=True):\n",
    "        match = re.match(r\".*/([a-f0-9\\-]+)\\.jpg\", obj.object_name)\n",
    "        if match:\n",
    "            existing_formatted_uuids.add(match.group(1))\n",
    "    \n",
    "    print(f\" Found {len(existing_formatted_uuids)} existing formatted images.\")\n",
    "    \n",
    "    # ==============================\n",
    "    # 3. List all files under Persistent Landing (any extension)\n",
    "    # ==============================\n",
    "    persistent_files = list(client.list_objects(LANDING_ZONE, prefix=PERSISTENT_PREFIX, recursive=True))\n",
    "    print(f\" Found {len(persistent_files)} files in Persistent Landing.\")\n",
    "    \n",
    "    processed = 0\n",
    "    skipped = 0\n",
    "    failed = 0\n",
    "    \n",
    "    for obj in tqdm(persistent_files, desc=\"Processing images\"):\n",
    "        try:\n",
    "            # Extract UUID from filename (e.g., *.jpg, *.png, *.webp, etc.)\n",
    "            match = re.match(rf\"{PERSISTENT_PREFIX}/.+?/([a-f0-9\\-]+)\\.\\w+$\", obj.object_name)\n",
    "            if not match:\n",
    "                print(f\" Skipping invalid filename: {obj.object_name}\")\n",
    "                skipped += 1\n",
    "                continue\n",
    "    \n",
    "            img_uuid = match.group(1)\n",
    "    \n",
    "            # Skip if already processed\n",
    "            if img_uuid in existing_formatted_uuids:\n",
    "                skipped += 1\n",
    "                continue\n",
    "    \n",
    "    \n",
    "            #  Download image\n",
    "            data = client.get_object(LANDING_ZONE, obj.object_name)\n",
    "            img_bytes = data.read()\n",
    "            data.close()\n",
    "            data.release_conn()\n",
    "    \n",
    "            # ==============================\n",
    "            # 4. Convert to JPEG \n",
    "            # ==============================\n",
    "            try:\n",
    "                img = Image.open(io.BytesIO(img_bytes))\n",
    "                buf = io.BytesIO()\n",
    "                img.convert(\"RGB\").save(buf, format=\"JPEG\")\n",
    "                img_bytes = buf.getvalue()\n",
    "            except UnidentifiedImageError:\n",
    "                print(f\" Could not identify as image: {obj.object_name}\")\n",
    "                failed += 1\n",
    "                continue\n",
    "    \n",
    "            #  Construct formatted path\n",
    "            formatted_path = obj.object_name.replace(PERSISTENT_PREFIX, FORMATTED_PREFIX)\n",
    "            formatted_path = re.sub(r\"\\.\\w+$\", \".jpg\", formatted_path)  # force .jpg extension\n",
    "    \n",
    "            # ==============================\n",
    "            # 5. Upload formatted image\n",
    "            # ==============================\n",
    "            client.put_object(\n",
    "                FORMATTED_ZONE,\n",
    "                formatted_path,\n",
    "                data=io.BytesIO(img_bytes),\n",
    "                length=len(img_bytes),\n",
    "                content_type=\"image/jpeg\"\n",
    "            )\n",
    "    \n",
    "            existing_formatted_uuids.add(img_uuid)\n",
    "            processed += 1\n",
    "            print(f\" Uploaded: {formatted_path}\")\n",
    "    \n",
    "        except Exception as e:\n",
    "            print(f\" Error processing {obj.object_name}: {e}\")\n",
    "            failed += 1\n",
    "            continue\n",
    "    \n",
    "    # ==============================\n",
    "    # 6. Summary\n",
    "    # ==============================\n",
    "    print(\"\\n All Persistent Landing images processed.\")\n",
    "    print(f\" Processed successfully: {processed}\")\n",
    "    print(f\" Skipped (existing/invalid): {skipped}\")\n",
    "    print(f\" Failed conversions: {failed}\")\n",
    "\n",
    "process_formatted_images();"
   ]
  },
  {
   "cell_type": "code",
   "execution_count": null,
   "id": "ae2e9dc7-82f8-4677-b16d-8bc8c1778345",
   "metadata": {},
   "outputs": [],
   "source": []
  }
 ],
 "metadata": {
  "kernelspec": {
   "display_name": "Python 3 (ipykernel)",
   "language": "python",
   "name": "python3"
  },
  "language_info": {
   "codemirror_mode": {
    "name": "ipython",
    "version": 3
   },
   "file_extension": ".py",
   "mimetype": "text/x-python",
   "name": "python",
   "nbconvert_exporter": "python",
   "pygments_lexer": "ipython3",
   "version": "3.12.6"
  }
 },
 "nbformat": 4,
 "nbformat_minor": 5
}
